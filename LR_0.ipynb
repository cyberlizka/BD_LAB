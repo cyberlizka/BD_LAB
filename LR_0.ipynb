{
  "nbformat": 4,
  "nbformat_minor": 0,
  "metadata": {
    "colab": {
      "provenance": []
    },
    "kernelspec": {
      "name": "python3",
      "display_name": "Python 3"
    }
  },
  "cells": [
    {
      "cell_type": "markdown",
      "metadata": {
        "id": "82OvPKEiEqjc"
      },
      "source": [
        "# Введение в MapReduce модель на Python\n"
      ]
    },
    {
      "cell_type": "code",
      "metadata": {
        "id": "JQ2cvXLjICmI"
      },
      "source": [
        "from typing import NamedTuple # requires python 3.6+\n",
        "from typing import Iterator"
      ],
      "execution_count": 127,
      "outputs": []
    },
    {
      "cell_type": "code",
      "metadata": {
        "id": "yjPHumVwEyEg"
      },
      "source": [
        "def MAP(_, row:NamedTuple):\n",
        "  if (row.gender == 'female'):\n",
        "    yield (row.age, row)\n",
        "\n",
        "def REDUCE(age:str, rows:Iterator[NamedTuple]):\n",
        "  sum = 0\n",
        "  count = 0\n",
        "  for row in rows:\n",
        "    sum += row.social_contacts\n",
        "    count += 1\n",
        "  if (count > 0):\n",
        "    yield (age, sum/count)\n",
        "  else:\n",
        "    yield (age, 0)"
      ],
      "execution_count": 128,
      "outputs": []
    },
    {
      "cell_type": "markdown",
      "metadata": {
        "id": "vBKMgpG_ilaZ"
      },
      "source": [
        "Модель элемента данных"
      ]
    },
    {
      "cell_type": "code",
      "metadata": {
        "id": "Rv-XIjhTJPx3"
      },
      "source": [
        "class User(NamedTuple):\n",
        "  id: int\n",
        "  age: str\n",
        "  social_contacts: int\n",
        "  gender: str"
      ],
      "execution_count": 129,
      "outputs": []
    },
    {
      "cell_type": "code",
      "metadata": {
        "id": "5KV0Ze2vQgu5"
      },
      "source": [
        "input_collection = [\n",
        "    User(id=0, age=55, gender='male', social_contacts=20),\n",
        "    User(id=1, age=25, gender='female', social_contacts=240),\n",
        "    User(id=2, age=25, gender='female', social_contacts=500),\n",
        "    User(id=3, age=33, gender='female', social_contacts=800)\n",
        "]"
      ],
      "execution_count": 130,
      "outputs": []
    },
    {
      "cell_type": "markdown",
      "metadata": {
        "id": "YFeqzyZxZIFZ"
      },
      "source": [
        "Функция RECORDREADER моделирует чтение элементов с диска или по сети."
      ]
    },
    {
      "cell_type": "code",
      "metadata": {
        "id": "S5HR4E_GQoMJ"
      },
      "source": [
        "def RECORDREADER():\n",
        "  return [(u.id, u) for u in input_collection]"
      ],
      "execution_count": 131,
      "outputs": []
    },
    {
      "cell_type": "code",
      "metadata": {
        "id": "NeEoWla-ROUy",
        "colab": {
          "base_uri": "https://localhost:8080/"
        },
        "outputId": "c567627b-cadc-41d0-87d7-c149df837f27"
      },
      "source": [
        "list(RECORDREADER())"
      ],
      "execution_count": 132,
      "outputs": [
        {
          "output_type": "execute_result",
          "data": {
            "text/plain": [
              "[(0, User(id=0, age=55, social_contacts=20, gender='male')),\n",
              " (1, User(id=1, age=25, social_contacts=240, gender='female')),\n",
              " (2, User(id=2, age=25, social_contacts=500, gender='female')),\n",
              " (3, User(id=3, age=33, social_contacts=800, gender='female'))]"
            ]
          },
          "metadata": {},
          "execution_count": 132
        }
      ]
    },
    {
      "cell_type": "code",
      "metadata": {
        "id": "YB8orgPSZs8M"
      },
      "source": [
        "def flatten(nested_iterable):\n",
        "  for iterable in nested_iterable:\n",
        "    for element in iterable:\n",
        "      yield element"
      ],
      "execution_count": 133,
      "outputs": []
    },
    {
      "cell_type": "code",
      "metadata": {
        "id": "74oyvDLaRmd5",
        "colab": {
          "base_uri": "https://localhost:8080/"
        },
        "outputId": "91bf431f-d6eb-48b6-abd3-09c46272f981"
      },
      "source": [
        "map_output = flatten(map(lambda x: MAP(*x), RECORDREADER()))\n",
        "map_output = list(map_output) # materialize\n",
        "map_output"
      ],
      "execution_count": 134,
      "outputs": [
        {
          "output_type": "execute_result",
          "data": {
            "text/plain": [
              "[(25, User(id=1, age=25, social_contacts=240, gender='female')),\n",
              " (25, User(id=2, age=25, social_contacts=500, gender='female')),\n",
              " (33, User(id=3, age=33, social_contacts=800, gender='female'))]"
            ]
          },
          "metadata": {},
          "execution_count": 134
        }
      ]
    },
    {
      "cell_type": "code",
      "metadata": {
        "id": "8ncYDJ3-VzDn"
      },
      "source": [
        "def groupbykey(iterable):\n",
        "  t = {}\n",
        "  for (k2, v2) in iterable:\n",
        "    t[k2] = t.get(k2, []) + [v2]\n",
        "  return t.items()"
      ],
      "execution_count": 135,
      "outputs": []
    },
    {
      "cell_type": "code",
      "metadata": {
        "id": "cKzY_6COWOA2",
        "colab": {
          "base_uri": "https://localhost:8080/"
        },
        "outputId": "5d8f8c50-0eeb-4789-9eba-1267007d98c7"
      },
      "source": [
        "shuffle_output = groupbykey(map_output)\n",
        "shuffle_output = list(shuffle_output)\n",
        "shuffle_output"
      ],
      "execution_count": 136,
      "outputs": [
        {
          "output_type": "execute_result",
          "data": {
            "text/plain": [
              "[(25,\n",
              "  [User(id=1, age=25, social_contacts=240, gender='female'),\n",
              "   User(id=2, age=25, social_contacts=500, gender='female')]),\n",
              " (33, [User(id=3, age=33, social_contacts=800, gender='female')])]"
            ]
          },
          "metadata": {},
          "execution_count": 136
        }
      ]
    },
    {
      "cell_type": "code",
      "metadata": {
        "id": "NlA7lkDDYL0t",
        "colab": {
          "base_uri": "https://localhost:8080/"
        },
        "outputId": "700fe953-0bbf-4154-8451-03e8b1817110"
      },
      "source": [
        "reduce_output = flatten(map(lambda x: REDUCE(*x), shuffle_output))\n",
        "reduce_output = list(reduce_output)\n",
        "reduce_output"
      ],
      "execution_count": 137,
      "outputs": [
        {
          "output_type": "execute_result",
          "data": {
            "text/plain": [
              "[(25, 370.0), (33, 800.0)]"
            ]
          },
          "metadata": {},
          "execution_count": 137
        }
      ]
    },
    {
      "cell_type": "markdown",
      "metadata": {
        "id": "xf6qhHEtd6bI"
      },
      "source": [
        "Все действия одним конвейером!"
      ]
    },
    {
      "cell_type": "code",
      "metadata": {
        "id": "dZaQGYxCdpw5",
        "colab": {
          "base_uri": "https://localhost:8080/"
        },
        "outputId": "cf55d766-0e3a-4b27-f7f8-1476597dbb22"
      },
      "source": [
        "list(flatten(map(lambda x: REDUCE(*x), groupbykey(flatten(map(lambda x: MAP(*x), RECORDREADER()))))))"
      ],
      "execution_count": 138,
      "outputs": [
        {
          "output_type": "execute_result",
          "data": {
            "text/plain": [
              "[(25, 370.0), (33, 800.0)]"
            ]
          },
          "metadata": {},
          "execution_count": 138
        }
      ]
    },
    {
      "cell_type": "markdown",
      "metadata": {
        "id": "Vq3EWRIpwSiJ"
      },
      "source": [
        "# **MapReduce**\n",
        "Выделим общую для всех пользователей часть системы в отдельную функцию высшего порядка. Это наиболее простая модель MapReduce, без учёта распределённого хранения данных.\n",
        "\n",
        "Пользователь для решения своей задачи реализует RECORDREADER, MAP, REDUCE."
      ]
    },
    {
      "cell_type": "code",
      "metadata": {
        "id": "V1PZeQMwwVjc"
      },
      "source": [
        "def flatten(nested_iterable):\n",
        "  for iterable in nested_iterable:\n",
        "    for element in iterable:\n",
        "      yield element\n",
        "\n",
        "def groupbykey(iterable):\n",
        "  t = {}\n",
        "  for (k2, v2) in iterable:\n",
        "    t[k2] = t.get(k2, []) + [v2]\n",
        "  return t.items()\n",
        "\n",
        "def MapReduce(RECORDREADER, MAP, REDUCE):\n",
        "  return flatten(map(lambda x: REDUCE(*x), groupbykey(flatten(map(lambda x: MAP(*x), RECORDREADER())))))"
      ],
      "execution_count": 139,
      "outputs": []
    },
    {
      "cell_type": "markdown",
      "metadata": {
        "id": "iFIVrimep678"
      },
      "source": [
        "## Спецификация MapReduce\n",
        "\n",
        "\n",
        "\n",
        "```\n",
        "f (k1, v1) -> (k2,v2)*\n",
        "g (k2, v2*) -> (k3,v3)*\n",
        "\n",
        "mapreduce ((k1,v1)*) -> (k3,v3)*\n",
        "groupby ((k2,v2)*) -> (k2,v2*)*\n",
        "flatten (e2**) -> e2*\n",
        "\n",
        "mapreduce .map(f).flatten.groupby(k2).map(g).flatten\n",
        "```\n",
        "\n",
        "\n"
      ]
    },
    {
      "cell_type": "markdown",
      "metadata": {
        "id": "QtTFyqke3KGe"
      },
      "source": [
        "# Примеры"
      ]
    },
    {
      "cell_type": "markdown",
      "metadata": {
        "id": "BNhh5763w5Vn"
      },
      "source": [
        "## SQL"
      ]
    },
    {
      "cell_type": "code",
      "metadata": {
        "id": "QkyurnvGxBGk",
        "colab": {
          "base_uri": "https://localhost:8080/"
        },
        "outputId": "0f457813-5c18-460b-ecb9-9d625e216e01"
      },
      "source": [
        "from typing import NamedTuple # requires python 3.6+\n",
        "from typing import Iterator\n",
        "\n",
        "class User(NamedTuple):\n",
        "  id: int\n",
        "  age: str\n",
        "  social_contacts: int\n",
        "  gender: str\n",
        "\n",
        "input_collection = [\n",
        "    User(id=0, age=55, gender='male', social_contacts=20),\n",
        "    User(id=1, age=25, gender='female', social_contacts=240),\n",
        "    User(id=2, age=25, gender='female', social_contacts=500),\n",
        "    User(id=3, age=33, gender='female', social_contacts=800)\n",
        "]\n",
        "\n",
        "def MAP(_, row:NamedTuple):\n",
        "  if (row.gender == 'female'):\n",
        "    yield (row.age, row)\n",
        "\n",
        "def REDUCE(age:str, rows:Iterator[NamedTuple]):\n",
        "  sum = 0\n",
        "  count = 0\n",
        "  for row in rows:\n",
        "    sum += row.social_contacts\n",
        "    count += 1\n",
        "  if (count > 0):\n",
        "    yield (age, sum/count)\n",
        "  else:\n",
        "    yield (age, 0)\n",
        "\n",
        "def RECORDREADER():\n",
        "  return [(u.id, u) for u in input_collection]\n",
        "\n",
        "output = MapReduce(RECORDREADER, MAP, REDUCE)\n",
        "output = list(output)\n",
        "output"
      ],
      "execution_count": 140,
      "outputs": [
        {
          "output_type": "execute_result",
          "data": {
            "text/plain": [
              "[(25, 370.0), (33, 800.0)]"
            ]
          },
          "metadata": {},
          "execution_count": 140
        }
      ]
    },
    {
      "cell_type": "markdown",
      "metadata": {
        "id": "kNKYIeerx0nY"
      },
      "source": [
        "## Matrix-Vector multiplication"
      ]
    },
    {
      "cell_type": "code",
      "metadata": {
        "id": "rwcntRcCyi1V",
        "colab": {
          "base_uri": "https://localhost:8080/"
        },
        "outputId": "f895d232-ae79-4435-87ef-e3e526cb2db3"
      },
      "source": [
        "from typing import Iterator\n",
        "import numpy as np\n",
        "\n",
        "mat = np.ones((5,4))\n",
        "vec = np.random.rand(4) # in-memory vector in all map tasks\n",
        "\n",
        "def MAP(coordinates:(int, int), value:int):\n",
        "  i, j = coordinates\n",
        "  yield (i, value*vec[j])\n",
        "\n",
        "def REDUCE(i:int, products:Iterator[NamedTuple]):\n",
        "  sum = 0\n",
        "  for p in products:\n",
        "    sum += p\n",
        "  yield (i, sum)\n",
        "\n",
        "def RECORDREADER():\n",
        "  for i in range(mat.shape[0]):\n",
        "    for j in range(mat.shape[1]):\n",
        "      yield ((i, j), mat[i,j])\n",
        "\n",
        "output = MapReduce(RECORDREADER, MAP, REDUCE)\n",
        "output = list(output)\n",
        "output"
      ],
      "execution_count": 141,
      "outputs": [
        {
          "output_type": "execute_result",
          "data": {
            "text/plain": [
              "[(0, 2.2390201069521387),\n",
              " (1, 2.2390201069521387),\n",
              " (2, 2.2390201069521387),\n",
              " (3, 2.2390201069521387),\n",
              " (4, 2.2390201069521387)]"
            ]
          },
          "metadata": {},
          "execution_count": 141
        }
      ]
    },
    {
      "cell_type": "markdown",
      "metadata": {
        "id": "ruZREYdi2o4O"
      },
      "source": [
        "## Inverted index"
      ]
    },
    {
      "cell_type": "code",
      "metadata": {
        "id": "vt9H9Alf3TYv",
        "colab": {
          "base_uri": "https://localhost:8080/"
        },
        "outputId": "480811c6-f5e3-46f6-faa0-dec67dc5f9bb"
      },
      "source": [
        "from typing import Iterator\n",
        "\n",
        "d1 = \"it is what it is\"\n",
        "d2 = \"what is it\"\n",
        "d3 = \"it is a banana\"\n",
        "documents = [d1, d2, d3]\n",
        "\n",
        "def RECORDREADER():\n",
        "  for (docid, document) in enumerate(documents):\n",
        "    yield (\"{}\".format(docid), document)\n",
        "\n",
        "def MAP(docId:str, body:str):\n",
        "  for word in set(body.split(' ')):\n",
        "    yield (word, docId)\n",
        "\n",
        "def REDUCE(word:str, docIds:Iterator[str]):\n",
        "  yield (word, sorted(docIds))\n",
        "\n",
        "output = MapReduce(RECORDREADER, MAP, REDUCE)\n",
        "output = list(output)\n",
        "output"
      ],
      "execution_count": 142,
      "outputs": [
        {
          "output_type": "execute_result",
          "data": {
            "text/plain": [
              "[('is', ['0', '1', '2']),\n",
              " ('what', ['0', '1']),\n",
              " ('it', ['0', '1', '2']),\n",
              " ('banana', ['2']),\n",
              " ('a', ['2'])]"
            ]
          },
          "metadata": {},
          "execution_count": 142
        }
      ]
    },
    {
      "cell_type": "markdown",
      "metadata": {
        "id": "R7az-6DA6qr2"
      },
      "source": [
        "## WordCount"
      ]
    },
    {
      "cell_type": "code",
      "metadata": {
        "id": "dN-nbtgG6uYG",
        "colab": {
          "base_uri": "https://localhost:8080/"
        },
        "outputId": "709de977-ab71-41de-b3d7-14adcf2c2d10"
      },
      "source": [
        "from typing import Iterator\n",
        "\n",
        "d1 = \"\"\"\n",
        "it is what it is\n",
        "it is what it is\n",
        "it is what it is\"\"\"\n",
        "d2 = \"\"\"\n",
        "what is it\n",
        "what is it\"\"\"\n",
        "d3 = \"\"\"\n",
        "it is a banana\"\"\"\n",
        "documents = [d1, d2, d3]\n",
        "\n",
        "def RECORDREADER():\n",
        "  for (docid, document) in enumerate(documents):\n",
        "    for (lineid, line) in enumerate(document.split('\\n')):\n",
        "      yield (\"{}:{}\".format(docid,lineid), line)\n",
        "\n",
        "def MAP(docId:str, line:str):\n",
        "  for word in line.split(\" \"):\n",
        "    yield (word, 1)\n",
        "\n",
        "def REDUCE(word:str, counts:Iterator[int]):\n",
        "  sum = 0\n",
        "  for c in counts:\n",
        "    sum += c\n",
        "  yield (word, sum)\n",
        "\n",
        "output = MapReduce(RECORDREADER, MAP, REDUCE)\n",
        "output = list(output)\n",
        "output"
      ],
      "execution_count": 143,
      "outputs": [
        {
          "output_type": "execute_result",
          "data": {
            "text/plain": [
              "[('', 3), ('it', 9), ('is', 9), ('what', 5), ('a', 1), ('banana', 1)]"
            ]
          },
          "metadata": {},
          "execution_count": 143
        }
      ]
    },
    {
      "cell_type": "markdown",
      "metadata": {
        "id": "h-jRAcYCAkkk"
      },
      "source": [
        "# MapReduce Distributed\n",
        "\n",
        "Добавляется в модель фабрика RECORDREARER-ов --- INPUTFORMAT, функция распределения промежуточных результатов по партициям PARTITIONER, и функция COMBINER для частичной аггрегации промежуточных результатов до распределения по новым партициям."
      ]
    },
    {
      "cell_type": "code",
      "metadata": {
        "id": "nw-b-xJsApgW"
      },
      "source": [
        "def flatten(nested_iterable):\n",
        "  for iterable in nested_iterable:\n",
        "    for element in iterable:\n",
        "      yield element\n",
        "\n",
        "def groupbykey(iterable):\n",
        "  t = {}\n",
        "  for (k2, v2) in iterable:\n",
        "    t[k2] = t.get(k2, []) + [v2]\n",
        "  return t.items()\n",
        "\n",
        "def groupbykey_distributed(map_partitions, PARTITIONER):\n",
        "  global reducers\n",
        "  partitions = [dict() for _ in range(reducers)]\n",
        "  for map_partition in map_partitions:\n",
        "    for (k2, v2) in map_partition:\n",
        "      p = partitions[PARTITIONER(k2)]\n",
        "      p[k2] = p.get(k2, []) + [v2]\n",
        "  return [(partition_id, sorted(partition.items(), key=lambda x: x[0])) for (partition_id, partition) in enumerate(partitions)]\n",
        "\n",
        "def PARTITIONER(obj):\n",
        "  global reducers\n",
        "  return hash(obj) % reducers\n",
        "\n",
        "def MapReduceDistributed(INPUTFORMAT, MAP, REDUCE, PARTITIONER=PARTITIONER, COMBINER=None):\n",
        "  map_partitions = map(lambda record_reader: flatten(map(lambda k1v1: MAP(*k1v1), record_reader)), INPUTFORMAT())\n",
        "  if COMBINER != None:\n",
        "    map_partitions = map(lambda map_partition: flatten(map(lambda k2v2: COMBINER(*k2v2), groupbykey(map_partition))), map_partitions)\n",
        "  reduce_partitions = groupbykey_distributed(map_partitions, PARTITIONER) # shuffle\n",
        "  reduce_outputs = map(lambda reduce_partition: (reduce_partition[0], flatten(map(lambda reduce_input_group: REDUCE(*reduce_input_group), reduce_partition[1]))), reduce_partitions)\n",
        "\n",
        "  print(\"{} key-value pairs were sent over a network.\".format(sum([len(vs) for (k,vs) in flatten([partition for (partition_id, partition) in reduce_partitions])])))\n",
        "  return reduce_outputs"
      ],
      "execution_count": 144,
      "outputs": []
    },
    {
      "cell_type": "markdown",
      "metadata": {
        "id": "kxirlf3XqZxY"
      },
      "source": [
        "## Спецификация MapReduce Distributed\n",
        "\n",
        "\n",
        "```\n",
        "f (k1, v1) -> (k2,v2)*\n",
        "g (k2, v2*) -> (k3,v3)*\n",
        "\n",
        "e1 (k1, v1)\n",
        "e2 (k2, v2)\n",
        "partition1 (k2, v2)*\n",
        "partition2 (k2, v2*)*\n",
        "\n",
        "flatmap (e1->e2*, e1*) -> partition1*\n",
        "groupby (partition1*) -> partition2*\n",
        "\n",
        "mapreduce ((k1,v1)*) -> (k3,v3)*\n",
        "mapreduce .flatmap(f).groupby(k2).flatmap(g)\n",
        "```\n",
        "\n"
      ]
    },
    {
      "cell_type": "markdown",
      "metadata": {
        "id": "CWYw_CpbbY3C"
      },
      "source": [
        "## WordCount"
      ]
    },
    {
      "cell_type": "code",
      "metadata": {
        "id": "uR_zfGFkMZlp",
        "colab": {
          "base_uri": "https://localhost:8080/"
        },
        "outputId": "f287cb49-6bf3-4aaf-f812-effa33843a51"
      },
      "source": [
        "from typing import Iterator\n",
        "import numpy as np\n",
        "\n",
        "d1 = \"\"\"\n",
        "it is what it is\n",
        "it is what it is\n",
        "it is what it is\"\"\"\n",
        "d2 = \"\"\"\n",
        "what is it\n",
        "what is it\"\"\"\n",
        "d3 = \"\"\"\n",
        "it is a banana\"\"\"\n",
        "documents = [d1, d2, d3, d1, d2, d3]\n",
        "\n",
        "maps = 3\n",
        "reducers = 2\n",
        "\n",
        "def INPUTFORMAT():\n",
        "  global maps\n",
        "\n",
        "  def RECORDREADER(split):\n",
        "    for (docid, document) in enumerate(split):\n",
        "      for (lineid, line) in enumerate(document.split('\\n')):\n",
        "        yield (\"{}:{}\".format(docid,lineid), line)\n",
        "\n",
        "  split_size =  int(np.ceil(len(documents)/maps))\n",
        "  for i in range(0, len(documents), split_size):\n",
        "    yield RECORDREADER(documents[i:i+split_size])\n",
        "\n",
        "def MAP(docId:str, line:str):\n",
        "  for word in line.split(\" \"):\n",
        "    yield (word, 1)\n",
        "\n",
        "def REDUCE(word:str, counts:Iterator[int]):\n",
        "  sum = 0\n",
        "  for c in counts:\n",
        "    sum += c\n",
        "  yield (word, sum)\n",
        "\n",
        "# try to set COMBINER=REDUCER and look at the number of values sent over the network\n",
        "partitioned_output = MapReduceDistributed(INPUTFORMAT, MAP, REDUCE, COMBINER=None)\n",
        "partitioned_output = [(partition_id, list(partition)) for (partition_id, partition) in partitioned_output]\n",
        "partitioned_output"
      ],
      "execution_count": 145,
      "outputs": [
        {
          "output_type": "stream",
          "name": "stdout",
          "text": [
            "56 key-value pairs were sent over a network.\n"
          ]
        },
        {
          "output_type": "execute_result",
          "data": {
            "text/plain": [
              "[(0, [('', 6), ('a', 2), ('banana', 2), ('is', 18), ('it', 18)]),\n",
              " (1, [('what', 10)])]"
            ]
          },
          "metadata": {},
          "execution_count": 145
        }
      ]
    },
    {
      "cell_type": "markdown",
      "metadata": {
        "id": "gCJGx8IQ87xS"
      },
      "source": [
        "## TeraSort"
      ]
    },
    {
      "cell_type": "code",
      "metadata": {
        "id": "P2v8v1v_8_YR",
        "colab": {
          "base_uri": "https://localhost:8080/"
        },
        "outputId": "55ab2fd7-0144-4e17-aba3-753997d3923a"
      },
      "source": [
        "import numpy as np\n",
        "\n",
        "input_values = np.random.rand(30)\n",
        "maps = 3\n",
        "reducers = 2\n",
        "min_value = 0.0\n",
        "max_value = 1.0\n",
        "\n",
        "def INPUTFORMAT():\n",
        "  global maps\n",
        "\n",
        "  def RECORDREADER(split):\n",
        "    for value in split:\n",
        "        yield (value, None)\n",
        "\n",
        "  split_size =  int(np.ceil(len(input_values)/maps))\n",
        "  for i in range(0, len(input_values), split_size):\n",
        "    yield RECORDREADER(input_values[i:i+split_size])\n",
        "\n",
        "def MAP(value:int, _):\n",
        "  yield (value, None)\n",
        "\n",
        "def PARTITIONER(key):\n",
        "  global reducers\n",
        "  global max_value\n",
        "  global min_value\n",
        "  bucket_size = (max_value-min_value)/reducers\n",
        "  bucket_id = 0\n",
        "  while((key>(bucket_id+1)*bucket_size) and ((bucket_id+1)*bucket_size<max_value)):\n",
        "    bucket_id += 1\n",
        "  return bucket_id\n",
        "\n",
        "def REDUCE(value:int, _):\n",
        "  yield (None,value)\n",
        "\n",
        "partitioned_output = MapReduceDistributed(INPUTFORMAT, MAP, REDUCE, COMBINER=None, PARTITIONER=PARTITIONER)\n",
        "partitioned_output = [(partition_id, list(partition)) for (partition_id, partition) in partitioned_output]\n",
        "partitioned_output"
      ],
      "execution_count": 146,
      "outputs": [
        {
          "output_type": "stream",
          "name": "stdout",
          "text": [
            "30 key-value pairs were sent over a network.\n"
          ]
        },
        {
          "output_type": "execute_result",
          "data": {
            "text/plain": [
              "[(0,\n",
              "  [(None, 0.0277167149038966),\n",
              "   (None, 0.05164138631726711),\n",
              "   (None, 0.07806733414444411),\n",
              "   (None, 0.0868746852394855),\n",
              "   (None, 0.10963790865421541),\n",
              "   (None, 0.12509444987337293),\n",
              "   (None, 0.1252461961690794),\n",
              "   (None, 0.14277830723162677),\n",
              "   (None, 0.1524135440537695),\n",
              "   (None, 0.2564489432383714),\n",
              "   (None, 0.2777872033545221),\n",
              "   (None, 0.3399793769937639),\n",
              "   (None, 0.3968427932893184),\n",
              "   (None, 0.4013940164824189),\n",
              "   (None, 0.40220143866892266),\n",
              "   (None, 0.48898052986751794)]),\n",
              " (1,\n",
              "  [(None, 0.5048234727507128),\n",
              "   (None, 0.5362745606370134),\n",
              "   (None, 0.5434483727632927),\n",
              "   (None, 0.5906366310773838),\n",
              "   (None, 0.6095875898335479),\n",
              "   (None, 0.6350565846949412),\n",
              "   (None, 0.6491140504509058),\n",
              "   (None, 0.6579013867763354),\n",
              "   (None, 0.736563128518598),\n",
              "   (None, 0.8452959071528013),\n",
              "   (None, 0.8522152908071275),\n",
              "   (None, 0.8623077639550152),\n",
              "   (None, 0.8914039836949257),\n",
              "   (None, 0.9746593815657957)])]"
            ]
          },
          "metadata": {},
          "execution_count": 146
        }
      ]
    },
    {
      "cell_type": "code",
      "metadata": {
        "id": "MQhoJaVZI93G"
      },
      "source": [],
      "execution_count": 146,
      "outputs": []
    },
    {
      "cell_type": "markdown",
      "metadata": {
        "id": "Iy65YJTH99iT"
      },
      "source": [
        "# Упражнения\n",
        "Упражнения взяты из Rajaraman A., Ullman J. D. Mining of massive datasets. – Cambridge University Press, 2011.\n",
        "\n",
        "\n",
        "Для выполнения заданий переопределите функции RECORDREADER, MAP, REDUCE. Для модели распределённой системы может потребоваться переопределение функций PARTITION и COMBINER."
      ]
    },
    {
      "cell_type": "markdown",
      "metadata": {
        "id": "cfvAeZm3S8S8"
      },
      "source": [
        "### Максимальное значение ряда\n",
        "\n",
        "Разработайте MapReduce алгоритм, который находит максимальное число входного списка чисел."
      ]
    },
    {
      "cell_type": "code",
      "metadata": {
        "id": "3GRA1JR-Tkbg",
        "colab": {
          "base_uri": "https://localhost:8080/"
        },
        "outputId": "ca6063ca-86e1-4dba-f84b-b193705d4720"
      },
      "source": [
        "import random\n",
        "import numpy as np\n",
        "\n",
        "def MAP(num_list):\n",
        "    return max(num_list)\n",
        "\n",
        "def REDUCE(num_list):\n",
        "    return max(num_list)\n",
        "\n",
        "def RECORDREADER(count):\n",
        "    return [random.randint(0, 100) for i in range(count)]\n",
        "\n",
        "\n",
        "record = RECORDREADER(100)\n",
        "print(\"Сгенерированный список чисел:\",record)\n",
        "parts = 5\n",
        "\n",
        "record_partitional = np.array_split(record, len(record) // parts if len(record) % parts == 0 else len(record) // parts + 1)\n",
        "record_partitional = [list(arr) for arr in record_partitional]\n",
        "print(\"максимальное число:\",max(map(max, record_partitional)))\n"
      ],
      "execution_count": 147,
      "outputs": [
        {
          "output_type": "stream",
          "name": "stdout",
          "text": [
            "Сгенерированный список чисел: [89, 64, 34, 88, 86, 48, 26, 97, 87, 31, 66, 77, 35, 48, 7, 63, 87, 34, 10, 15, 39, 42, 82, 32, 10, 67, 30, 100, 5, 15, 81, 63, 57, 7, 69, 9, 96, 63, 92, 86, 37, 73, 35, 22, 43, 37, 68, 70, 49, 78, 54, 37, 3, 96, 4, 57, 59, 92, 100, 58, 42, 45, 43, 63, 61, 30, 77, 2, 6, 32, 6, 25, 79, 70, 17, 87, 94, 37, 100, 17, 96, 15, 15, 93, 24, 3, 88, 67, 50, 88, 39, 6, 35, 44, 44, 94, 85, 35, 57, 57]\n",
            "максимальное число: 100\n"
          ]
        }
      ]
    },
    {
      "cell_type": "markdown",
      "metadata": {
        "id": "k86bXnqZTk-U"
      },
      "source": [
        "### Арифметическое среднее\n",
        "\n",
        "Разработайте MapReduce алгоритм, который находит арифметическое среднее.\n",
        "\n",
        "$$\\overline{X} = \\frac{1}{n}\\sum_{i=0}^{n} x_i$$\n"
      ]
    },
    {
      "cell_type": "code",
      "metadata": {
        "id": "MPoY5pkfUNZf",
        "colab": {
          "base_uri": "https://localhost:8080/"
        },
        "outputId": "10700ae6-8ff0-4426-ee70-2db2385ae08f"
      },
      "source": [
        "from typing import Iterator, NamedTuple\n",
        "import random\n",
        "\n",
        "def RECORDREADER(count):\n",
        "    return [random.randint(0, 100) for _ in range(count)]\n",
        "\n",
        "def MAP(num):\n",
        "    return (1, num)\n",
        "\n",
        "def REDUCE(_, numbers: Iterator[NamedTuple]):\n",
        "    total_sum = 0\n",
        "    item_count = 0\n",
        "    for number in numbers:\n",
        "        total_sum += number\n",
        "        item_count += 1\n",
        "    if item_count > 0:\n",
        "        yield ('AVG', total_sum / item_count)\n",
        "    else:\n",
        "        yield ('AVG', 0)\n",
        "\n",
        "def flatten(list_of_lists):\n",
        "    for sublist in list_of_lists:\n",
        "        yield from sublist\n",
        "\n",
        "record = RECORDREADER(100)\n",
        "\n",
        "map_output = [MAP(x) for x in record]\n",
        "reduced_results = [REDUCE(1, (item[1] for item in map_output))]\n",
        "output = list(flatten(reduced_results))\n",
        "print(output)\n"
      ],
      "execution_count": 148,
      "outputs": [
        {
          "output_type": "stream",
          "name": "stdout",
          "text": [
            "[('AVG', 52.35)]\n"
          ]
        }
      ]
    },
    {
      "cell_type": "markdown",
      "metadata": {
        "id": "xanzszhsIlLe"
      },
      "source": [
        "### GroupByKey на основе сортировки\n",
        "\n",
        "Реализуйте groupByKey на основе сортировки, проверьте его работу на примерах"
      ]
    },
    {
      "cell_type": "code",
      "metadata": {
        "id": "hQPn3USsIkEC",
        "colab": {
          "base_uri": "https://localhost:8080/"
        },
        "outputId": "f77bf9a6-0603-4559-fae9-52576581717a"
      },
      "source": [
        "from typing import Iterator, NamedTuple\n",
        "import random\n",
        "from itertools import groupby\n",
        "from operator import itemgetter\n",
        "\n",
        "def group_by_key(iterable):\n",
        "    return [(key, [item[1] for item in group]) for key, group in groupby(sorted(iterable, key=itemgetter(0)), key=itemgetter(0))]\n",
        "\n",
        "def MAP(num):\n",
        "    return (1, num)\n",
        "\n",
        "def REDUCE(_, numbers: Iterator[NamedTuple]):\n",
        "    total_sum = 0\n",
        "    item_count = 0\n",
        "    for number in numbers:\n",
        "      total_sum+=number\n",
        "      item_count+=1\n",
        "    if item_count > 0:\n",
        "      yield('AVG', total_sum/item_count)\n",
        "    else:\n",
        "      yield('AVG', 0)\n",
        "\n",
        "def RECORDREADER(count):\n",
        "    return [random.randint(0, 100) for _ in range(count)]\n",
        "\n",
        "def flatten(list_of_lists):\n",
        "    for sublist in list_of_lists:\n",
        "        yield from sublist\n",
        "\n",
        "map_output = list(map(lambda x: MAP(x), RECORDREADER(100)))\n",
        "shuffle_output = group_by_key(map_output)\n",
        "print(shuffle_output)\n",
        "\n",
        "output = list(flatten(map(lambda x: REDUCE(*x), shuffle_output)))\n",
        "print(output)\n"
      ],
      "execution_count": 149,
      "outputs": [
        {
          "output_type": "stream",
          "name": "stdout",
          "text": [
            "[(1, [19, 8, 7, 46, 12, 20, 81, 92, 85, 68, 88, 16, 33, 45, 15, 91, 97, 95, 4, 25, 11, 72, 7, 84, 7, 13, 37, 74, 90, 92, 96, 13, 66, 92, 59, 94, 80, 43, 98, 75, 51, 61, 38, 58, 10, 4, 21, 73, 67, 98, 52, 65, 79, 8, 17, 9, 15, 57, 84, 24, 38, 37, 23, 100, 32, 69, 57, 35, 28, 21, 27, 77, 32, 56, 33, 22, 33, 22, 48, 93, 21, 5, 96, 56, 24, 23, 53, 63, 58, 42, 23, 40, 64, 79, 19, 15, 28, 56, 4, 15])]\n",
            "[('AVG', 47.08)]\n"
          ]
        }
      ]
    },
    {
      "cell_type": "markdown",
      "metadata": {
        "id": "5SgEjCZyGnu6"
      },
      "source": [
        "### Drop duplicates (set construction, unique elements, distinct)\n",
        "\n",
        "Реализуйте распределённую операцию исключения дубликатов"
      ]
    },
    {
      "cell_type": "code",
      "metadata": {
        "id": "okjbyApjGhMt",
        "colab": {
          "base_uri": "https://localhost:8080/"
        },
        "outputId": "7769ece7-3550-4236-f65e-ffca53af382b"
      },
      "source": [
        "from itertools import chain\n",
        "\n",
        "reducer_count = 2\n",
        "\n",
        "def input_data_source():\n",
        "    global mapper_count\n",
        "    data_points = [\"dog\", \"cat\", \"dog\", \"bird\", \"cat\", \"fish\", \"fish\", \"dog\"]\n",
        "\n",
        "    def data_reader(chunk):\n",
        "        for item in chunk:\n",
        "            yield (item, None)\n",
        "\n",
        "    chunk_size = max(1, len(data_points) // mapper_count)\n",
        "    for index in range(0, len(data_points), chunk_size):\n",
        "        yield data_reader(data_points[index:index+chunk_size])\n",
        "\n",
        "def map_task(key, dummy_value):\n",
        "    yield (key, None)\n",
        "\n",
        "def partition_task(key):\n",
        "    global reducer_count\n",
        "    return hash(key) % reducer_count\n",
        "\n",
        "def reduce_task(key, dummy_value):\n",
        "    yield (key, None)\n",
        "\n",
        "\n",
        "mapper_count = 2\n",
        "distinct_items = MapReduceDistributed(input_data_source, map_task, reduce_task, partition_task)\n",
        "\n",
        "distinct_items = [key for (_, partition) in distinct_items for (key, _) in partition]\n",
        "print(\"Unique values:\", distinct_items)\n"
      ],
      "execution_count": 150,
      "outputs": [
        {
          "output_type": "stream",
          "name": "stdout",
          "text": [
            "8 key-value pairs were sent over a network.\n",
            "Unique values: ['bird', 'cat', 'dog', 'fish']\n"
          ]
        }
      ]
    },
    {
      "cell_type": "markdown",
      "metadata": {
        "id": "e7sRGoTXuJze"
      },
      "source": [
        "#Операторы реляционной алгебры\n",
        "### Selection (Выборка)\n",
        "\n",
        "**The Map Function**: Для  каждого кортежа $t \\in R$ вычисляется истинность предиката $C$. В случае истины создаётся пара ключ-значение $(t, t)$. В паре ключ и значение одинаковы, равны $t$.\n",
        "\n",
        "**The Reduce Function:** Роль функции Reduce выполняет функция идентичности, которая возвращает то же значение, что получила на вход.\n",
        "\n"
      ]
    },
    {
      "cell_type": "code",
      "metadata": {
        "id": "4nKIKe59uIfc",
        "colab": {
          "base_uri": "https://localhost:8080/"
        },
        "outputId": "33d75323-3f16-4ce8-8333-2924dbda3c93"
      },
      "source": [
        "def RECORDREADER():\n",
        "    dataset = [(1, 24), (2, 30), (3, 18), (4, 27), (5, 22)]\n",
        "    for t in dataset:\n",
        "        yield (t, None)\n",
        "\n",
        "def MAP(t, _):\n",
        "    if (sum(t) % 2) == 0:\n",
        "        yield (t, t)\n",
        "\n",
        "def REDUCE(_, values):\n",
        "    for value in values:\n",
        "        yield value\n",
        "\n",
        "result = list(MapReduce(RECORDREADER, MAP, REDUCE))\n",
        "\n",
        "print(\"Выбранные кортежи по условию деления суммы элементов кортежа на 2 без остатка:\", result)\n"
      ],
      "execution_count": 151,
      "outputs": [
        {
          "output_type": "stream",
          "name": "stdout",
          "text": [
            "Выбранные кортежи по условию деления суммы элементов кортежа на 2 без остатка: [(2, 30)]\n"
          ]
        }
      ]
    },
    {
      "cell_type": "markdown",
      "metadata": {
        "id": "w27Ca-_Ku85V"
      },
      "source": [
        "### Projection (Проекция)\n",
        "\n",
        "Проекция на множество атрибутов $S$.\n",
        "\n",
        "**The Map Function:** Для каждого кортежа $t \\in R$ создайте кортеж $t′$, исключая  из $t$ те значения, атрибуты которых не принадлежат  $S$. Верните пару $(t′, t′)$.\n",
        "\n",
        "**The Reduce Function:** Для каждого ключа $t′$, созданного любой Map задачей, вы получаете одну или несколько пар $(t′, t′)$. Reduce функция преобразует $(t′, [t′, t′, . . . , t′])$ в $(t′, t′)$, так, что для ключа $t′$ возвращается одна пара  $(t′, t′)$."
      ]
    },
    {
      "cell_type": "code",
      "metadata": {
        "id": "BEvuY4GqvhS6",
        "colab": {
          "base_uri": "https://localhost:8080/"
        },
        "outputId": "3d5209fd-480c-4802-88bc-8228be75f320"
      },
      "source": [
        "S = {1, 5, 10}\n",
        "\n",
        "def MAP(t, _):\n",
        "    \"\"\"Фильтруем только нужные атрибуты.\"\"\"\n",
        "    filtered_result = dict(filter(lambda item: item[0] in S, t.items()))\n",
        "    key = tuple(sorted(filtered_result.items()))\n",
        "    yield (key, key)\n",
        "\n",
        "\n",
        "def REDUCE(_, values):\n",
        "    \"\"\"Удаляем повторяющиеся значения.\"\"\"\n",
        "    yield values[0]\n",
        "\n",
        "def RECORDREADER():\n",
        "    \"\"\"Генератор данных.\"\"\"\n",
        "    yield ({1: \"cat\", 2: \"dog\", 5: \"rabbit\"}, None)\n",
        "    yield ({1: \"lion\", 3: \"tiger\", 10: \"elephant\"}, None)\n",
        "    yield ({5: \"bear\", 7: \"fox\", 10: \"giraffe\"}, None)\n",
        "\n",
        "\n",
        "result = list(MapReduce(RECORDREADER, MAP, REDUCE))\n",
        "\n",
        "print(\"Проекция по атрибутам:\", result)\n"
      ],
      "execution_count": 152,
      "outputs": [
        {
          "output_type": "stream",
          "name": "stdout",
          "text": [
            "Проекция по атрибутам: [((1, 'cat'), (5, 'rabbit')), ((1, 'lion'), (10, 'elephant')), ((5, 'bear'), (10, 'giraffe'))]\n"
          ]
        }
      ]
    },
    {
      "cell_type": "markdown",
      "metadata": {
        "id": "7gau6lKXvn2R"
      },
      "source": [
        "### Union (Объединение)\n",
        "\n",
        "**The Map Function:** Превратите каждый входной кортеж $t$ в пару ключ-значение $(t, t)$.\n",
        "\n",
        "**The Reduce Function:** С каждым ключом $t$ будет ассоциировано одно или два значений. В обоих случаях создайте $(t, t)$ в качестве выходного значения."
      ]
    },
    {
      "cell_type": "code",
      "metadata": {
        "id": "Sns7a5agv3nw",
        "colab": {
          "base_uri": "https://localhost:8080/"
        },
        "outputId": "f5ce1bfb-39d9-4f91-ee3a-f698cb757371"
      },
      "source": [
        "\n",
        "def MAP(t, _):\n",
        "    \"\"\"Каждый входной элемент превращается в пару (t, t).\"\"\"\n",
        "    yield (t, t)\n",
        "\n",
        "def REDUCE(t, values):\n",
        "    \"\"\"Удаляет дубликаты и возвращает (t, t).\"\"\"\n",
        "    yield (t, t)\n",
        "def RECORDREADER():\n",
        "    \"\"\"Объединяем два множества.\"\"\"\n",
        "    set1 = [(1, None), (2, None), (3, None)]\n",
        "    set2 = [(2, None), (4, None), (5, None)]\n",
        "    return list(chain(set1, set2))\n",
        "\n",
        "\n",
        "result = list(MapReduce(RECORDREADER, MAP, REDUCE))\n",
        "\n",
        "print(\"Объединенное множество:\", result)\n"
      ],
      "execution_count": 153,
      "outputs": [
        {
          "output_type": "stream",
          "name": "stdout",
          "text": [
            "Объединенное множество: [(1, 1), (2, 2), (3, 3), (4, 4), (5, 5)]\n"
          ]
        }
      ]
    },
    {
      "cell_type": "markdown",
      "metadata": {
        "id": "dQ8TuEbjv4J8"
      },
      "source": [
        "### Intersection (Пересечение)\n",
        "\n",
        "**The Map Function:** Превратите каждый кортеж $t$ в пары ключ-значение $(t, t)$.\n",
        "\n",
        "**The Reduce Function:** Если для ключа $t$ есть список из двух элементов $[t, t]$ $-$ создайте пару $(t, t)$. Иначе, ничего не создавайте."
      ]
    },
    {
      "cell_type": "code",
      "metadata": {
        "id": "XKlBZh4IwERR",
        "colab": {
          "base_uri": "https://localhost:8080/"
        },
        "outputId": "6fa9ea62-1c9c-463f-c10d-7ee38fde2455"
      },
      "source": [
        "def MAP(t, _):\n",
        "    \"\"\"Каждый входной элемент превращается в пару (t, t).\"\"\"\n",
        "    yield (t, t)\n",
        "\n",
        "def REDUCE(t, values):\n",
        "    \"\"\"Если для ключа t есть список из двух элементов [t, t], создаем пару (t, t).\"\"\"\n",
        "    values_list = list(values)\n",
        "    if len(values_list) == 2 and values_list[0] == t and values_list[1] == t:\n",
        "        yield (t, t)\n",
        "\n",
        "def RECORDREADER():\n",
        "    \"\"\"Пересечение двух множеств: {1, 2, 3, 4} и {2, 3, 5, 6}.\"\"\"\n",
        "    set1 = [1, 2, 3, 4]\n",
        "    set2 = [2, 3, 5, 6]\n",
        "    return [(t, None) for t in set1] + [(t, None) for t in set2]  # Объединяем элементы\n",
        "\n",
        "result = list(MapReduce(RECORDREADER, MAP, REDUCE))\n",
        "\n",
        "print(\"Пересечение множеств:\", result)\n"
      ],
      "execution_count": 154,
      "outputs": [
        {
          "output_type": "stream",
          "name": "stdout",
          "text": [
            "Пересечение множеств: [(2, 2), (3, 3)]\n"
          ]
        }
      ]
    },
    {
      "cell_type": "markdown",
      "metadata": {
        "id": "AVOpqoY3wE5k"
      },
      "source": [
        "### Difference (Разница)\n",
        "\n",
        "**The Map Function:** Для кортежа $t \\in R$, создайте пару $(t, R)$, и для кортежа $t \\in S$, создайте пару $(t, S)$. Задумка заключается в том, чтобы значение пары было именем отношения $R$ or $S$, которому принадлежит кортеж (а лучше, единичный бит, по которому можно два отношения различить $R$ or $S$), а не весь набор атрибутов отношения.\n",
        "\n",
        "**The Reduce Function:** Для каждого ключа $t$, если соответствующее значение является списком $[R]$, создайте пару $(t, t)$. В иных случаях не предпринимайте действий."
      ]
    },
    {
      "cell_type": "code",
      "metadata": {
        "id": "QE_AC09lwZIZ",
        "colab": {
          "base_uri": "https://localhost:8080/"
        },
        "outputId": "96a0e1df-9074-47ce-f1fc-3a2b7ee58de9"
      },
      "source": [
        "def MAP(t, source):\n",
        "    \"\"\"Помечаем каждый элемент его источником (1 для R и 0 для S).\"\"\"\n",
        "    yield (t, source)\n",
        "\n",
        "def REDUCE(t, values):\n",
        "    \"\"\"Добавляем элемент в результат, если он есть только в R (т.е. значение 1).\"\"\"\n",
        "    if values == [\"R\"]:\n",
        "        yield (t, t)\n",
        "\n",
        "def RECORDREADER():\n",
        "    \"\"\"Задаем два множества: R и S.\"\"\"\n",
        "    R = [(1, \"R\"), (2, \"R\"), (3, \"R\"), (4, \"R\")]\n",
        "    S = [(2, \"S\"), (3, \"S\"), (5, \"S\"), (6, \"S\")]\n",
        "    return R + S\n",
        "\n",
        "\n",
        "result = list(MapReduce(RECORDREADER, MAP, REDUCE))\n",
        "\n",
        "print(\"Разность R - S:\", result)\n"
      ],
      "execution_count": 155,
      "outputs": [
        {
          "output_type": "stream",
          "name": "stdout",
          "text": [
            "Разность R - S: [(1, 1), (4, 4)]\n"
          ]
        }
      ]
    },
    {
      "cell_type": "markdown",
      "metadata": {
        "id": "j8I58V2VwhSm"
      },
      "source": [
        "### Natural Join\n",
        "\n",
        "**The Map Function:** Для каждого кортежа $(a, b)$ отношения $R$, создайте пару $(b,(R, a))$. Для каждого кортежа $(b, c)$ отношения $S$, создайте пару $(b,(S, c))$.\n",
        "\n",
        "**The Reduce Function:** Каждый ключ $b$ будет асоциирован со списком пар, которые принимают форму либо $(R, a)$, либо $(S, c)$. Создайте все пары, одни, состоящие из  первого компонента $R$, а другие, из первого компонента $S$, то есть $(R, a)$ и $(S, c)$. На выходе вы получаете последовательность пар ключ-значение из списков ключей и значений. Ключ не нужен. Каждое значение, это тройка $(a, b, c)$ такая, что $(R, a)$ и $(S, c)$ это принадлежат входному списку значений."
      ]
    },
    {
      "cell_type": "code",
      "metadata": {
        "id": "yHiuuTctw86I",
        "colab": {
          "base_uri": "https://localhost:8080/"
        },
        "outputId": "52a9d547-980c-440d-8823-9b84d6677d48"
      },
      "source": [
        "def MAP(record, source):\n",
        "    \"\"\"Формирует пары (b, (source, value)) для дальнейшего соединения.\"\"\"\n",
        "    if source == \"R\":\n",
        "        a, b = record\n",
        "        yield (b, (\"R\", a))\n",
        "    elif source == \"S\":\n",
        "        b, c = record\n",
        "        yield (b, (\"S\", c))\n",
        "\n",
        "def REDUCE(b, values):\n",
        "    \"\"\"Создает пары (a, b, c) для каждого подходящего соединения.\"\"\"\n",
        "    r_values = [a for src, a in values if src == \"R\"]\n",
        "    s_values = [c for src, c in values if src == \"S\"]\n",
        "\n",
        "    for a in r_values:\n",
        "        for c in s_values:\n",
        "            yield (a, b, c)\n",
        "\n",
        "def RECORDREADER():\n",
        "    \"\"\"Данные для соединения: R(a, b) и S(b, c).\"\"\"\n",
        "    R = [(\"Bear\", 1), (\"Lion\", 2), (\"Tiger\", 3)]\n",
        "    S = [(1, \"Northern\"), (2, \"African\"), (3, \"Indian\")]\n",
        "    return [(r, \"R\") for r in R] + [(s, \"S\") for s in S]\n",
        "\n",
        "result = list(MapReduce(RECORDREADER, MAP, REDUCE))\n",
        "\n",
        "print(\"Natural Join:\", result)\n"
      ],
      "execution_count": 156,
      "outputs": [
        {
          "output_type": "stream",
          "name": "stdout",
          "text": [
            "Natural Join: [('Bear', 1, 'Northern'), ('Lion', 2, 'African'), ('Tiger', 3, 'Indian')]\n"
          ]
        }
      ]
    },
    {
      "cell_type": "markdown",
      "metadata": {
        "id": "kYdlr0YUxE27"
      },
      "source": [
        "### Grouping and Aggregation (Группировка и аггрегация)\n",
        "\n",
        "**The Map Function:** Для каждого кортежа $(a, b, c$) создайте пару $(a, b)$.\n",
        "\n",
        "**The Reduce Function:** Ключ представляет ту или иную группу. Примение аггрегирующую операцию $\\theta$ к списку значений $[b1, b2, . . . , bn]$ ассоциированных с ключом $a$. Возвращайте в выходной поток $(a, x)$, где $x$ результат применения  $\\theta$ к списку. Например, если $\\theta$ это $SUM$, тогда $x = b1 + b2 + · · · + bn$, а если $\\theta$ is $MAX$, тогда $x$ это максимальное из значений $b1, b2, . . . , bn$."
      ]
    },
    {
      "cell_type": "code",
      "metadata": {
        "id": "MLPckfEGxico",
        "colab": {
          "base_uri": "https://localhost:8080/"
        },
        "outputId": "b18f05aa-fa3a-435b-c7e0-1a05536b6809"
      },
      "source": [
        "\n",
        "joined_data = [\n",
        "    (\"Leo\", 1, \"Safari Park\"),\n",
        "    (\"Ella\", 1, \"Safari Park\"),\n",
        "    (\"Zara\", 2, \"Ocean World\"),\n",
        "    (\"Tina\", 2, \"Ocean World\"),\n",
        "    (\"Max\", 3, \"Mountain Zoo\"),\n",
        "]\n",
        "\n",
        "\n",
        "def MAP_GROUP(zoo_id, animal, zoo):\n",
        "    yield (zoo_id, animal)\n",
        "\n",
        "def REDUCE_GROUP(zoo_id, animals):\n",
        "    yield f\"Zoo with id={zoo_id} has {len(animals)} animal(s)\"\n",
        "\n",
        "def RECORDREADER():\n",
        "    return [(zoo_id, animal, zoo) for animal, zoo_id, zoo in joined_data]\n",
        "\n",
        "\n",
        "def MapReduce(reader, mapper, reducer):\n",
        "    intermediate = {}\n",
        "\n",
        "    for zoo_id, animal, zoo in reader():\n",
        "        for key, value in mapper(zoo_id, animal, zoo):\n",
        "            if key not in intermediate:\n",
        "                intermediate[key] = []\n",
        "            intermediate[key].append(value)\n",
        "\n",
        "\n",
        "    for zoo_id, animals in intermediate.items():\n",
        "        yield from reducer(zoo_id, animals)\n",
        "\n",
        "output = MapReduce(RECORDREADER, MAP_GROUP, REDUCE_GROUP)\n",
        "output = list(output)\n",
        "\n",
        "\n",
        "for line in output:\n",
        "    print(line)\n"
      ],
      "execution_count": 157,
      "outputs": [
        {
          "output_type": "stream",
          "name": "stdout",
          "text": [
            "Zoo with id=1 has 2 animal(s)\n",
            "Zoo with id=2 has 2 animal(s)\n",
            "Zoo with id=3 has 1 animal(s)\n"
          ]
        }
      ]
    },
    {
      "cell_type": "markdown",
      "metadata": {
        "id": "03IffTEOJgOb"
      },
      "source": [
        "#"
      ]
    },
    {
      "cell_type": "markdown",
      "metadata": {
        "id": "IIrRgvG4RIS4"
      },
      "source": [
        "### Matrix-Vector multiplication\n",
        "\n",
        "Случай, когда вектор не помещается в памяти Map задачи\n"
      ]
    },
    {
      "cell_type": "code",
      "metadata": {
        "id": "KQhDbiL3zS9r",
        "colab": {
          "base_uri": "https://localhost:8080/"
        },
        "outputId": "da42f11e-9e81-4962-ea96-02de7b943564"
      },
      "source": [
        "from typing import List, Tuple, Dict\n",
        "from collections import defaultdict\n",
        "\n",
        "NUM_REDUCERS = 2\n",
        "CHUNK_SIZE = 2\n",
        "\n",
        "class MatrixRow:\n",
        "    def __init__(self, row, col, value):\n",
        "        self.row = row\n",
        "        self.col = col\n",
        "        self.value = value\n",
        "\n",
        "class VectorElement:\n",
        "    def __init__(self, index, value):\n",
        "        self.index = index\n",
        "        self.value = value\n",
        "\n",
        "def map_function(data, data_type):\n",
        "    if data_type == \"matrix\":\n",
        "        return (data.col % NUM_REDUCERS, (\"M\", data))\n",
        "    elif data_type == \"vector\":\n",
        "        return (data.index % NUM_REDUCERS, (\"V\", data))\n",
        "\n",
        "def reduce_function(reducer_id, data):\n",
        "    matrix_parts = []\n",
        "    vector_parts = []\n",
        "    for tag, item in data:\n",
        "        if tag == \"M\":\n",
        "            matrix_parts.append(item)\n",
        "        else:\n",
        "            vector_parts.append(item)\n",
        "    results = []\n",
        "    for row in matrix_parts:\n",
        "        for el in vector_parts:\n",
        "            if row.col == el.index:\n",
        "                results.append((row.row, row.value * el.value))\n",
        "    return results\n",
        "\n",
        "def map_reduce_algorithm(matrix, vector):\n",
        "    mapped_matrix = [map_function(row, \"matrix\") for row in matrix]\n",
        "    mapped_vector = [map_function(el, \"vector\") for el in vector]\n",
        "\n",
        "    grouped_data = defaultdict(list)\n",
        "    for reducer_id, data_pair in mapped_matrix + mapped_vector:\n",
        "        grouped_data[reducer_id].append(data_pair)\n",
        "\n",
        "    partial_results = []\n",
        "    for reducer_id, data in grouped_data.items():\n",
        "        partial_results.extend(reduce_function(reducer_id, data))\n",
        "\n",
        "    final_result = defaultdict(float)\n",
        "    for row, value in partial_results:\n",
        "        final_result[row] += value\n",
        "    return dict(final_result)\n",
        "\n",
        "\n",
        "matrix = [MatrixRow(0, 0, 1.0), MatrixRow(0, 1, 2.0), MatrixRow(1, 0, 3.0), MatrixRow(1, 1, 4.0)]\n",
        "vector = [VectorElement(0, 0.5), VectorElement(1, 0.7)]\n",
        "\n",
        "result = map_reduce_algorithm(matrix, vector)\n",
        "print(\"Matrix-Vector Multiplication Result:\", result)\n"
      ],
      "execution_count": 158,
      "outputs": [
        {
          "output_type": "stream",
          "name": "stdout",
          "text": [
            "Matrix-Vector Multiplication Result: {0: 1.9, 1: 4.3}\n"
          ]
        }
      ]
    },
    {
      "cell_type": "markdown",
      "metadata": {
        "id": "GIo2t7nNxvA9"
      },
      "source": [
        "## Matrix multiplication (Перемножение матриц)\n",
        "\n",
        "Если у нас есть матрица $M$ с элементами $m_{ij}$ в строке $i$ и столбце $j$, и матрица $N$ с элементами $n_{jk}$ в строке $j$ и столбце $k$, тогда их произведение $P = MN$ есть матрица $P$ с элементами $p_{ik}$ в строке $i$ и столбце $k$, где\n",
        "\n",
        "$$p_{ik} =\\sum_{j} m_{ij}n_{jk}$$\n",
        "\n",
        "Необходимым требованием является одинаковое количество столбцов в $M$ и строк в $N$, чтобы операция суммирования по  $j$ была осмысленной. Мы можем размышлять о матрице, как об отношении с тремя атрибутами: номер строки, номер столбца, само значение. Таким образом матрица $M$ предстваляется как отношение $ M(I, J, V )$, с кортежами $(i, j, m_{ij})$, и, аналогично, матрица $N$ представляется как отношение $N(J, K, W)$, с кортежами $(j, k, n_{jk})$. Так как большие матрицы как правило разреженные (большинство значений равно 0), и так как мы можем нулевыми значениями пренебречь (не хранить), такое реляционное представление достаточно эффективно для больших матриц. Однако, возможно, что координаты $i$, $j$, и $k$ неявно закодированы в смещение позиции элемента относительно начала файла, вместо явного хранения. Тогда, функция Map (или Reader) должна быть разработана таким образом, чтобы реконструировать компоненты $I$, $J$, и $K$ кортежей из смещения.\n",
        "\n",
        "Произведение $MN$ это фактически join, за которым следуют группировка по ключу и аггрегация. Таким образом join отношений $M(I, J, V )$ и $N(J, K, W)$, имеющих общим только атрибут $J$, создаст кортежи $(i, j, k, v, w)$ из каждого кортежа $(i, j, v) \\in M$ и кортежа $(j, k, w) \\in N$. Такой 5 компонентный кортеж представляет пару элементов матрицы $(m_{ij} , n_{jk})$. Что нам хотелось бы получить на самом деле, это произведение этих элементов, то есть, 4 компонентный кортеж$(i, j, k, v \\times w)$, так как он представляет произведение $m_{ij}n_{jk}$. Мы представляем отношение как результат одной MapReduce операции, в которой мы можем произвести группировку и аггрегацию, с $I$ и $K$  атрибутами, по которым идёт группировка, и суммой  $V \\times W$.\n",
        "\n",
        "\n",
        "\n"
      ]
    },
    {
      "cell_type": "code",
      "metadata": {
        "id": "1MBkGaLAYVCt"
      },
      "source": [
        "# MapReduce model\n",
        "def flatten(nested_iterable):\n",
        "  for iterable in nested_iterable:\n",
        "    for element in iterable:\n",
        "      yield element\n",
        "\n",
        "def groupbykey(iterable):\n",
        "  t = {}\n",
        "  for (k2, v2) in iterable:\n",
        "    t[k2] = t.get(k2, []) + [v2]\n",
        "  return t.items()\n",
        "\n",
        "def MapReduce(RECORDREADER, MAP, REDUCE):\n",
        "  return flatten(map(lambda x: REDUCE(*x), groupbykey(flatten(map(lambda x: MAP(*x), RECORDREADER())))))"
      ],
      "execution_count": 159,
      "outputs": []
    },
    {
      "cell_type": "markdown",
      "metadata": {
        "id": "sMspsOT0ZB35"
      },
      "source": [
        "Реализуйте перемножение матриц с использованием модельного кода MapReduce для одной машины в случае, когда одна матрица хранится в памяти, а другая генерируется RECORDREADER-ом."
      ]
    },
    {
      "cell_type": "code",
      "metadata": {
        "id": "psP1XekbsEjS",
        "colab": {
          "base_uri": "https://localhost:8080/"
        },
        "outputId": "ee175f29-ddfc-4272-aa3e-9f7cc2bccc2c"
      },
      "source": [
        "import numpy as np\n",
        "\n",
        "I = 2\n",
        "J = 3\n",
        "K = 4 * 10\n",
        "small_mat = np.random.rand(I, J)\n",
        "big_mat = np.random.rand(J, K)\n",
        "\n",
        "def RECORDREADER():\n",
        "    for j in range(big_mat.shape[0]):\n",
        "        for k in range(big_mat.shape[1]):\n",
        "            yield ((j, k), big_mat[j, k])\n",
        "\n",
        "def MAP(k1, v1):\n",
        "    (j, k) = k1\n",
        "    w = v1\n",
        "    for i in range(small_mat.shape[0]):\n",
        "        yield ((i, k), (small_mat[i, j] * w))\n",
        "\n",
        "def REDUCE(key, values):\n",
        "    (i, k) = key\n",
        "    total = sum(value for value in values)\n",
        "    yield (key, total)\n",
        "\n",
        "mapped_data = defaultdict(list)\n",
        "for key, value in RECORDREADER():\n",
        "    for intermediate_key, intermediate_value in MAP(key, value):\n",
        "        mapped_data[intermediate_key].append(intermediate_value)\n",
        "\n",
        "reduced_data = {}\n",
        "for key, values in mapped_data.items():\n",
        "    for reduced_key, reduced_value in REDUCE(key, values):\n",
        "        reduced_data[reduced_key] = reduced_value\n",
        "\n",
        "result_matrix = np.zeros((I, K))\n",
        "for (i, k), value in reduced_data.items():\n",
        "    result_matrix[i, k] = value\n",
        "\n",
        "print(\"Result Matrix:\\n\", result_matrix)\n",
        "\n",
        "numpy_result = np.dot(small_mat, big_mat)\n",
        "print(\"\\nVerification (numpy's result):\\n\", numpy_result)\n",
        "\n",
        "tolerance = 1e-9\n",
        "print(\"\\nAre results equal ?\", np.allclose(result_matrix, numpy_result, atol=tolerance))\n",
        "\n",
        "from collections import defaultdict\n"
      ],
      "execution_count": 160,
      "outputs": [
        {
          "output_type": "stream",
          "name": "stdout",
          "text": [
            "Result Matrix:\n",
            " [[0.2387498  0.73768695 0.34144946 0.63410413 0.73626738 0.47973512\n",
            "  0.35706934 0.20778721 0.23262856 0.63345307 0.70202327 0.64395208\n",
            "  0.04869614 0.70063181 0.5394256  0.6641238  0.61893322 0.3885193\n",
            "  0.49084229 0.03331122 0.50482203 0.15128972 0.1088326  0.20921799\n",
            "  0.39338204 0.34787741 0.2157395  0.59773472 0.06376904 0.24614382\n",
            "  0.61006832 0.41197023 0.1857571  0.21343573 0.6857339  0.2313315\n",
            "  0.1952692  0.61579394 0.46982202 0.35978113]\n",
            " [0.13100452 0.2981312  0.2896083  0.35655639 0.33033127 0.40331069\n",
            "  0.16558728 0.12493558 0.1887602  0.21038057 0.34620787 0.40207098\n",
            "  0.0740998  0.46786309 0.20664786 0.21178192 0.46318601 0.18682726\n",
            "  0.33290506 0.06507121 0.28724003 0.11586466 0.29166146 0.11232671\n",
            "  0.18050214 0.34350507 0.10332023 0.34825474 0.08070948 0.2794385\n",
            "  0.28623544 0.25124805 0.21893814 0.20015266 0.3174245  0.28836595\n",
            "  0.18762901 0.29369515 0.27263741 0.21908481]]\n",
            "\n",
            "Verification (numpy's result):\n",
            " [[0.2387498  0.73768695 0.34144946 0.63410413 0.73626738 0.47973512\n",
            "  0.35706934 0.20778721 0.23262856 0.63345307 0.70202327 0.64395208\n",
            "  0.04869614 0.70063181 0.5394256  0.6641238  0.61893322 0.3885193\n",
            "  0.49084229 0.03331122 0.50482203 0.15128972 0.1088326  0.20921799\n",
            "  0.39338204 0.34787741 0.2157395  0.59773472 0.06376904 0.24614382\n",
            "  0.61006832 0.41197023 0.1857571  0.21343573 0.6857339  0.2313315\n",
            "  0.1952692  0.61579394 0.46982202 0.35978113]\n",
            " [0.13100452 0.2981312  0.2896083  0.35655639 0.33033127 0.40331069\n",
            "  0.16558728 0.12493558 0.1887602  0.21038057 0.34620787 0.40207098\n",
            "  0.0740998  0.46786309 0.20664786 0.21178192 0.46318601 0.18682726\n",
            "  0.33290506 0.06507121 0.28724003 0.11586466 0.29166146 0.11232671\n",
            "  0.18050214 0.34350507 0.10332023 0.34825474 0.08070948 0.2794385\n",
            "  0.28623544 0.25124805 0.21893814 0.20015266 0.3174245  0.28836595\n",
            "  0.18762901 0.29369515 0.27263741 0.21908481]]\n",
            "\n",
            "Are results equal ? True\n"
          ]
        }
      ]
    },
    {
      "cell_type": "markdown",
      "metadata": {
        "id": "rnt306LHhHrm"
      },
      "source": [
        "Проверьте своё решение"
      ]
    },
    {
      "cell_type": "code",
      "metadata": {
        "id": "Ewy_ZNYqW5a2",
        "colab": {
          "base_uri": "https://localhost:8080/"
        },
        "outputId": "5db02719-9c1a-44dd-971e-4f25d50b27fe"
      },
      "source": [
        "reference_solution = np.matmul(small_mat, big_mat)\n",
        "solution = MapReduce(RECORDREADER, MAP, REDUCE)\n",
        "\n",
        "def asmatrix(reduce_output):\n",
        "  reduce_output = list(reduce_output)\n",
        "  I = max(i for ((i,k), vw) in reduce_output)+1\n",
        "  K = max(k for ((i,k), vw) in reduce_output)+1\n",
        "  mat = np.empty(shape=(I,K))\n",
        "  for ((i,k), vw) in reduce_output:\n",
        "    mat[i,k] = vw\n",
        "  return mat\n",
        "\n",
        "np.allclose(reference_solution, asmatrix(solution)) # should return true"
      ],
      "execution_count": 161,
      "outputs": [
        {
          "output_type": "execute_result",
          "data": {
            "text/plain": [
              "True"
            ]
          },
          "metadata": {},
          "execution_count": 161
        }
      ]
    },
    {
      "cell_type": "code",
      "metadata": {
        "id": "TK7v4CEcfxqf",
        "colab": {
          "base_uri": "https://localhost:8080/"
        },
        "outputId": "33107ff0-72bf-4995-d107-17b89cf1e8d1"
      },
      "source": [
        "reduce_output = list(MapReduce(RECORDREADER, MAP, REDUCE))\n",
        "max(i for ((i,k), vw) in reduce_output)"
      ],
      "execution_count": 162,
      "outputs": [
        {
          "output_type": "execute_result",
          "data": {
            "text/plain": [
              "1"
            ]
          },
          "metadata": {},
          "execution_count": 162
        }
      ]
    },
    {
      "cell_type": "markdown",
      "metadata": {
        "id": "i4yyg3kOZqJJ"
      },
      "source": [
        "Реализуйте перемножение матриц  с использованием модельного кода MapReduce для одной машины в случае, когда обе матрицы генерируются в RECORDREADER. Например, сначала одна, а потом другая."
      ]
    },
    {
      "cell_type": "code",
      "metadata": {
        "id": "3B7rIAJCaHZq",
        "colab": {
          "base_uri": "https://localhost:8080/"
        },
        "outputId": "7221176f-03a6-41a9-92ca-b0c61ffa17e8"
      },
      "source": [
        "import numpy as np\n",
        "from collections import defaultdict\n",
        "\n",
        "I = 2\n",
        "J = 3\n",
        "K = 4\n",
        "\n",
        "\n",
        "matrix_a = np.random.rand(I, J)\n",
        "matrix_b = np.random.rand(J, K)\n",
        "\n",
        "\n",
        "def RECORDREADER():\n",
        "\n",
        "    for i in range(matrix_a.shape[0]):\n",
        "        for j in range(matrix_a.shape[1]):\n",
        "            yield (\"A\", (i, j), matrix_a[i, j])\n",
        "\n",
        "    for j in range(matrix_b.shape[0]):\n",
        "        for k in range(matrix_b.shape[1]):\n",
        "            yield (\"B\", (j, k), matrix_b[j, k])\n",
        "\n",
        "def MAP(key, value):\n",
        "    matrix_type, index, element = key, value[0], value[1]\n",
        "    if matrix_type == \"A\":\n",
        "        for k in range(K):\n",
        "            yield ((\"result\", index[0], k), (index[1], element))\n",
        "    elif matrix_type == \"B\":\n",
        "        for i in range(I):\n",
        "            yield ((\"result\", i, index[1]), (index[0], element))\n",
        "\n",
        "def REDUCE(key, values):\n",
        "    result_index = key\n",
        "    values_dict = defaultdict(list)\n",
        "    for col_index, value in values:\n",
        "        values_dict[col_index].append(value)\n",
        "    total_sum = 0\n",
        "    for col_index in values_dict:\n",
        "        total_sum += values_dict[col_index][0] * values_dict[col_index][1]\n",
        "\n",
        "    yield (result_index, total_sum)\n",
        "\n",
        "mapped_data = defaultdict(list)\n",
        "for key, value in enumerate(RECORDREADER()):\n",
        "    for intermediate_key, intermediate_value in MAP(value[0], (value[1], value[2])):\n",
        "        mapped_data[intermediate_key].append(intermediate_value)\n",
        "\n",
        "reduced_data = {}\n",
        "for key, values in mapped_data.items():\n",
        "    for reduced_key, reduced_value in REDUCE(key, values):\n",
        "        reduced_data[reduced_key] = reduced_value\n",
        "\n",
        "result_matrix = np.zeros((I, K))\n",
        "for (result_type, i, k), value in reduced_data.items():\n",
        "    result_matrix[i, k] = value\n",
        "\n",
        "print(\"Result Matrix:\\n\", result_matrix)\n",
        "\n",
        "\n",
        "numpy_result = np.dot(matrix_a, matrix_b)\n",
        "print(\"\\nVerification (NumPy):\\n\", numpy_result)\n",
        "tolerance = 1e-9\n",
        "print(\"\\nAre results equal?\", np.allclose(result_matrix, numpy_result, atol=tolerance))\n"
      ],
      "execution_count": 163,
      "outputs": [
        {
          "output_type": "stream",
          "name": "stdout",
          "text": [
            "Result Matrix:\n",
            " [[0.55960439 1.57538797 1.08169458 1.31447357]\n",
            " [0.79088263 2.0586298  1.35818621 1.83666706]]\n",
            "\n",
            "Verification (NumPy):\n",
            " [[0.55960439 1.57538797 1.08169458 1.31447357]\n",
            " [0.79088263 2.0586298  1.35818621 1.83666706]]\n",
            "\n",
            "Are results equal? True\n"
          ]
        }
      ]
    },
    {
      "cell_type": "markdown",
      "metadata": {
        "id": "mXyzQi1DaIwo"
      },
      "source": [
        "Реализуйте перемножение матриц с использованием модельного кода MapReduce Distributed, когда каждая матрица генерируется в своём RECORDREADER."
      ]
    },
    {
      "cell_type": "code",
      "metadata": {
        "id": "TDM_s78Rb5eR",
        "colab": {
          "base_uri": "https://localhost:8080/"
        },
        "outputId": "1ee73fe6-a32a-476d-d954-57f6c0418083"
      },
      "source": [
        "import numpy as np\n",
        "from collections import defaultdict\n",
        "\n",
        "NUM_MAPPERS = 2\n",
        "NUM_REDUCERS = 2\n",
        "ROWS_A = 100\n",
        "COLS_A = 50\n",
        "COLS_B = 40\n",
        "\n",
        "\n",
        "A = np.random.rand(ROWS_A, COLS_A)\n",
        "B = np.random.rand(COLS_A, COLS_B)\n",
        "\n",
        "def generate_chunks():\n",
        "    chunk_size = int(np.ceil(ROWS_A / NUM_MAPPERS))\n",
        "    for i_start in range(0, ROWS_A, chunk_size):\n",
        "        yield (i_start, min(i_start + chunk_size, ROWS_A))\n",
        "\n",
        "\n",
        "def map_function(chunk_start, chunk_end):\n",
        "    intermediate_results = defaultdict(list)\n",
        "    for i in range(chunk_start, chunk_end):\n",
        "        for j in range(COLS_A):\n",
        "            for k in range(COLS_B):\n",
        "                intermediate_results[(i, k)].append(A[i, j] * B[j, k])\n",
        "    return intermediate_results\n",
        "\n",
        "\n",
        "def partition_function(key, value):\n",
        "\n",
        "    i, k = key\n",
        "    return i % NUM_REDUCERS, (key, value)\n",
        "\n",
        "\n",
        "def reduce_function(reducer_id, intermediate_results):\n",
        "    reduced_results = {}\n",
        "    for key, values in intermediate_results.items():\n",
        "        reduced_results[key] = sum(values)\n",
        "    return reduced_results\n",
        "\n",
        "\n",
        "mapper_results = [map_function(chunk_start, chunk_end) for chunk_start, chunk_end in generate_chunks()]\n",
        "\n",
        "\n",
        "partitioned_data = defaultdict(list)\n",
        "for mapper_output in mapper_results:\n",
        "    for key, value in mapper_output.items():\n",
        "        reducer_id, data_item = partition_function(key, value)\n",
        "        partitioned_data[reducer_id].append(data_item)\n",
        "\n",
        "\n",
        "reducer_results = [reduce_function(reducer_id, dict(partitioned_data[reducer_id])) for reducer_id in partitioned_data]\n",
        "\n",
        "final_result = {}\n",
        "for reducer_output in reducer_results:\n",
        "    final_result.update(reducer_output)\n",
        "\n",
        "print(\"Matrix Multiplication Result (partial):\\n\", dict(final_result))\n",
        "\n",
        "result_matrix = np.zeros((ROWS_A, COLS_B))\n",
        "for (i, k), value in final_result.items():\n",
        "    result_matrix[i, k] = value\n",
        "\n",
        "\n",
        "print(\"\\nResult Matrix (NumPy):\\n\", result_matrix)\n",
        "\n",
        "numpy_result = np.dot(A, B)\n",
        "print(\"\\nVerification (NumPy):\\n\", numpy_result)\n",
        "\n",
        "tolerance = 1e-9\n",
        "print(\"\\nAre results equal ?\", np.allclose(result_matrix, numpy_result, atol=tolerance))\n",
        "\n"
      ],
      "execution_count": 164,
      "outputs": [
        {
          "output_type": "stream",
          "name": "stdout",
          "text": [
            "Matrix Multiplication Result (partial):\n",
            " {(0, 0): 13.841859349084276, (0, 1): 13.838594434554, (0, 2): 15.278158746354574, (0, 3): 11.701865036873603, (0, 4): 11.412915472664148, (0, 5): 13.055154796572808, (0, 6): 12.370028761162892, (0, 7): 13.825246951160327, (0, 8): 12.499917046241901, (0, 9): 14.720816231837544, (0, 10): 11.33602530759061, (0, 11): 11.864507632164342, (0, 12): 13.565135304986166, (0, 13): 13.984740343723617, (0, 14): 11.719433334807892, (0, 15): 14.169741523699047, (0, 16): 13.671685835423407, (0, 17): 12.305296777190211, (0, 18): 14.218429447982428, (0, 19): 13.74407226559767, (0, 20): 12.134147976456592, (0, 21): 13.220563391819258, (0, 22): 13.417462312948935, (0, 23): 14.57396515329611, (0, 24): 11.834669538992394, (0, 25): 11.631287000339329, (0, 26): 13.342200496148442, (0, 27): 14.832910266437205, (0, 28): 12.240501301390514, (0, 29): 14.965339053789645, (0, 30): 12.689044185136297, (0, 31): 13.262830295815302, (0, 32): 13.2569478594105, (0, 33): 13.959375539297003, (0, 34): 16.340194521175494, (0, 35): 14.32422206371496, (0, 36): 15.252486746807653, (0, 37): 15.479559136898084, (0, 38): 12.331989603765487, (0, 39): 12.521820196751424, (2, 0): 9.240370158777633, (2, 1): 10.325885114113799, (2, 2): 10.95441029328709, (2, 3): 9.651868957713512, (2, 4): 8.77851965489136, (2, 5): 9.384075342796796, (2, 6): 8.27861492635114, (2, 7): 10.981440841120188, (2, 8): 9.241935435399398, (2, 9): 10.702644627203302, (2, 10): 9.578551704519752, (2, 11): 7.200573625957405, (2, 12): 10.911386583046069, (2, 13): 10.239273833153469, (2, 14): 8.760310730179418, (2, 15): 11.092323011347117, (2, 16): 9.944690330857156, (2, 17): 9.991697079318046, (2, 18): 9.967188367875167, (2, 19): 10.884136918147027, (2, 20): 8.32364289416794, (2, 21): 9.19076244764048, (2, 22): 9.650871101949194, (2, 23): 11.488533513251701, (2, 24): 9.06155374822412, (2, 25): 8.614230449210178, (2, 26): 10.13375814897354, (2, 27): 10.971541659626935, (2, 28): 8.902952612857433, (2, 29): 10.237971591657564, (2, 30): 9.205292736571495, (2, 31): 10.511212731568994, (2, 32): 9.5928111959405, (2, 33): 10.89994834254933, (2, 34): 10.95635477003524, (2, 35): 10.097772510725061, (2, 36): 12.256782638687843, (2, 37): 11.310525998196374, (2, 38): 8.900257020956209, (2, 39): 8.654311081633663, (4, 0): 10.918687088039672, (4, 1): 11.258341006663956, (4, 2): 14.416503208585711, (4, 3): 11.355895573275756, (4, 4): 11.037216912002553, (4, 5): 11.427192717669852, (4, 6): 11.928385695571887, (4, 7): 12.894075170744735, (4, 8): 11.78866304058974, (4, 9): 13.697572429440624, (4, 10): 10.300744162104312, (4, 11): 9.916636538010335, (4, 12): 12.953528007190508, (4, 13): 12.019595653540362, (4, 14): 12.046084877485121, (4, 15): 13.207195258182034, (4, 16): 11.315050431440014, (4, 17): 11.765375842258667, (4, 18): 12.688442262766635, (4, 19): 12.489043817360102, (4, 20): 11.052429983121822, (4, 21): 11.765126697335301, (4, 22): 13.25897999424969, (4, 23): 12.485263929887203, (4, 24): 10.306060435927037, (4, 25): 10.170298946397, (4, 26): 12.458338236621197, (4, 27): 12.72618349295355, (4, 28): 11.119434170794538, (4, 29): 13.306795333452122, (4, 30): 12.08847445410877, (4, 31): 12.271129142721819, (4, 32): 11.486566495348317, (4, 33): 14.074612173531849, (4, 34): 13.023162914976082, (4, 35): 13.26977605553978, (4, 36): 14.372179933178325, (4, 37): 14.10010668511783, (4, 38): 10.816195279518626, (4, 39): 11.078375715599188, (6, 0): 10.22504115000706, (6, 1): 11.464068064186122, (6, 2): 12.291692155877788, (6, 3): 10.26186270233346, (6, 4): 9.031840072105858, (6, 5): 11.237311189639446, (6, 6): 10.832848816047873, (6, 7): 10.652024892035733, (6, 8): 11.873622000393663, (6, 9): 13.679557606849182, (6, 10): 10.371456843470277, (6, 11): 9.197727688972316, (6, 12): 11.695171363909871, (6, 13): 12.094799971471378, (6, 14): 10.698853398349584, (6, 15): 12.53327535566426, (6, 16): 10.586135164929583, (6, 17): 11.100128701117848, (6, 18): 10.987215449018503, (6, 19): 12.774131457646208, (6, 20): 9.818254195650344, (6, 21): 10.49154357489131, (6, 22): 11.676884332109656, (6, 23): 11.44056059513713, (6, 24): 10.757125764587196, (6, 25): 10.392841351216827, (6, 26): 11.320018915090003, (6, 27): 12.788350431827787, (6, 28): 9.982680826663646, (6, 29): 12.67013741829847, (6, 30): 9.93542632995522, (6, 31): 11.625067707205167, (6, 32): 10.807695878529119, (6, 33): 12.446497256264514, (6, 34): 12.247484225551954, (6, 35): 10.671451874556032, (6, 36): 13.109830932223055, (6, 37): 12.491091846974351, (6, 38): 9.917323629906111, (6, 39): 10.465406328344645, (8, 0): 11.562197660207504, (8, 1): 11.74654252816194, (8, 2): 15.152908687119476, (8, 3): 11.04016400592918, (8, 4): 11.287626783217831, (8, 5): 11.067951310060526, (8, 6): 12.101060295587647, (8, 7): 12.59257749997206, (8, 8): 12.333921357683298, (8, 9): 14.41232073714619, (8, 10): 11.487309360589695, (8, 11): 11.32635454049425, (8, 12): 13.167454104845039, (8, 13): 11.87810212887049, (8, 14): 11.970150773098297, (8, 15): 13.289299021427578, (8, 16): 11.136919099350804, (8, 17): 12.136049017691171, (8, 18): 12.888966805081585, (8, 19): 11.959954172904602, (8, 20): 11.369454480439863, (8, 21): 11.323820832079477, (8, 22): 12.753628688804097, (8, 23): 12.232922714659008, (8, 24): 10.923529029278546, (8, 25): 10.736764160533125, (8, 26): 13.019839113027292, (8, 27): 13.06494306358989, (8, 28): 11.055032974645275, (8, 29): 13.478408787585142, (8, 30): 11.210104451624886, (8, 31): 11.89180257019194, (8, 32): 10.982462558510521, (8, 33): 13.674914965239454, (8, 34): 12.976409944057833, (8, 35): 13.535810125919449, (8, 36): 13.926852547936488, (8, 37): 14.118872611655442, (8, 38): 11.338381425231155, (8, 39): 12.355936576241843, (10, 0): 10.417296720348933, (10, 1): 11.692910022234164, (10, 2): 13.586996564164181, (10, 3): 11.795353268108403, (10, 4): 9.914578939250756, (10, 5): 11.653597803595643, (10, 6): 11.42481052531685, (10, 7): 12.880980790104331, (10, 8): 12.902710023361363, (10, 9): 12.664608832059603, (10, 10): 9.56236048059102, (10, 11): 10.971181772124815, (10, 12): 13.184548645507196, (10, 13): 12.315586563284015, (10, 14): 10.257892819247864, (10, 15): 11.425704456058718, (10, 16): 11.276976087404893, (10, 17): 12.143928716465838, (10, 18): 11.242383454221534, (10, 19): 12.011039470203015, (10, 20): 9.53281837149648, (10, 21): 13.187765911579103, (10, 22): 10.765602832458352, (10, 23): 11.671662969859078, (10, 24): 10.381943581017842, (10, 25): 10.793168742685815, (10, 26): 10.61467978720262, (10, 27): 11.968930487225784, (10, 28): 11.386289410469995, (10, 29): 13.655830522371975, (10, 30): 10.602186844217744, (10, 31): 11.963516529123535, (10, 32): 11.645178386047862, (10, 33): 12.060254311336834, (10, 34): 12.133319325641642, (10, 35): 11.856589371585237, (10, 36): 13.027859387287664, (10, 37): 14.290878578158646, (10, 38): 10.615706156858746, (10, 39): 10.55474477394397, (12, 0): 11.52923493542859, (12, 1): 12.740447748255162, (12, 2): 13.843501820739593, (12, 3): 9.937836160967485, (12, 4): 9.890787953033394, (12, 5): 12.175478193231394, (12, 6): 11.185216989111545, (12, 7): 13.032882106042855, (12, 8): 11.91001549012292, (12, 9): 13.397305044347219, (12, 10): 10.497131926327544, (12, 11): 10.693185013654768, (12, 12): 13.050170641749602, (12, 13): 11.803602198727361, (12, 14): 9.900611034862314, (12, 15): 12.191706004718103, (12, 16): 11.094732965726648, (12, 17): 11.133625752094254, (12, 18): 10.476669811957121, (12, 19): 12.695512218167057, (12, 20): 9.934151573556242, (12, 21): 12.48564240812828, (12, 22): 11.880644095531776, (12, 23): 11.723245977229597, (12, 24): 12.055540936683496, (12, 25): 10.128762747472608, (12, 26): 10.887005256233724, (12, 27): 13.262699997752849, (12, 28): 10.392676087704713, (12, 29): 12.024908083080263, (12, 30): 10.71315268195148, (12, 31): 11.44379620311538, (12, 32): 12.180259623228647, (12, 33): 12.17206281376783, (12, 34): 13.423430979307112, (12, 35): 12.589613536336323, (12, 36): 13.334466734255674, (12, 37): 12.075387070570304, (12, 38): 10.782832885605337, (12, 39): 10.84094257867026, (14, 0): 10.601090962760566, (14, 1): 12.786219131685712, (14, 2): 14.090489618216559, (14, 3): 11.56195636536763, (14, 4): 12.185056246883224, (14, 5): 11.590238436693735, (14, 6): 11.746811502935767, (14, 7): 12.105335757245902, (14, 8): 12.512784165968661, (14, 9): 14.149021045007201, (14, 10): 10.46462578862617, (14, 11): 9.57248775476808, (14, 12): 12.28510549123231, (14, 13): 11.124156032202785, (14, 14): 12.639252095066785, (14, 15): 13.733269239511033, (14, 16): 11.95960402083644, (14, 17): 11.404588472578562, (14, 18): 11.310551186777365, (14, 19): 12.666597552736507, (14, 20): 10.719771329225113, (14, 21): 11.014405395873693, (14, 22): 12.411719944776387, (14, 23): 12.304546998644543, (14, 24): 11.59315122351198, (14, 25): 10.78122007053038, (14, 26): 11.845666652761167, (14, 27): 14.615731114951162, (14, 28): 10.333283095285946, (14, 29): 14.036630118096761, (14, 30): 11.5344735473064, (14, 31): 12.327372043524432, (14, 32): 12.019301657561508, (14, 33): 13.296828537287432, (14, 34): 13.104368792529906, (14, 35): 14.005363712146144, (14, 36): 13.915183970113384, (14, 37): 13.463562265039661, (14, 38): 11.492077680310038, (14, 39): 12.112134886465778, (16, 0): 10.929655356368736, (16, 1): 12.019446523039402, (16, 2): 13.454065332679397, (16, 3): 10.902348523316995, (16, 4): 10.940699643461036, (16, 5): 11.028498633463338, (16, 6): 11.575056502062557, (16, 7): 12.085889878910733, (16, 8): 11.85995762892147, (16, 9): 14.750757164375438, (16, 10): 11.115242866058422, (16, 11): 11.213123647636634, (16, 12): 13.290581284888523, (16, 13): 12.052463242256662, (16, 14): 10.514661820050048, (16, 15): 12.042289492256986, (16, 16): 11.760187432775949, (16, 17): 11.680185653608838, (16, 18): 11.577936087432008, (16, 19): 12.371774147731681, (16, 20): 11.12647543681939, (16, 21): 11.897640222987125, (16, 22): 12.054373668308926, (16, 23): 11.880046875786938, (16, 24): 11.373607330533247, (16, 25): 11.50644193555536, (16, 26): 12.065856831015486, (16, 27): 12.47050379311004, (16, 28): 10.957691597405406, (16, 29): 13.975159101405042, (16, 30): 10.588859444206992, (16, 31): 11.25893298556902, (16, 32): 11.53687505211273, (16, 33): 13.23535649256099, (16, 34): 12.825130594115455, (16, 35): 12.889150588540023, (16, 36): 13.879181609913777, (16, 37): 13.454266774202676, (16, 38): 10.445637663835132, (16, 39): 11.96043965476259, (18, 0): 13.296505427968729, (18, 1): 15.341000084428325, (18, 2): 16.349669937572017, (18, 3): 13.036424908173924, (18, 4): 12.96964236992419, (18, 5): 12.793844722480959, (18, 6): 13.090750543538025, (18, 7): 15.535972561359952, (18, 8): 13.774472471302236, (18, 9): 15.501897339637612, (18, 10): 12.60550134291372, (18, 11): 11.841501455455555, (18, 12): 14.500384190204638, (18, 13): 15.267433346300953, (18, 14): 13.192003809969133, (18, 15): 15.764861794464975, (18, 16): 14.7132040526289, (18, 17): 13.126947790189442, (18, 18): 14.576478344856307, (18, 19): 15.221754736109014, (18, 20): 13.704292848925855, (18, 21): 14.981394977500432, (18, 22): 13.780911635228867, (18, 23): 16.022279014700313, (18, 24): 12.830268017737922, (18, 25): 12.589841404289604, (18, 26): 14.752280934035795, (18, 27): 15.829120225630055, (18, 28): 13.465773383935309, (18, 29): 15.64340852744055, (18, 30): 13.070180991628366, (18, 31): 14.846685247550443, (18, 32): 13.688766943655464, (18, 33): 15.652251333369248, (18, 34): 16.450198896926228, (18, 35): 14.482479020466785, (18, 36): 16.169288268644312, (18, 37): 16.729393947117504, (18, 38): 12.59826672559985, (18, 39): 12.889383922350946, (20, 0): 11.305208577605045, (20, 1): 12.209101492291188, (20, 2): 13.67289496094769, (20, 3): 11.176801623488336, (20, 4): 9.688678759126917, (20, 5): 12.017728179485594, (20, 6): 11.565479371805653, (20, 7): 12.62610274754453, (20, 8): 11.774104187995613, (20, 9): 13.400835309126803, (20, 10): 10.706135459528218, (20, 11): 10.561462688431694, (20, 12): 13.0127015492595, (20, 13): 12.478955727069662, (20, 14): 10.879906080317284, (20, 15): 13.86965194349826, (20, 16): 12.37393621995141, (20, 17): 12.459375445858731, (20, 18): 11.448653838229836, (20, 19): 13.78273681312053, (20, 20): 9.792925889483458, (20, 21): 12.741899322969115, (20, 22): 12.248117596468527, (20, 23): 12.445285138641541, (20, 24): 11.305260831183471, (20, 25): 9.63146167943803, (20, 26): 12.288155576231583, (20, 27): 13.103870920017803, (20, 28): 10.86242919657304, (20, 29): 12.915995303602859, (20, 30): 11.591688482065218, (20, 31): 12.384414045664846, (20, 32): 10.30109962591128, (20, 33): 13.329882328463814, (20, 34): 13.635934799675958, (20, 35): 12.771094492289349, (20, 36): 14.018282484367575, (20, 37): 14.069044591558772, (20, 38): 11.686194704481805, (20, 39): 11.155586992611989, (22, 0): 13.013110761147695, (22, 1): 13.685408008282748, (22, 2): 15.58527741741748, (22, 3): 11.229770135059043, (22, 4): 13.144945884746047, (22, 5): 12.8903591538937, (22, 6): 13.389118295666186, (22, 7): 13.819184918963018, (22, 8): 12.590065981650357, (22, 9): 16.16077901378266, (22, 10): 11.592881718528663, (22, 11): 12.642853991925781, (22, 12): 14.381750193938268, (22, 13): 14.328096772084246, (22, 14): 11.120831693288768, (22, 15): 13.550699110311225, (22, 16): 13.619640482470922, (22, 17): 12.737284853724994, (22, 18): 13.151256202567064, (22, 19): 14.77277276959121, (22, 20): 11.007617319615422, (22, 21): 13.893232670914685, (22, 22): 12.440310520975235, (22, 23): 13.949246857784756, (22, 24): 11.383756259833302, (22, 25): 12.074932344212373, (22, 26): 13.226299620210446, (22, 27): 14.787438334173926, (22, 28): 11.900088517256972, (22, 29): 14.239601038107867, (22, 30): 12.813254591498524, (22, 31): 13.378045035616378, (22, 32): 12.4424429471867, (22, 33): 15.138985217694845, (22, 34): 14.820488801546595, (22, 35): 13.98812975715572, (22, 36): 14.035883870744785, (22, 37): 15.135396714345482, (22, 38): 11.86460509578566, (22, 39): 11.29139147548881, (24, 0): 11.903624684615414, (24, 1): 13.102340247146302, (24, 2): 13.806537192654867, (24, 3): 12.272165434895324, (24, 4): 11.701156797851379, (24, 5): 12.927822298295661, (24, 6): 11.963045213005172, (24, 7): 13.384423244156986, (24, 8): 12.028740454480436, (24, 9): 14.320451533331148, (24, 10): 11.076041669447914, (24, 11): 10.42735620650575, (24, 12): 13.776808766142523, (24, 13): 12.886542740631683, (24, 14): 11.821933298632402, (24, 15): 14.219029926067929, (24, 16): 12.279568245399988, (24, 17): 12.97430843235082, (24, 18): 11.890061161559686, (24, 19): 13.438082878014104, (24, 20): 11.666811718507407, (24, 21): 13.391309685651505, (24, 22): 13.07184355656337, (24, 23): 14.522141211735411, (24, 24): 11.851927807613528, (24, 25): 11.569101659588696, (24, 26): 12.258973231388167, (24, 27): 13.542573082663209, (24, 28): 11.568678917721792, (24, 29): 15.096442621526165, (24, 30): 10.24989398065748, (24, 31): 12.925952350304028, (24, 32): 13.476582917421485, (24, 33): 13.890283637442261, (24, 34): 15.288017365451593, (24, 35): 14.026121401928245, (24, 36): 14.411695887426562, (24, 37): 15.508707286359162, (24, 38): 12.18039989134435, (24, 39): 12.046929470896528, (26, 0): 13.100894100397493, (26, 1): 14.515907786232745, (26, 2): 16.9977833695579, (26, 3): 12.89330937354922, (26, 4): 12.32801109143711, (26, 5): 14.630816629834598, (26, 6): 13.266398697823613, (26, 7): 14.23830157977315, (26, 8): 13.241583709151547, (26, 9): 15.583003522274433, (26, 10): 13.124680131023304, (26, 11): 12.186837224754413, (26, 12): 14.56779687776142, (26, 13): 14.468977354506801, (26, 14): 12.54260668818192, (26, 15): 15.208045013755154, (26, 16): 12.927777100827477, (26, 17): 13.635057851635374, (26, 18): 14.662421372937581, (26, 19): 13.623249515599502, (26, 20): 12.609256714895754, (26, 21): 14.131758415909665, (26, 22): 15.420661086285639, (26, 23): 14.538415997908775, (26, 24): 12.812329527008181, (26, 25): 12.811679149851, (26, 26): 14.81208301465882, (26, 27): 16.19462564233655, (26, 28): 13.262898528400084, (26, 29): 15.70217679918361, (26, 30): 12.437996501582687, (26, 31): 14.08369027625853, (26, 32): 13.59054614857898, (26, 33): 15.059924478157141, (26, 34): 15.40952211117009, (26, 35): 14.395895449195871, (26, 36): 15.955102477069396, (26, 37): 15.597993640396359, (26, 38): 12.254937521476945, (26, 39): 13.123539708756457, (28, 0): 12.89329197257456, (28, 1): 13.660509063463884, (28, 2): 15.359926771972646, (28, 3): 10.774405732141945, (28, 4): 11.88218719407058, (28, 5): 11.960817360645159, (28, 6): 12.321030588552011, (28, 7): 13.221913066229888, (28, 8): 13.747225858925628, (28, 9): 14.611068194406775, (28, 10): 12.0255006731561, (28, 11): 12.193361738127217, (28, 12): 14.284546559949481, (28, 13): 13.231098521256692, (28, 14): 13.346006433536333, (28, 15): 14.624442616852726, (28, 16): 12.984788680047824, (28, 17): 12.335530870690397, (28, 18): 13.350102453681597, (28, 19): 14.047378478922365, (28, 20): 12.320979820932163, (28, 21): 12.529476673042723, (28, 22): 14.13369450297071, (28, 23): 14.129243524783869, (28, 24): 12.42798511839497, (28, 25): 12.183631468810118, (28, 26): 13.156700211377009, (28, 27): 14.118888232853255, (28, 28): 12.063928001770654, (28, 29): 14.832699594288064, (28, 30): 11.582391501790676, (28, 31): 13.418074954880032, (28, 32): 12.510712251299982, (28, 33): 15.078123014347938, (28, 34): 14.549989445401959, (28, 35): 14.031979416577808, (28, 36): 14.972062076836492, (28, 37): 14.76706888322217, (28, 38): 11.233437200721635, (28, 39): 12.04361182425659, (30, 0): 11.743102110789037, (30, 1): 12.317991169391485, (30, 2): 12.846586087452947, (30, 3): 11.357751917673559, (30, 4): 9.087603348146622, (30, 5): 11.387150189274767, (30, 6): 11.146521937813315, (30, 7): 11.362436749453533, (30, 8): 11.461534203529316, (30, 9): 13.877198005147854, (30, 10): 10.5869037059947, (30, 11): 10.071523428892206, (30, 12): 12.295305072772305, (30, 13): 12.47597551833483, (30, 14): 10.62144651133583, (30, 15): 14.132564821071115, (30, 16): 11.240594951242002, (30, 17): 11.804784145554871, (30, 18): 11.700671989166295, (30, 19): 12.818125684142885, (30, 20): 9.747091186703003, (30, 21): 11.151555764208599, (30, 22): 12.118351653719655, (30, 23): 12.17665416290956, (30, 24): 11.525547952724386, (30, 25): 9.823872099952661, (30, 26): 12.150785799619639, (30, 27): 13.431151100126305, (30, 28): 9.902715836486417, (30, 29): 12.478191554265731, (30, 30): 10.416529814913332, (30, 31): 11.540223923056505, (30, 32): 10.218062276236452, (30, 33): 12.68221377541922, (30, 34): 12.959824063077145, (30, 35): 12.013922406027653, (30, 36): 13.113616533038327, (30, 37): 13.501962625288131, (30, 38): 10.68968018861492, (30, 39): 11.273181080931145, (32, 0): 12.03009648005819, (32, 1): 13.498517030182398, (32, 2): 13.963122895220415, (32, 3): 10.962030859956863, (32, 4): 10.333944770726813, (32, 5): 12.661447344848403, (32, 6): 12.336795098404032, (32, 7): 13.007335227286084, (32, 8): 12.790844568355459, (32, 9): 14.019439685867265, (32, 10): 11.44083820139711, (32, 11): 10.964116447176927, (32, 12): 13.657438534459972, (32, 13): 14.368403886786503, (32, 14): 11.323866041149586, (32, 15): 14.479380688067083, (32, 16): 12.4578122060612, (32, 17): 13.05881407042082, (32, 18): 11.939115643452324, (32, 19): 14.42066925258861, (32, 20): 10.283988650322371, (32, 21): 12.903284467603807, (32, 22): 11.929536876967312, (32, 23): 13.011006408230623, (32, 24): 11.618345582420417, (32, 25): 11.639737875983029, (32, 26): 11.703268080173439, (32, 27): 13.45861605810493, (32, 28): 11.558309355541803, (32, 29): 14.34878503093499, (32, 30): 11.255810397867998, (32, 31): 12.669148885206397, (32, 32): 12.605136158613409, (32, 33): 13.626570523634696, (32, 34): 13.782506546576268, (32, 35): 12.593735545201776, (32, 36): 14.555609188247702, (32, 37): 14.179067411068365, (32, 38): 12.411917564266677, (32, 39): 11.76897456317202, (34, 0): 11.573667735179843, (34, 1): 12.712328207101109, (34, 2): 13.829556901985901, (34, 3): 12.156556524669378, (34, 4): 11.098423486647071, (34, 5): 11.260018974887558, (34, 6): 11.485156907166749, (34, 7): 12.685755968776617, (34, 8): 12.114476320852111, (34, 9): 13.26712714806713, (34, 10): 10.781550659045994, (34, 11): 10.709211413447775, (34, 12): 13.9214201779062, (34, 13): 12.292610716997128, (34, 14): 11.622920065048856, (34, 15): 13.24531830232898, (34, 16): 11.544058315229291, (34, 17): 11.156223769339887, (34, 18): 11.751190393142519, (34, 19): 12.50130145201801, (34, 20): 10.442364357162742, (34, 21): 12.31586160561287, (34, 22): 12.336091385725007, (34, 23): 12.68719180779691, (34, 24): 11.862163719859737, (34, 25): 9.956145880576997, (34, 26): 11.8575298636121, (34, 27): 13.121670280677202, (34, 28): 10.512403497825478, (34, 29): 13.407678415176658, (34, 30): 11.573924166976562, (34, 31): 11.836301930823042, (34, 32): 12.136040975821683, (34, 33): 12.430622167898642, (34, 34): 13.672932167686266, (34, 35): 14.145325117584113, (34, 36): 13.668186544949833, (34, 37): 14.594606041377242, (34, 38): 10.516312522240838, (34, 39): 12.292305684918654, (36, 0): 11.406054010904475, (36, 1): 12.303657083257553, (36, 2): 14.351896046360444, (36, 3): 11.223212717072869, (36, 4): 9.821641214912306, (36, 5): 12.407758112451829, (36, 6): 10.879587271852087, (36, 7): 12.902624500793465, (36, 8): 11.20945794838353, (36, 9): 13.583314215343712, (36, 10): 10.476341222318222, (36, 11): 10.395144720248368, (36, 12): 12.92578840607253, (36, 13): 12.608946609329596, (36, 14): 10.919541233780556, (36, 15): 12.043136382396476, (36, 16): 11.378686077280522, (36, 17): 10.600123444314034, (36, 18): 11.31912425092299, (36, 19): 11.880332195384081, (36, 20): 11.049903130531215, (36, 21): 11.515083159197525, (36, 22): 12.206303886106289, (36, 23): 12.37204683823003, (36, 24): 10.648012301130766, (36, 25): 10.196325006073375, (36, 26): 11.773567779469678, (36, 27): 13.17175171172786, (36, 28): 10.618713508595798, (36, 29): 13.539996969456476, (36, 30): 10.369794638660872, (36, 31): 11.908566391243626, (36, 32): 11.517038240099811, (36, 33): 11.886519062547123, (36, 34): 14.61524005875504, (36, 35): 11.222885137717714, (36, 36): 13.627164378445084, (36, 37): 13.562089779380472, (36, 38): 9.765397683426638, (36, 39): 10.893778480618623, (38, 0): 10.79153672748504, (38, 1): 12.900226831044451, (38, 2): 12.676833276152816, (38, 3): 11.489529999090843, (38, 4): 10.346851211092087, (38, 5): 11.153959555131959, (38, 6): 11.461156293244423, (38, 7): 12.726963961552174, (38, 8): 11.821605380779024, (38, 9): 14.04480135631787, (38, 10): 10.71000218378632, (38, 11): 9.867323613358927, (38, 12): 12.213437489427232, (38, 13): 12.560982835192052, (38, 14): 10.148940908268994, (38, 15): 13.577807434348296, (38, 16): 11.666899943048858, (38, 17): 12.338699226965902, (38, 18): 12.086181936790489, (38, 19): 13.839482747317543, (38, 20): 10.583795508145466, (38, 21): 11.367224732271875, (38, 22): 11.318263649590584, (38, 23): 11.843995955767923, (38, 24): 10.984503130850555, (38, 25): 11.083578168404058, (38, 26): 10.85771981912957, (38, 27): 12.965647786719025, (38, 28): 11.164646229098116, (38, 29): 11.947131504737259, (38, 30): 11.383031992925462, (38, 31): 11.97226262495259, (38, 32): 11.279294305015892, (38, 33): 12.51737779766055, (38, 34): 12.533631083784826, (38, 35): 11.96506932405857, (38, 36): 14.156976410995474, (38, 37): 12.36804320777106, (38, 38): 10.316056718836121, (38, 39): 10.003106693950608, (40, 0): 11.789012824977853, (40, 1): 13.426460879549596, (40, 2): 14.963219728757217, (40, 3): 11.525619455595127, (40, 4): 12.418827811752148, (40, 5): 11.867137770337663, (40, 6): 12.566276853374346, (40, 7): 13.962131403864332, (40, 8): 12.441754388343973, (40, 9): 15.107749944929571, (40, 10): 11.374760325766557, (40, 11): 11.294053446830675, (40, 12): 14.73717825417895, (40, 13): 13.856281320490472, (40, 14): 11.62091767956099, (40, 15): 14.45473391653347, (40, 16): 12.916719061714609, (40, 17): 11.837805598705806, (40, 18): 13.520461922975695, (40, 19): 14.234182140861616, (40, 20): 11.36927330861747, (40, 21): 12.679919601818954, (40, 22): 12.640029777943068, (40, 23): 13.357695415791575, (40, 24): 12.31324918543467, (40, 25): 11.782855286412113, (40, 26): 13.036655975196412, (40, 27): 14.677201738487218, (40, 28): 11.587438074915923, (40, 29): 13.99101579786804, (40, 30): 12.408412638295463, (40, 31): 12.970431976666047, (40, 32): 12.189883341043966, (40, 33): 14.426880492336775, (40, 34): 14.78940257096917, (40, 35): 12.851456808444615, (40, 36): 14.74330894042794, (40, 37): 14.853557255311213, (40, 38): 11.786618889812097, (40, 39): 12.558758918293627, (42, 0): 14.391415183840817, (42, 1): 15.140429187422852, (42, 2): 17.020229678625356, (42, 3): 14.106783134231604, (42, 4): 12.746325463282652, (42, 5): 14.290868537547562, (42, 6): 14.235469130384338, (42, 7): 16.11992912711286, (42, 8): 14.744695278898812, (42, 9): 16.325594049162614, (42, 10): 12.29345842213097, (42, 11): 12.994994450931811, (42, 12): 15.32293748568719, (42, 13): 15.434154563339456, (42, 14): 13.814589981087156, (42, 15): 15.883674768886493, (42, 16): 15.474243456502299, (42, 17): 14.415507748889253, (42, 18): 15.855017595997106, (42, 19): 16.506226253586266, (42, 20): 12.718271366149448, (42, 21): 15.393703753560978, (42, 22): 13.293234704607922, (42, 23): 15.609447152304625, (42, 24): 13.602916635907865, (42, 25): 13.238448764116505, (42, 26): 14.521855773244981, (42, 27): 16.354238756216464, (42, 28): 13.575915146932534, (42, 29): 15.763052036018612, (42, 30): 14.604112022352759, (42, 31): 15.49606049021374, (42, 32): 13.963016651333652, (42, 33): 15.871380487161638, (42, 34): 16.6926284625078, (42, 35): 14.314797001978045, (42, 36): 17.360096723936543, (42, 37): 15.930841240360891, (42, 38): 13.229792795651061, (42, 39): 14.202605027415673, (44, 0): 11.97068825583434, (44, 1): 13.29530193794015, (44, 2): 15.310406373936237, (44, 3): 12.635638930001429, (44, 4): 11.626541456199364, (44, 5): 12.883028256735422, (44, 6): 12.43399253041728, (44, 7): 14.036695744270249, (44, 8): 12.458741119960703, (44, 9): 14.042332955304058, (44, 10): 11.688724074104064, (44, 11): 11.00149808454304, (44, 12): 13.312373895664635, (44, 13): 12.99507207286125, (44, 14): 11.232766289670185, (44, 15): 14.420779505887149, (44, 16): 13.324964932868292, (44, 17): 13.511825486365893, (44, 18): 12.574792674184545, (44, 19): 13.161692860220555, (44, 20): 11.083893390993847, (44, 21): 13.506782494497944, (44, 22): 12.81088013544538, (44, 23): 13.414049635933466, (44, 24): 11.1314672863129, (44, 25): 12.294686604390563, (44, 26): 12.476117190661846, (44, 27): 13.618311183788498, (44, 28): 12.755429316864772, (44, 29): 14.979356016285406, (44, 30): 12.114271015516382, (44, 31): 13.436157792768999, (44, 32): 12.395271047321293, (44, 33): 15.134114266180347, (44, 34): 13.761350737372435, (44, 35): 13.55731773489412, (44, 36): 14.801146199861977, (44, 37): 16.190512918904524, (44, 38): 11.1338991120262, (44, 39): 11.881654930135452, (46, 0): 13.32594602442705, (46, 1): 13.378131045539929, (46, 2): 15.746344732473593, (46, 3): 12.171702574281259, (46, 4): 11.071219480925434, (46, 5): 12.183804676342868, (46, 6): 12.180556899449602, (46, 7): 13.767812193193521, (46, 8): 12.748138878538255, (46, 9): 15.17982929649584, (46, 10): 11.983379744544246, (46, 11): 10.866314363258175, (46, 12): 13.621699196198403, (46, 13): 12.924401628516314, (46, 14): 12.175835731991851, (46, 15): 13.885796288427413, (46, 16): 13.090110199853086, (46, 17): 13.432849073048395, (46, 18): 13.078524741935533, (46, 19): 14.08598891724792, (46, 20): 10.857949736426244, (46, 21): 12.850179022030945, (46, 22): 12.76841637225493, (46, 23): 13.453684777853084, (46, 24): 12.310227064337196, (46, 25): 12.51222621111275, (46, 26): 12.530035346814998, (46, 27): 15.511121932472118, (46, 28): 11.606338076496357, (46, 29): 13.500126962069478, (46, 30): 12.573155272327385, (46, 31): 12.701633192067233, (46, 32): 12.260725070646666, (46, 33): 15.394143114097364, (46, 34): 14.20861912252551, (46, 35): 13.298311008337349, (46, 36): 15.63796958752532, (46, 37): 13.805230156482217, (46, 38): 11.585950572326587, (46, 39): 12.565063639489972, (48, 0): 13.376580447626253, (48, 1): 14.558036494372404, (48, 2): 15.777693270363853, (48, 3): 12.55597784792991, (48, 4): 12.501025987511918, (48, 5): 13.200597060213434, (48, 6): 12.357982350084296, (48, 7): 13.970834322437442, (48, 8): 13.384337767128057, (48, 9): 17.471851852087823, (48, 10): 11.929787115430985, (48, 11): 11.811072786708769, (48, 12): 15.126150304943865, (48, 13): 14.215151639017535, (48, 14): 12.35492665222427, (48, 15): 15.579223852476373, (48, 16): 14.152442419469999, (48, 17): 13.586622575697714, (48, 18): 14.09170521590425, (48, 19): 15.97058078330587, (48, 20): 11.585127983894798, (48, 21): 13.843268501213206, (48, 22): 14.10165074427734, (48, 23): 14.976045101739965, (48, 24): 13.736875851968154, (48, 25): 12.553997238976114, (48, 26): 13.555960509923512, (48, 27): 16.6761385256678, (48, 28): 12.584008252181722, (48, 29): 14.430738122886915, (48, 30): 13.368754437341597, (48, 31): 14.05209334306691, (48, 32): 13.335317866949408, (48, 33): 15.291540668511585, (48, 34): 15.697069314107976, (48, 35): 14.06612318483095, (48, 36): 15.735485210177567, (48, 37): 15.827609467985695, (48, 38): 12.13446654454345, (48, 39): 11.95189160409251, (50, 0): 11.42373251824179, (50, 1): 12.977517828583581, (50, 2): 14.25281477767876, (50, 3): 11.387235640862103, (50, 4): 10.414052218548333, (50, 5): 12.227852122406446, (50, 6): 11.114697304615387, (50, 7): 13.20711447238582, (50, 8): 11.942482278030987, (50, 9): 12.983587804020694, (50, 10): 11.158740500681539, (50, 11): 10.981640189422041, (50, 12): 14.371436850529157, (50, 13): 12.853601272182557, (50, 14): 11.568685695185104, (50, 15): 12.626953486132042, (50, 16): 12.2343421656452, (50, 17): 11.708941017437914, (50, 18): 12.105399342637334, (50, 19): 12.910113979512579, (50, 20): 11.448440530861674, (50, 21): 12.073992589108743, (50, 22): 11.26272071393844, (50, 23): 12.104699103008045, (50, 24): 12.326879554435834, (50, 25): 10.877342997625224, (50, 26): 11.786034030318802, (50, 27): 14.175414748357245, (50, 28): 10.164666237762926, (50, 29): 13.292046083934594, (50, 30): 10.93025784845114, (50, 31): 11.713388575961119, (50, 32): 11.8121493534909, (50, 33): 12.487199981434467, (50, 34): 13.204209533044029, (50, 35): 12.728941320352241, (50, 36): 13.838533044879359, (50, 37): 14.139188071212079, (50, 38): 10.723842637388872, (50, 39): 12.4441064947074, (52, 0): 10.1956901176982, (52, 1): 10.864574450664989, (52, 2): 12.142670453051906, (52, 3): 10.416838175476968, (52, 4): 8.838126505787944, (52, 5): 10.039229110764255, (52, 6): 10.009417804154307, (52, 7): 10.919640631238035, (52, 8): 10.134953271916832, (52, 9): 12.19979848633296, (52, 10): 9.449945598063712, (52, 11): 9.422357282294044, (52, 12): 11.80728176980116, (52, 13): 10.558870209631339, (52, 14): 9.805678058925622, (52, 15): 12.282867146571785, (52, 16): 9.869595600524534, (52, 17): 10.558806088239143, (52, 18): 10.22061962949213, (52, 19): 11.79973078332171, (52, 20): 8.808002804801657, (52, 21): 10.69750331155826, (52, 22): 10.755167412911609, (52, 23): 10.540763475076043, (52, 24): 9.325908650419247, (52, 25): 7.882973789763234, (52, 26): 11.059219270693866, (52, 27): 11.030283023006906, (52, 28): 8.870769142987124, (52, 29): 11.259950610787977, (52, 30): 9.038388388171944, (52, 31): 11.09788527138622, (52, 32): 9.579244330034456, (52, 33): 10.413722920226592, (52, 34): 11.258493631149143, (52, 35): 10.823982877742225, (52, 36): 12.402446917974048, (52, 37): 12.05747176317453, (52, 38): 8.861340819143022, (52, 39): 10.759176379579948, (54, 0): 12.845115606210191, (54, 1): 14.184899420632526, (54, 2): 15.78273017220932, (54, 3): 12.51336882590004, (54, 4): 11.665135504462517, (54, 5): 12.634416606552303, (54, 6): 12.327612740359028, (54, 7): 13.760092397417623, (54, 8): 13.35357934203918, (54, 9): 14.417561513916572, (54, 10): 12.878416918226675, (54, 11): 11.492825352424415, (54, 12): 14.07377593003697, (54, 13): 14.301619097839078, (54, 14): 12.477433458014204, (54, 15): 14.46158962010875, (54, 16): 13.153953201469395, (54, 17): 12.935906743155881, (54, 18): 14.324909488214617, (54, 19): 13.375126564211014, (54, 20): 12.061966076433464, (54, 21): 12.422043669047154, (54, 22): 13.383521367283876, (54, 23): 14.692543382424482, (54, 24): 13.268819165517169, (54, 25): 12.300885208405916, (54, 26): 13.993555549546686, (54, 27): 14.866054040399034, (54, 28): 12.571111996127602, (54, 29): 15.304145037988988, (54, 30): 12.688062731628488, (54, 31): 13.089520945912604, (54, 32): 12.413717502886403, (54, 33): 13.99169615420005, (54, 34): 14.71368951098371, (54, 35): 13.306796868434892, (54, 36): 15.39549172017556, (54, 37): 15.426954658571148, (54, 38): 11.930514076469638, (54, 39): 12.615177649249766, (56, 0): 11.844305219862726, (56, 1): 12.75171184939883, (56, 2): 14.102826460487407, (56, 3): 9.747433369657346, (56, 4): 11.663949674741474, (56, 5): 12.014173152442408, (56, 6): 12.575188534072336, (56, 7): 12.213275695727559, (56, 8): 11.932907080457305, (56, 9): 13.978638719548544, (56, 10): 10.643686681038366, (56, 11): 10.257252902456157, (56, 12): 12.72928041518818, (56, 13): 12.971102564996814, (56, 14): 11.667784834102319, (56, 15): 12.980262454440375, (56, 16): 12.155744061075081, (56, 17): 12.740287264085262, (56, 18): 11.91682684610551, (56, 19): 13.992013361665665, (56, 20): 9.99739423350276, (56, 21): 12.227819150201771, (56, 22): 11.429471795422272, (56, 23): 12.842749559917015, (56, 24): 10.595832547324282, (56, 25): 11.204374124634278, (56, 26): 12.066513147999313, (56, 27): 14.1046506604271, (56, 28): 11.143744125449949, (56, 29): 13.023182620481155, (56, 30): 12.264530284014388, (56, 31): 12.34186228578927, (56, 32): 12.905403291439509, (56, 33): 13.232977072564521, (56, 34): 14.034342209840775, (56, 35): 13.712842908506236, (56, 36): 14.54648344232331, (56, 37): 13.272000432659675, (56, 38): 11.636422906307102, (56, 39): 11.891133573894836, (58, 0): 12.158823919823796, (58, 1): 13.24900419644458, (58, 2): 14.489069185917842, (58, 3): 12.295982478160834, (58, 4): 11.875525010839644, (58, 5): 13.216864134622812, (58, 6): 12.547477227857742, (58, 7): 14.48610057911716, (58, 8): 13.694179547521564, (58, 9): 15.176739646664581, (58, 10): 11.921417290225081, (58, 11): 11.703680711546646, (58, 12): 14.29171623402762, (58, 13): 14.731103413194882, (58, 14): 11.391099057527622, (58, 15): 14.610773584920357, (58, 16): 13.420310970180301, (58, 17): 13.841605507921308, (58, 18): 14.344275314248069, (58, 19): 13.797059354021291, (58, 20): 11.592187191809305, (58, 21): 14.04102834005759, (58, 22): 13.384583625372501, (58, 23): 13.91018879563601, (58, 24): 13.04356477892441, (58, 25): 12.730422951333136, (58, 26): 12.83234376934446, (58, 27): 14.583079977481287, (58, 28): 12.970995676064993, (58, 29): 15.913049738678893, (58, 30): 13.149930141554941, (58, 31): 13.22813486611106, (58, 32): 13.335626199216513, (58, 33): 14.881054210495261, (58, 34): 14.938311212752932, (58, 35): 13.057393881869361, (58, 36): 14.814385051342207, (58, 37): 16.570280670412856, (58, 38): 12.89021545957368, (58, 39): 11.716041267331198, (60, 0): 12.54318190992824, (60, 1): 13.789938558851198, (60, 2): 16.407773937442887, (60, 3): 11.738010911603252, (60, 4): 11.727548778391796, (60, 5): 14.299668786036422, (60, 6): 12.764628561127036, (60, 7): 13.759773169319015, (60, 8): 13.392234067109241, (60, 9): 15.907912934752261, (60, 10): 12.509132406381243, (60, 11): 11.958126322959428, (60, 12): 14.550453499086075, (60, 13): 14.401259314357006, (60, 14): 12.23643637851568, (60, 15): 13.85378189597375, (60, 16): 13.090795743865465, (60, 17): 13.600403063576973, (60, 18): 14.101542834949806, (60, 19): 13.296125153598528, (60, 20): 11.533473838046048, (60, 21): 13.125567103651976, (60, 22): 14.66347420694047, (60, 23): 14.077591506461989, (60, 24): 13.241828394835235, (60, 25): 11.92674801492289, (60, 26): 14.364743536029945, (60, 27): 15.045434849355631, (60, 28): 12.98517977288319, (60, 29): 14.583982889880428, (60, 30): 12.894170296257295, (60, 31): 13.529553572921161, (60, 32): 13.067786174252173, (60, 33): 15.196496984973434, (60, 34): 14.913977003946629, (60, 35): 13.931457583865235, (60, 36): 15.409839997740288, (60, 37): 15.807639755555774, (60, 38): 12.72778172554575, (60, 39): 13.483410624563778, (62, 0): 11.991845941010697, (62, 1): 12.081694927058562, (62, 2): 14.627743495249948, (62, 3): 9.881799976800595, (62, 4): 10.653169451943391, (62, 5): 11.199850025105082, (62, 6): 10.586895381527018, (62, 7): 12.268337588248562, (62, 8): 12.931219683768067, (62, 9): 13.341480139910717, (62, 10): 12.05774063413988, (62, 11): 11.266163852396486, (62, 12): 13.667383280319575, (62, 13): 13.070631561683932, (62, 14): 10.571632870325896, (62, 15): 12.223151750866366, (62, 16): 10.698379853311563, (62, 17): 11.821880450672637, (62, 18): 13.270784461953372, (62, 19): 12.097962608397788, (62, 20): 11.006689830762484, (62, 21): 11.84598421070631, (62, 22): 12.228365306916663, (62, 23): 12.872675836369378, (62, 24): 12.046240905809933, (62, 25): 11.27400059945296, (62, 26): 11.630230289329335, (62, 27): 13.73476209394005, (62, 28): 11.84645667842124, (62, 29): 12.92161439845085, (62, 30): 11.245388363175147, (62, 31): 11.60055493898216, (62, 32): 12.04870810548188, (62, 33): 13.080932492399377, (62, 34): 13.161619500082834, (62, 35): 11.591717695785317, (62, 36): 13.92530489617062, (62, 37): 13.81124773996371, (62, 38): 9.77964544840213, (62, 39): 10.281479977962569, (64, 0): 12.038753380708076, (64, 1): 12.000066331275805, (64, 2): 14.404935674359447, (64, 3): 11.221267669356246, (64, 4): 10.22637089787555, (64, 5): 11.677185941691715, (64, 6): 11.199426983879688, (64, 7): 13.599712160433805, (64, 8): 12.771758869133976, (64, 9): 14.19904843705579, (64, 10): 11.696921877661193, (64, 11): 11.145593057877106, (64, 12): 14.078273234935805, (64, 13): 12.145303736660086, (64, 14): 11.140263572466004, (64, 15): 13.070832952478725, (64, 16): 11.975915498398322, (64, 17): 12.474243218372026, (64, 18): 11.529641106979003, (64, 19): 13.138464982510683, (64, 20): 11.248302160762545, (64, 21): 12.963555422986857, (64, 22): 11.95977431602025, (64, 23): 12.959224591683963, (64, 24): 10.47142892491099, (64, 25): 10.417491548627455, (64, 26): 11.7603075629683, (64, 27): 12.681298858788393, (64, 28): 11.299985910299077, (64, 29): 13.927164844765873, (64, 30): 10.666285240625536, (64, 31): 13.013738089646106, (64, 32): 11.799333211323766, (64, 33): 13.337415579389287, (64, 34): 15.04931952081738, (64, 35): 13.392506125706202, (64, 36): 14.811728026788412, (64, 37): 14.38141938441862, (64, 38): 10.123686051860329, (64, 39): 11.546902717841368, (66, 0): 11.050474673249132, (66, 1): 12.311375583589903, (66, 2): 13.841028153711344, (66, 3): 10.593203578988494, (66, 4): 10.608695977881979, (66, 5): 11.221837843276585, (66, 6): 11.396081904842884, (66, 7): 11.322479902091336, (66, 8): 11.691415647374956, (66, 9): 12.345634036581156, (66, 10): 11.346276269000107, (66, 11): 9.431463460066054, (66, 12): 11.253375557851149, (66, 13): 11.027412649272685, (66, 14): 10.724751463837414, (66, 15): 11.885791868904995, (66, 16): 10.744383617772845, (66, 17): 11.209883665812196, (66, 18): 10.656096386923055, (66, 19): 11.094846059378908, (66, 20): 10.038014677715623, (66, 21): 10.868715603368742, (66, 22): 11.120606470087159, (66, 23): 12.112370853899849, (66, 24): 10.548622989654518, (66, 25): 11.383625908926179, (66, 26): 11.286623839386632, (66, 27): 13.417879277688074, (66, 28): 11.072702530851785, (66, 29): 13.018219955233178, (66, 30): 10.37970849573672, (66, 31): 12.014394317377976, (66, 32): 11.04235801696067, (66, 33): 12.824310531933902, (66, 34): 12.486256918578919, (66, 35): 11.526631315873027, (66, 36): 13.55529716225523, (66, 37): 12.830104088681914, (66, 38): 9.54854237853049, (66, 39): 10.172982252559061, (68, 0): 10.456785827171085, (68, 1): 11.321321564208656, (68, 2): 13.818835504723276, (68, 3): 10.821184902245362, (68, 4): 10.62995990803905, (68, 5): 11.268582626715641, (68, 6): 10.748648234719186, (68, 7): 12.84876619411264, (68, 8): 10.92656941201085, (68, 9): 14.777946728101998, (68, 10): 10.194170579642035, (68, 11): 10.531697551347087, (68, 12): 13.62759526198489, (68, 13): 11.664093688861612, (68, 14): 10.60143622720815, (68, 15): 12.719941980283746, (68, 16): 11.505462240740167, (68, 17): 11.512707320486014, (68, 18): 11.725249120962896, (68, 19): 12.688409041501503, (68, 20): 10.126517653314647, (68, 21): 11.511778417658718, (68, 22): 10.766692543545254, (68, 23): 11.37206668062856, (68, 24): 10.796838717221407, (68, 25): 9.888731803227843, (68, 26): 10.117164523604702, (68, 27): 13.261122855691777, (68, 28): 10.263467507689851, (68, 29): 11.978968057104673, (68, 30): 11.476301790257482, (68, 31): 12.04838826329436, (68, 32): 10.501266925678962, (68, 33): 12.232034485351083, (68, 34): 12.82211563066652, (68, 35): 12.729046743768517, (68, 36): 14.240574601701082, (68, 37): 12.274324590508892, (68, 38): 10.595441015171136, (68, 39): 11.041218365484385, (70, 0): 12.811267465725487, (70, 1): 13.994263246758052, (70, 2): 16.100950381668568, (70, 3): 11.925987907011445, (70, 4): 12.494112383647934, (70, 5): 12.022418458539459, (70, 6): 12.131684498348697, (70, 7): 13.932128062139277, (70, 8): 13.541206433387117, (70, 9): 15.936486791903507, (70, 10): 11.958349764526172, (70, 11): 11.115900266828534, (70, 12): 15.000686663745427, (70, 13): 14.011241486880655, (70, 14): 12.322050851240009, (70, 15): 14.311007628530852, (70, 16): 13.03815862137915, (70, 17): 13.564293437209367, (70, 18): 13.433398229242677, (70, 19): 13.996511192278698, (70, 20): 11.358751209607703, (70, 21): 13.369445939541151, (70, 22): 12.477063172402008, (70, 23): 13.979555183840873, (70, 24): 12.789220914242506, (70, 25): 12.653900222608717, (70, 26): 11.580177676093742, (70, 27): 15.087203916879613, (70, 28): 12.526002281255984, (70, 29): 14.442823932176301, (70, 30): 12.367149519171226, (70, 31): 13.040464713402747, (70, 32): 12.59029206405019, (70, 33): 15.08587618416773, (70, 34): 15.126034141956367, (70, 35): 13.737806114162483, (70, 36): 15.527134679108727, (70, 37): 15.025543780682066, (70, 38): 11.645595177624323, (70, 39): 12.756679382888118, (72, 0): 12.100071529679797, (72, 1): 12.8820608816617, (72, 2): 14.825089523235796, (72, 3): 11.197604539962079, (72, 4): 11.045336454006694, (72, 5): 13.821606645128938, (72, 6): 12.807576433553217, (72, 7): 13.01591036095228, (72, 8): 13.052257499357703, (72, 9): 14.126131828707624, (72, 10): 12.589641190868823, (72, 11): 9.828828795137788, (72, 12): 14.137026518970176, (72, 13): 13.99493182064132, (72, 14): 11.907823340158567, (72, 15): 14.182683921759839, (72, 16): 12.44456905927723, (72, 17): 12.897397900739946, (72, 18): 12.78033040265987, (72, 19): 13.384153266690658, (72, 20): 10.234135111200164, (72, 21): 12.789200325324943, (72, 22): 12.632358239954167, (72, 23): 12.740701112031514, (72, 24): 12.116938829273035, (72, 25): 12.427421518174055, (72, 26): 13.117065012591913, (72, 27): 13.856115168850033, (72, 28): 11.468659092874802, (72, 29): 14.694662081437546, (72, 30): 12.275850999449426, (72, 31): 13.081232402942966, (72, 32): 12.69459183786941, (72, 33): 14.141560374495514, (72, 34): 13.637889067728752, (72, 35): 12.930292512138736, (72, 36): 15.30768972786081, (72, 37): 15.223482555320349, (72, 38): 11.337275946698181, (72, 39): 13.08542593642507, (74, 0): 10.482739855858433, (74, 1): 11.358078216151235, (74, 2): 12.879195870680238, (74, 3): 9.175612772174382, (74, 4): 9.747971865021258, (74, 5): 11.72449667571281, (74, 6): 10.829319103725572, (74, 7): 12.268902825018499, (74, 8): 11.629054515622801, (74, 9): 12.063353654329164, (74, 10): 10.64756065667105, (74, 11): 9.569585248883794, (74, 12): 12.152953973180342, (74, 13): 11.058106899565418, (74, 14): 10.320683400696803, (74, 15): 12.011925567627387, (74, 16): 11.610009155137872, (74, 17): 11.034306431088984, (74, 18): 11.695388307609903, (74, 19): 12.022075605647588, (74, 20): 10.014187457398766, (74, 21): 11.243172819475564, (74, 22): 10.755859271724585, (74, 23): 11.188355864748841, (74, 24): 10.685452536026634, (74, 25): 10.732040429317838, (74, 26): 10.934749489560168, (74, 27): 11.654659495064866, (74, 28): 10.299844016312154, (74, 29): 13.16047561337642, (74, 30): 10.735360008194162, (74, 31): 10.690597406394648, (74, 32): 11.399890380960475, (74, 33): 13.060429649167638, (74, 34): 12.3127876461822, (74, 35): 12.963192312279745, (74, 36): 12.858877847663372, (74, 37): 13.689569344826431, (74, 38): 11.025555203348159, (74, 39): 11.14642613491318, (76, 0): 8.551132656346748, (76, 1): 9.852813122953267, (76, 2): 12.551006895592772, (76, 3): 10.262728287906496, (76, 4): 9.861276254909958, (76, 5): 9.373309737820371, (76, 6): 10.091801568385804, (76, 7): 10.717092435480119, (76, 8): 10.845385635230434, (76, 9): 12.52934837672617, (76, 10): 7.923192342013462, (76, 11): 9.486615851691601, (76, 12): 10.792772995208171, (76, 13): 10.747164828719743, (76, 14): 8.427292453168516, (76, 15): 9.992114400492644, (76, 16): 10.728923662248242, (76, 17): 10.098900241081532, (76, 18): 10.220634850632205, (76, 19): 10.558122514403625, (76, 20): 9.836440207781333, (76, 21): 11.3696992620741, (76, 22): 9.727636555599354, (76, 23): 10.13665283332679, (76, 24): 9.307956870871685, (76, 25): 8.745939981334168, (76, 26): 10.158621123001943, (76, 27): 11.156517514481484, (76, 28): 10.54712626444463, (76, 29): 12.65379385468069, (76, 30): 9.025100240487022, (76, 31): 10.307112324830271, (76, 32): 9.470331683665814, (76, 33): 10.60362261541117, (76, 34): 12.672412663945883, (76, 35): 10.67860216139286, (76, 36): 12.435606605284912, (76, 37): 13.094960603666518, (76, 38): 9.695157441603484, (76, 39): 10.015999878236071, (78, 0): 14.264341156535576, (78, 1): 15.563892386878882, (78, 2): 17.49829180663547, (78, 3): 13.742290385750996, (78, 4): 12.643611115850835, (78, 5): 14.716958398913047, (78, 6): 14.889942197941098, (78, 7): 16.691284821840053, (78, 8): 15.380065267639603, (78, 9): 16.884650205148517, (78, 10): 14.320357127950249, (78, 11): 13.136593213997894, (78, 12): 16.29261318567257, (78, 13): 15.707037590389822, (78, 14): 13.624192396561197, (78, 15): 15.812955152337159, (78, 16): 16.004093094502494, (78, 17): 14.942306324511145, (78, 18): 15.02711105489449, (78, 19): 16.57356986253544, (78, 20): 14.342270951814186, (78, 21): 15.673859159264232, (78, 22): 14.219031583892844, (78, 23): 15.90354306861787, (78, 24): 14.386872133828174, (78, 25): 14.550709052913689, (78, 26): 15.305560238727782, (78, 27): 16.05867013556563, (78, 28): 14.428014337786301, (78, 29): 17.467860134834204, (78, 30): 13.726871256594007, (78, 31): 16.1498239019782, (78, 32): 14.983547276566046, (78, 33): 17.267791830960512, (78, 34): 16.97537908395367, (78, 35): 15.165578372213568, (78, 36): 18.816227135660696, (78, 37): 17.43746482895788, (78, 38): 13.261595868191321, (78, 39): 14.655464261825706, (80, 0): 10.252261901649737, (80, 1): 11.803743033904476, (80, 2): 12.565690685001874, (80, 3): 11.370843012599517, (80, 4): 9.81545502993812, (80, 5): 11.941684809495761, (80, 6): 12.011156133903606, (80, 7): 12.02905681733293, (80, 8): 10.823783859108344, (80, 9): 12.335097457142362, (80, 10): 9.617647219599872, (80, 11): 9.5238190300124, (80, 12): 11.91265582594391, (80, 13): 12.086901738565768, (80, 14): 11.609245825742759, (80, 15): 13.053858556433351, (80, 16): 10.667478795270648, (80, 17): 10.74218320681472, (80, 18): 10.674505489496259, (80, 19): 12.917951622608337, (80, 20): 10.568687058186175, (80, 21): 11.234916410775234, (80, 22): 11.657647199803298, (80, 23): 12.36276456277992, (80, 24): 10.26956255904285, (80, 25): 10.496041686668685, (80, 26): 12.393531881797223, (80, 27): 12.611085063069758, (80, 28): 9.964523684855866, (80, 29): 12.931617781982744, (80, 30): 10.32462464337481, (80, 31): 11.616204238684842, (80, 32): 11.67732387431109, (80, 33): 12.691317210606421, (80, 34): 13.73964867195354, (80, 35): 11.92060356911118, (80, 36): 14.139094323990285, (80, 37): 12.666270502286665, (80, 38): 10.10898616141136, (80, 39): 11.607870944097556, (82, 0): 12.83360730448954, (82, 1): 13.378690711307366, (82, 2): 16.486163085913052, (82, 3): 12.707689933034358, (82, 4): 12.097603173028899, (82, 5): 13.534827709173424, (82, 6): 12.70896334316039, (82, 7): 14.234193617062706, (82, 8): 12.42211553893542, (82, 9): 15.896197431156775, (82, 10): 12.739944635674462, (82, 11): 11.297589026635235, (82, 12): 16.00230150434076, (82, 13): 14.744403172694865, (82, 14): 12.434017103698682, (82, 15): 15.271442789859671, (82, 16): 13.197710256742502, (82, 17): 13.282023337843535, (82, 18): 13.576258131948926, (82, 19): 14.375832837223387, (82, 20): 12.537997629038646, (82, 21): 12.526518757564899, (82, 22): 13.447072018909651, (82, 23): 14.581723698429503, (82, 24): 12.999799290558986, (82, 25): 12.54123361333935, (82, 26): 12.968118181292066, (82, 27): 15.396903754340318, (82, 28): 11.880264631843547, (82, 29): 15.070439599027651, (82, 30): 12.041088752977924, (82, 31): 12.80987480452347, (82, 32): 12.443480907779602, (82, 33): 14.902325591274042, (82, 34): 16.29766631288809, (82, 35): 14.063447404106359, (82, 36): 16.48864772754279, (82, 37): 15.172512028901865, (82, 38): 11.994468424240422, (82, 39): 12.804146899035084, (84, 0): 11.199694916421958, (84, 1): 11.64139924466907, (84, 2): 13.363199094497775, (84, 3): 9.864176870287576, (84, 4): 10.481100034605515, (84, 5): 11.114129966449068, (84, 6): 11.509480040704014, (84, 7): 12.581922107287454, (84, 8): 12.27162428964038, (84, 9): 12.748734174649666, (84, 10): 11.028325920638867, (84, 11): 11.017468375621922, (84, 12): 12.652692491514273, (84, 13): 12.74719135952504, (84, 14): 10.630774848473708, (84, 15): 12.715954634462479, (84, 16): 9.68236312407145, (84, 17): 12.089419146956903, (84, 18): 12.114433843074314, (84, 19): 12.616195320153091, (84, 20): 11.003816001002567, (84, 21): 11.978123722365456, (84, 22): 12.139173456718742, (84, 23): 12.861371849765435, (84, 24): 11.132692901597007, (84, 25): 10.96900030288156, (84, 26): 12.234126247139423, (84, 27): 12.897990785982387, (84, 28): 10.95363262617612, (84, 29): 12.434850844691912, (84, 30): 10.723016898145087, (84, 31): 11.550322592558883, (84, 32): 11.774362118744335, (84, 33): 12.962645061446253, (84, 34): 13.014753425242088, (84, 35): 11.062608015474787, (84, 36): 13.817546702153209, (84, 37): 13.400888419859301, (84, 38): 9.451067050021354, (84, 39): 10.42796817647181, (86, 0): 10.321901694058159, (86, 1): 11.238262715837651, (86, 2): 12.384609928627007, (86, 3): 10.171800862259518, (86, 4): 9.307164063965354, (86, 5): 11.18752536821854, (86, 6): 11.279194114221921, (86, 7): 12.105673242790347, (86, 8): 11.47029739445396, (86, 9): 12.516572426509642, (86, 10): 10.1070402506619, (86, 11): 9.560732944834381, (86, 12): 12.162618730883011, (86, 13): 12.187456067083788, (86, 14): 9.914380162790717, (86, 15): 12.021321394874201, (86, 16): 12.493495106614935, (86, 17): 12.02801213588336, (86, 18): 11.040971097088342, (86, 19): 12.559870426252873, (86, 20): 9.39631103860429, (86, 21): 11.357454121003633, (86, 22): 11.411670630633532, (86, 23): 11.25913483706529, (86, 24): 10.926566082325914, (86, 25): 10.047578347721723, (86, 26): 11.387880688672952, (86, 27): 12.03693024747858, (86, 28): 10.162549360594866, (86, 29): 12.149793897337098, (86, 30): 10.907306661109958, (86, 31): 11.256772420236349, (86, 32): 11.258093703285217, (86, 33): 12.681380198489158, (86, 34): 13.438204262529887, (86, 35): 12.175970916281216, (86, 36): 12.886430111445831, (86, 37): 14.34635636436821, (86, 38): 10.362655627728683, (86, 39): 11.715918487518326, (88, 0): 12.560194651450946, (88, 1): 13.729659859535985, (88, 2): 14.978018692627456, (88, 3): 12.716097764502877, (88, 4): 11.716015647938333, (88, 5): 13.343477012285542, (88, 6): 12.782963509732932, (88, 7): 14.19655366056905, (88, 8): 11.258538185844545, (88, 9): 14.382697322164361, (88, 10): 11.454145005348753, (88, 11): 11.321435591544821, (88, 12): 14.082011602076852, (88, 13): 13.723207362875383, (88, 14): 12.073957328611364, (88, 15): 15.271339817708604, (88, 16): 13.34029253403397, (88, 17): 13.422036269835779, (88, 18): 13.6144093986547, (88, 19): 14.720573148503489, (88, 20): 12.321665913383262, (88, 21): 13.699797566903765, (88, 22): 12.691672294540634, (88, 23): 13.78993419317594, (88, 24): 12.129900136677591, (88, 25): 11.40893412088344, (88, 26): 13.353828452827416, (88, 27): 14.584129699628697, (88, 28): 12.20789004262096, (88, 29): 15.341901409863867, (88, 30): 12.876871065136687, (88, 31): 12.013681460031664, (88, 32): 12.673341845932127, (88, 33): 14.009997954628224, (88, 34): 15.717254249521394, (88, 35): 13.959018429544239, (88, 36): 15.341687505484641, (88, 37): 15.978897460708605, (88, 38): 13.026525220698229, (88, 39): 13.266584479876942, (90, 0): 10.422542776842125, (90, 1): 12.383254609121453, (90, 2): 12.91184209835551, (90, 3): 10.711096439746488, (90, 4): 10.674977189053392, (90, 5): 12.450812776260873, (90, 6): 12.486085052400343, (90, 7): 12.143280641750167, (90, 8): 10.586318693710828, (90, 9): 13.06135383354979, (90, 10): 11.008982706377902, (90, 11): 10.821385979323958, (90, 12): 12.985108501177857, (90, 13): 12.56614175877914, (90, 14): 9.909497255290322, (90, 15): 12.907926698573924, (90, 16): 11.759587077404522, (90, 17): 11.984615676108536, (90, 18): 12.58063454354601, (90, 19): 12.187217022759675, (90, 20): 9.876579014419018, (90, 21): 12.318517925011392, (90, 22): 11.433750879172328, (90, 23): 12.413926479055098, (90, 24): 10.75779541439222, (90, 25): 10.356694053138254, (90, 26): 13.027197176701813, (90, 27): 11.702832198559195, (90, 28): 10.929686192353923, (90, 29): 13.734059623480137, (90, 30): 10.335424502797881, (90, 31): 11.981195594151474, (90, 32): 11.749390751098666, (90, 33): 12.408115304724692, (90, 34): 13.48719604907821, (90, 35): 12.659118805718723, (90, 36): 13.415090167132918, (90, 37): 14.132747712894355, (90, 38): 12.38654965740622, (90, 39): 12.132830509069164, (92, 0): 11.3641254297848, (92, 1): 12.686433504828328, (92, 2): 14.563628060477354, (92, 3): 11.049231331334965, (92, 4): 10.72870054654465, (92, 5): 12.668345252806397, (92, 6): 11.890025456394907, (92, 7): 12.444206094427324, (92, 8): 13.200199418605877, (92, 9): 14.173533112789977, (92, 10): 11.263007567100084, (92, 11): 11.126395430843907, (92, 12): 13.059123812497644, (92, 13): 12.689613045945588, (92, 14): 11.871091486796942, (92, 15): 12.961164785927828, (92, 16): 12.038755227991537, (92, 17): 12.463239391888724, (92, 18): 12.480435619939911, (92, 19): 13.977406939520115, (92, 20): 10.50173041195825, (92, 21): 12.739856619137752, (92, 22): 12.45763226529428, (92, 23): 12.897211924257292, (92, 24): 11.577378169612272, (92, 25): 11.166925185065445, (92, 26): 11.896538525897535, (92, 27): 14.711312379081676, (92, 28): 11.728865069211334, (92, 29): 13.63798450815617, (92, 30): 11.929877373218499, (92, 31): 12.801829839980003, (92, 32): 12.667800177221327, (92, 33): 13.637514526272312, (92, 34): 14.144098095553762, (92, 35): 12.96403931790516, (92, 36): 14.43544820449828, (92, 37): 14.90284963885271, (92, 38): 10.824060566051978, (92, 39): 11.404144889131596, (94, 0): 11.835463542459415, (94, 1): 13.194070202547195, (94, 2): 13.776661119298534, (94, 3): 11.183370661499112, (94, 4): 10.470413656018627, (94, 5): 12.31236500980313, (94, 6): 11.648437461301361, (94, 7): 13.45193587802375, (94, 8): 11.536639699022151, (94, 9): 14.307538421330879, (94, 10): 11.253958986635567, (94, 11): 11.510806696964481, (94, 12): 13.84360215811057, (94, 13): 13.174619637285993, (94, 14): 10.813151509268543, (94, 15): 12.969015444473865, (94, 16): 11.894266623607807, (94, 17): 10.433372706298872, (94, 18): 12.927111357340573, (94, 19): 13.28319247047685, (94, 20): 10.357157526065354, (94, 21): 11.931921084429902, (94, 22): 11.352262419402246, (94, 23): 11.90619428344053, (94, 24): 10.819879496078254, (94, 25): 11.798734706355209, (94, 26): 11.639625537404434, (94, 27): 12.696665379531277, (94, 28): 10.303156197824245, (94, 29): 13.185687208730263, (94, 30): 12.072614146330938, (94, 31): 12.582523040698142, (94, 32): 12.095243700276844, (94, 33): 12.826823173334015, (94, 34): 13.844846795770312, (94, 35): 11.891078100440836, (94, 36): 13.291395153876866, (94, 37): 13.732579718089243, (94, 38): 10.35630586331132, (94, 39): 12.638276607052727, (96, 0): 11.51156445921911, (96, 1): 12.000113716723604, (96, 2): 14.15691668667517, (96, 3): 10.952248008134372, (96, 4): 9.998678374639674, (96, 5): 12.50666069025059, (96, 6): 11.431992459866647, (96, 7): 11.812091693966567, (96, 8): 11.628939179913074, (96, 9): 14.128678862205255, (96, 10): 10.977837994748517, (96, 11): 10.08140987305871, (96, 12): 13.78470462799916, (96, 13): 12.281703896454978, (96, 14): 11.69390487005858, (96, 15): 13.150828371157768, (96, 16): 11.645174588342249, (96, 17): 11.706195875040775, (96, 18): 12.420781707065467, (96, 19): 12.10596418042052, (96, 20): 10.564588510023999, (96, 21): 11.219501512056745, (96, 22): 12.03748675233741, (96, 23): 11.531487157174858, (96, 24): 11.72150096028177, (96, 25): 11.105625720042184, (96, 26): 12.024569237421064, (96, 27): 13.36687927352644, (96, 28): 9.747459521150512, (96, 29): 13.292570100591028, (96, 30): 10.053287123422788, (96, 31): 11.60204704758191, (96, 32): 11.041210633254561, (96, 33): 12.364171464659723, (96, 34): 13.2685105399794, (96, 35): 12.342488148946805, (96, 36): 13.632147926878588, (96, 37): 13.143764218865961, (96, 38): 10.575843101152916, (96, 39): 11.635086168027657, (98, 0): 11.654292344078307, (98, 1): 13.262312353733467, (98, 2): 13.649567584327245, (98, 3): 11.233192068661705, (98, 4): 10.560876566944637, (98, 5): 12.683368481423301, (98, 6): 12.452485627294028, (98, 7): 12.15359633815269, (98, 8): 12.157311835556511, (98, 9): 14.186372136441703, (98, 10): 11.085724537334533, (98, 11): 11.004749721552935, (98, 12): 12.13429410678654, (98, 13): 13.143040751713476, (98, 14): 10.92321213817155, (98, 15): 13.528478299782789, (98, 16): 11.976043980127555, (98, 17): 11.59091722692747, (98, 18): 11.959449378953796, (98, 19): 12.885050031170561, (98, 20): 9.706903420583725, (98, 21): 12.515627700276426, (98, 22): 12.655573825332137, (98, 23): 12.325641268405066, (98, 24): 11.392548179980299, (98, 25): 11.347236142976236, (98, 26): 12.826173371816079, (98, 27): 13.670444907554462, (98, 28): 10.869952344061579, (98, 29): 13.457060040528248, (98, 30): 11.055761188457327, (98, 31): 13.036293172460342, (98, 32): 12.056630990336984, (98, 33): 13.068036085511453, (98, 34): 12.271643802291283, (98, 35): 11.882993988148396, (98, 36): 14.053584180786308, (98, 37): 12.945725302363787, (98, 38): 11.91487290979691, (98, 39): 11.576813571047085, (1, 0): 11.987684915616667, (1, 1): 12.105924856013218, (1, 2): 15.057644972186994, (1, 3): 10.805901095690809, (1, 4): 10.475638829995791, (1, 5): 10.713416544786526, (1, 6): 11.584124646590963, (1, 7): 12.343273018259326, (1, 8): 11.464642199969365, (1, 9): 14.007676850788062, (1, 10): 10.708944331907091, (1, 11): 11.51147238599273, (1, 12): 12.422461387953696, (1, 13): 13.102836999166666, (1, 14): 11.973596556275716, (1, 15): 13.401745465582172, (1, 16): 11.795729819966212, (1, 17): 10.570265543349434, (1, 18): 12.447844461065953, (1, 19): 12.712209013414446, (1, 20): 11.383743076101918, (1, 21): 11.902801432938471, (1, 22): 12.136900580245921, (1, 23): 12.945899955249828, (1, 24): 10.63160527947826, (1, 25): 9.764401111354964, (1, 26): 12.885336206389175, (1, 27): 12.811584659748066, (1, 28): 11.139979840177485, (1, 29): 14.017997302374894, (1, 30): 11.414490566811905, (1, 31): 11.862961271251123, (1, 32): 10.376173160009424, (1, 33): 12.193043953869388, (1, 34): 14.74811175034617, (1, 35): 12.26988723212432, (1, 36): 13.764147898469577, (1, 37): 13.849906756561808, (1, 38): 9.618078333487063, (1, 39): 12.673283981282127, (3, 0): 11.5678208692826, (3, 1): 13.27767422938909, (3, 2): 14.02682511369363, (3, 3): 10.914642223042422, (3, 4): 11.23083227866978, (3, 5): 11.937271525007828, (3, 6): 11.423347447532995, (3, 7): 13.41549949878473, (3, 8): 12.166221766656804, (3, 9): 12.604379896958495, (3, 10): 12.141859500785941, (3, 11): 10.171651877881922, (3, 12): 14.308898542271399, (3, 13): 13.162037063958106, (3, 14): 12.590176608225024, (3, 15): 13.938767954610793, (3, 16): 12.243587884056625, (3, 17): 12.812864538988498, (3, 18): 12.64717902205407, (3, 19): 13.254373047222247, (3, 20): 10.79553090651967, (3, 21): 11.834082262660388, (3, 22): 12.699170833959952, (3, 23): 13.491117971082325, (3, 24): 12.467725360400935, (3, 25): 11.555916839982233, (3, 26): 11.879523854144756, (3, 27): 13.758688922328066, (3, 28): 10.978211024506257, (3, 29): 13.564367672580115, (3, 30): 11.820037343075759, (3, 31): 11.852851644682358, (3, 32): 13.28338283337459, (3, 33): 13.386382542035063, (3, 34): 13.440541064791535, (3, 35): 13.42238637710747, (3, 36): 13.918555472280035, (3, 37): 14.01877697861552, (3, 38): 11.398814318554992, (3, 39): 12.115494204254494, (5, 0): 11.401617740265856, (5, 1): 12.317699514792277, (5, 2): 15.658395100268784, (5, 3): 11.337958670423742, (5, 4): 10.57329157935214, (5, 5): 12.231800709905004, (5, 6): 11.654068729710012, (5, 7): 12.699525458672912, (5, 8): 12.572533947521364, (5, 9): 14.176316356314516, (5, 10): 11.73803069022473, (5, 11): 10.1795232040671, (5, 12): 14.577270508864931, (5, 13): 12.30279829937108, (5, 14): 12.127343519600043, (5, 15): 13.414162871767877, (5, 16): 11.067985625560633, (5, 17): 12.690370141129716, (5, 18): 12.612973821919551, (5, 19): 12.618249931730519, (5, 20): 11.409980451227895, (5, 21): 12.188290918033957, (5, 22): 13.155382288468237, (5, 23): 12.923184272073508, (5, 24): 11.153613733752108, (5, 25): 11.394342223824436, (5, 26): 12.332056839912587, (5, 27): 14.848687268126511, (5, 28): 10.798216164916358, (5, 29): 13.136834603499501, (5, 30): 11.172871234172513, (5, 31): 12.849150222507149, (5, 32): 12.241920528965808, (5, 33): 14.257808857956244, (5, 34): 13.749676096152117, (5, 35): 12.920227894924784, (5, 36): 14.43226523711321, (5, 37): 13.707523094703827, (5, 38): 10.62731659235697, (5, 39): 11.794176675748837, (7, 0): 10.502290114019685, (7, 1): 12.006293962865131, (7, 2): 12.168527241204409, (7, 3): 9.594214878038528, (7, 4): 10.215901232764937, (7, 5): 10.876896831273058, (7, 6): 11.039128060561845, (7, 7): 11.256368936207055, (7, 8): 10.80781713871533, (7, 9): 13.088607910994297, (7, 10): 9.79316465264646, (7, 11): 9.792810769823868, (7, 12): 11.932324791894718, (7, 13): 12.12009028362173, (7, 14): 9.238052987280835, (7, 15): 11.806466682336294, (7, 16): 11.410256012203828, (7, 17): 10.86210755096467, (7, 18): 10.662738468677365, (7, 19): 12.595898205464106, (7, 20): 9.271312367907438, (7, 21): 10.815012905517568, (7, 22): 11.354855235693782, (7, 23): 10.908096709623205, (7, 24): 11.07152485488581, (7, 25): 9.846425539021105, (7, 26): 11.291187214609035, (7, 27): 11.860483977423813, (7, 28): 10.39191575026344, (7, 29): 11.90617090941624, (7, 30): 10.32909712779891, (7, 31): 11.00202091942959, (7, 32): 10.781051956201892, (7, 33): 11.680646292510776, (7, 34): 12.075183483351456, (7, 35): 11.31844309041706, (7, 36): 13.513641580487768, (7, 37): 12.783311260465219, (7, 38): 9.726337539028593, (7, 39): 10.737218122592658, (9, 0): 13.309785246594968, (9, 1): 13.355815209969347, (9, 2): 15.155619762762099, (9, 3): 11.87556692488239, (9, 4): 11.559964900050218, (9, 5): 12.127251683262054, (9, 6): 12.572537660722837, (9, 7): 14.526705788611853, (9, 8): 14.425649409285077, (9, 9): 14.943961453029386, (9, 10): 12.390327246609656, (9, 11): 11.833404947998446, (9, 12): 14.799926155667562, (9, 13): 13.675112490271305, (9, 14): 13.131573857171144, (9, 15): 14.882542068045472, (9, 16): 13.828178120548282, (9, 17): 13.765791902974282, (9, 18): 14.670049804274528, (9, 19): 15.087050373561537, (9, 20): 12.075005391808926, (9, 21): 14.171906937529359, (9, 22): 13.906625311173574, (9, 23): 14.675894191727116, (9, 24): 12.302840650267614, (9, 25): 11.453964761200533, (9, 26): 13.504576696848845, (9, 27): 14.692781099620008, (9, 28): 12.038174046442258, (9, 29): 14.815326633254712, (9, 30): 13.130213858233464, (9, 31): 14.410425666032442, (9, 32): 13.51627250247735, (9, 33): 15.539717643405986, (9, 34): 15.767051603038887, (9, 35): 14.594099231742378, (9, 36): 15.871103219994325, (9, 37): 14.86980743364538, (9, 38): 11.960986141418282, (9, 39): 13.182758768815512, (11, 0): 9.072933554872966, (11, 1): 9.480674062203876, (11, 2): 11.595826192089525, (11, 3): 8.521760594650923, (11, 4): 8.410585756371285, (11, 5): 9.21006637599161, (11, 6): 8.788682987389166, (11, 7): 10.76247337592623, (11, 8): 10.340305744609042, (11, 9): 11.221166757517972, (11, 10): 9.362668265719147, (11, 11): 7.9936714723248095, (11, 12): 12.074634872585063, (11, 13): 9.73066827392586, (11, 14): 10.219985028334303, (11, 15): 10.835647691613785, (11, 16): 9.380883177781008, (11, 17): 9.332596982211035, (11, 18): 9.545483859912848, (11, 19): 11.23146876467279, (11, 20): 8.365166435927236, (11, 21): 9.057251878682552, (11, 22): 8.727331806222574, (11, 23): 9.207530653447195, (11, 24): 9.90782414317681, (11, 25): 9.34841123375209, (11, 26): 8.988067054543592, (11, 27): 10.28205143729427, (11, 28): 8.542946639797002, (11, 29): 10.76688498248828, (11, 30): 9.398667631215142, (11, 31): 9.23166164874792, (11, 32): 9.063938724832054, (11, 33): 11.011686644480951, (11, 34): 9.547905506178877, (11, 35): 10.594688821841906, (11, 36): 11.762683249073683, (11, 37): 11.107856271742683, (11, 38): 8.278896140815224, (11, 39): 9.639175884888923, (13, 0): 12.717975665430775, (13, 1): 13.145805843130312, (13, 2): 13.572465072253172, (13, 3): 11.99485249800252, (13, 4): 10.803940051174251, (13, 5): 11.51578805635172, (13, 6): 12.562748825150162, (13, 7): 13.542967017654625, (13, 8): 12.360547028671446, (13, 9): 13.029070970289263, (13, 10): 11.436760718000091, (13, 11): 10.768846083988576, (13, 12): 13.146043676742831, (13, 13): 11.995378556773632, (13, 14): 11.907022043498953, (13, 15): 13.823136870428, (13, 16): 13.252681784921043, (13, 17): 12.16562208635324, (13, 18): 12.23624212260859, (13, 19): 13.576354736981468, (13, 20): 10.4922705848425, (13, 21): 12.626095066113017, (13, 22): 11.844386274969034, (13, 23): 13.248033297603685, (13, 24): 11.687239953856956, (13, 25): 11.302449176507574, (13, 26): 12.807576255050167, (13, 27): 12.58757515858171, (13, 28): 11.571151024618139, (13, 29): 13.743610871623178, (13, 30): 11.439597065540509, (13, 31): 12.306203648900873, (13, 32): 12.756714688254991, (13, 33): 13.523594515272421, (13, 34): 13.368007104377808, (13, 35): 14.025768254587021, (13, 36): 14.31079417073969, (13, 37): 14.170535458333328, (13, 38): 10.388527991362077, (13, 39): 11.49072314747126, (15, 0): 13.903573320569206, (15, 1): 14.781773256268675, (15, 2): 16.113806812873882, (15, 3): 13.45314804723933, (15, 4): 13.662620045351273, (15, 5): 14.412927489318491, (15, 6): 13.399137426687927, (15, 7): 14.627954462966839, (15, 8): 13.538799914985624, (15, 9): 16.344214753807776, (15, 10): 12.492876179244496, (15, 11): 12.789408738455144, (15, 12): 15.553933164941478, (15, 13): 14.919319432754174, (15, 14): 12.615850907849097, (15, 15): 15.969321365171252, (15, 16): 14.063433594619765, (15, 17): 14.298708191462143, (15, 18): 15.022412252003695, (15, 19): 15.697403377887166, (15, 20): 11.508785546938714, (15, 21): 14.004020570335202, (15, 22): 13.891782133969318, (15, 23): 15.382279851930042, (15, 24): 12.897365552013515, (15, 25): 12.285719046635682, (15, 26): 13.444887069403569, (15, 27): 15.424770213649474, (15, 28): 13.839678872843901, (15, 29): 15.152433176638393, (15, 30): 13.515914146217234, (15, 31): 14.79155179392014, (15, 32): 13.604715457376251, (15, 33): 14.826524754933345, (15, 34): 15.5675950672709, (15, 35): 15.145125141161285, (15, 36): 17.23075626181184, (15, 37): 15.487450593670694, (15, 38): 12.89577717427385, (15, 39): 12.595793253595366, (17, 0): 11.643370790273673, (17, 1): 12.204370418953955, (17, 2): 13.371545097212568, (17, 3): 11.336306238933025, (17, 4): 9.756855487282307, (17, 5): 12.276506074988967, (17, 6): 10.878918378014951, (17, 7): 13.028244452222514, (17, 8): 12.512417054063198, (17, 9): 14.313332911171917, (17, 10): 10.849202780106623, (17, 11): 10.79555111515564, (17, 12): 13.583475450364467, (17, 13): 13.449705337816525, (17, 14): 10.764721125732358, (17, 15): 12.737344799433004, (17, 16): 12.218375238580503, (17, 17): 11.55619370624306, (17, 18): 12.218044779394148, (17, 19): 12.594159030141434, (17, 20): 10.247186714688603, (17, 21): 12.888139962327307, (17, 22): 12.786343881855554, (17, 23): 13.496825645713995, (17, 24): 12.109915923734912, (17, 25): 11.250047345901022, (17, 26): 11.936218973102871, (17, 27): 14.207138579350392, (17, 28): 11.04214392301768, (17, 29): 13.391029302763162, (17, 30): 11.703231010469231, (17, 31): 12.977290343979728, (17, 32): 12.493623809305015, (17, 33): 13.01115957107201, (17, 34): 13.960542081071308, (17, 35): 12.850949013841657, (17, 36): 13.967593324861154, (17, 37): 14.914366303565895, (17, 38): 9.857726274479745, (17, 39): 10.690063831038582, (19, 0): 13.634620406950184, (19, 1): 15.576012985920906, (19, 2): 16.786629217637724, (19, 3): 13.979324023108598, (19, 4): 11.631122839546405, (19, 5): 15.01990388391339, (19, 6): 13.61926776788177, (19, 7): 16.322759141957214, (19, 8): 13.731062067863398, (19, 9): 15.976094524757324, (19, 10): 12.854924023021939, (19, 11): 12.481538185789, (19, 12): 15.127307664445333, (19, 13): 15.628692829074597, (19, 14): 13.237999804152748, (19, 15): 16.172823252258457, (19, 16): 14.210412199358178, (19, 17): 14.454593470624513, (19, 18): 14.644971967840945, (19, 19): 15.590074514251, (19, 20): 14.08264807403978, (19, 21): 14.172849499954083, (19, 22): 14.232762055648303, (19, 23): 14.677396938850777, (19, 24): 13.402059404725176, (19, 25): 13.187685717505488, (19, 26): 14.699901922021413, (19, 27): 15.61957124785379, (19, 28): 13.446178249251448, (19, 29): 15.511065037446238, (19, 30): 13.616995652661364, (19, 31): 14.14467395401723, (19, 32): 13.417421808560478, (19, 33): 15.887839988675339, (19, 34): 16.776670523516483, (19, 35): 14.626496593511714, (19, 36): 16.771769848230583, (19, 37): 16.809392373934045, (19, 38): 13.660249086307, (19, 39): 14.090395492676503, (21, 0): 11.22953550852022, (21, 1): 10.529520196549393, (21, 2): 14.029816372613814, (21, 3): 11.282265177446392, (21, 4): 10.696267727876895, (21, 5): 12.26423900485097, (21, 6): 11.594627345991915, (21, 7): 13.233350525206925, (21, 8): 11.883685969746656, (21, 9): 13.977413476549298, (21, 10): 10.438492383696296, (21, 11): 10.33723142086428, (21, 12): 12.758353492016758, (21, 13): 12.767082004417073, (21, 14): 11.309569566405125, (21, 15): 13.789001176838937, (21, 16): 12.999345645165517, (21, 17): 12.76920712197382, (21, 18): 12.612134455991217, (21, 19): 12.166355655796442, (21, 20): 10.43834597827174, (21, 21): 12.250869511978424, (21, 22): 12.86087408035721, (21, 23): 12.338087723330844, (21, 24): 11.147130580382136, (21, 25): 10.829747533734666, (21, 26): 11.523888929070758, (21, 27): 13.659286699013935, (21, 28): 11.510228665440849, (21, 29): 14.414510273102302, (21, 30): 11.806806176845331, (21, 31): 12.32633478302207, (21, 32): 10.721432473211511, (21, 33): 14.838629248391317, (21, 34): 13.811795482236393, (21, 35): 12.73637517124455, (21, 36): 14.453953754989346, (21, 37): 14.566111285121043, (21, 38): 11.80431111601818, (21, 39): 11.461996295443933, (23, 0): 10.419567779595283, (23, 1): 11.589636287681378, (23, 2): 12.592373669024976, (23, 3): 9.522544001531378, (23, 4): 10.758573375129924, (23, 5): 9.770801113708073, (23, 6): 9.866748146057784, (23, 7): 11.982796493956611, (23, 8): 10.354260671557414, (23, 9): 11.763760809224372, (23, 10): 9.611872401556374, (23, 11): 9.058599752065117, (23, 12): 11.766011702468, (23, 13): 10.19503456421127, (23, 14): 9.59661701870893, (23, 15): 11.245715768630548, (23, 16): 11.232199670188471, (23, 17): 11.24210038463951, (23, 18): 10.583800972831646, (23, 19): 11.865169755275069, (23, 20): 10.392492744633866, (23, 21): 10.573729330842774, (23, 22): 9.122028270313287, (23, 23): 12.165624389997271, (23, 24): 9.48391760999741, (23, 25): 10.548589469463368, (23, 26): 9.842838650786675, (23, 27): 11.573627284122699, (23, 28): 10.661649518377287, (23, 29): 11.4360419568907, (23, 30): 9.815211605966178, (23, 31): 10.940427295771997, (23, 32): 10.90585934207285, (23, 33): 12.29977578053348, (23, 34): 11.809676353512202, (23, 35): 11.435186656632913, (23, 36): 12.755467733221511, (23, 37): 11.46972233081009, (23, 38): 9.773513814946854, (23, 39): 9.265071320592735, (25, 0): 11.666365347347208, (25, 1): 13.802524731552039, (25, 2): 14.506943375918917, (25, 3): 12.132476323348028, (25, 4): 11.887230875664816, (25, 5): 12.178817236120596, (25, 6): 12.496206409696784, (25, 7): 14.168641209758158, (25, 8): 12.850264109432812, (25, 9): 14.21436431227037, (25, 10): 11.765598676541922, (25, 11): 11.14521285060016, (25, 12): 14.068363626187681, (25, 13): 13.838951666491537, (25, 14): 11.8790021234187, (25, 15): 13.152923830704994, (25, 16): 11.747178139197626, (25, 17): 11.727837733811917, (25, 18): 11.86844169825821, (25, 19): 14.323040170627129, (25, 20): 11.062379591825433, (25, 21): 12.904705344001579, (25, 22): 11.89356040006095, (25, 23): 13.898234843539926, (25, 24): 12.088832929924127, (25, 25): 12.954612235578509, (25, 26): 12.187101543348543, (25, 27): 13.444498748383696, (25, 28): 12.032780741227635, (25, 29): 14.204073527234945, (25, 30): 12.545300976605384, (25, 31): 13.131772481612346, (25, 32): 13.185657693420682, (25, 33): 13.675625972938334, (25, 34): 13.800327313241919, (25, 35): 11.740907634729199, (25, 36): 14.403242995781538, (25, 37): 15.467978656375735, (25, 38): 10.089772270549414, (25, 39): 11.328376111597562, (27, 0): 11.447578363008097, (27, 1): 12.358224871232519, (27, 2): 14.104980266969424, (27, 3): 10.655604406514335, (27, 4): 10.423959005127239, (27, 5): 11.155471423436783, (27, 6): 10.757799660591074, (27, 7): 12.202871005349733, (27, 8): 11.024601850042338, (27, 9): 14.240751965713988, (27, 10): 11.901925681701092, (27, 11): 11.105991742719208, (27, 12): 13.702172481461536, (27, 13): 12.240774087502553, (27, 14): 10.563445216729262, (27, 15): 13.558350210004315, (27, 16): 11.051144675333274, (27, 17): 11.822095737503714, (27, 18): 11.654894445151726, (27, 19): 12.705970102982459, (27, 20): 10.936024009400331, (27, 21): 12.476549262036832, (27, 22): 12.353131290612033, (27, 23): 12.485262154813658, (27, 24): 10.940529913592197, (27, 25): 9.76698819963926, (27, 26): 11.39929659270128, (27, 27): 12.775975662305784, (27, 28): 10.974205946818977, (27, 29): 12.75991993798265, (27, 30): 10.453122739587279, (27, 31): 12.030457487220723, (27, 32): 11.220066252772254, (27, 33): 13.125858328539227, (27, 34): 14.138478635950946, (27, 35): 13.038955234726322, (27, 36): 13.990077545909628, (27, 37): 13.853488888700237, (27, 38): 11.485558152176017, (27, 39): 11.403867501043818, (29, 0): 11.070993759141702, (29, 1): 12.357464956693914, (29, 2): 13.66608633002636, (29, 3): 11.139782946165447, (29, 4): 10.021596721553985, (29, 5): 11.5754501582739, (29, 6): 11.662485505292828, (29, 7): 12.45973053026543, (29, 8): 10.477542251079337, (29, 9): 13.273339405989129, (29, 10): 11.045515098787822, (29, 11): 10.445466872833547, (29, 12): 13.080389484907691, (29, 13): 12.679440139399496, (29, 14): 11.50926199199659, (29, 15): 13.034555844202389, (29, 16): 11.23092303085487, (29, 17): 12.338054363575136, (29, 18): 11.476694279694309, (29, 19): 12.58211739569472, (29, 20): 10.894453690123466, (29, 21): 11.528820370876925, (29, 22): 11.776812763211817, (29, 23): 12.363367601263263, (29, 24): 10.372967965170847, (29, 25): 10.84019436988036, (29, 26): 11.8924543256267, (29, 27): 12.13065798701779, (29, 28): 10.143858804111535, (29, 29): 13.083227834803584, (29, 30): 9.707041933848853, (29, 31): 11.124649743566387, (29, 32): 11.549047878636749, (29, 33): 13.140492628829879, (29, 34): 13.325774452928956, (29, 35): 12.576390969549784, (29, 36): 13.830282739107215, (29, 37): 12.715466929760264, (29, 38): 9.850706098673163, (29, 39): 11.826897541053855, (31, 0): 12.420660845194153, (31, 1): 12.79111588932032, (31, 2): 14.501967878888497, (31, 3): 11.534515668077436, (31, 4): 10.496930634691534, (31, 5): 12.217817698507488, (31, 6): 12.001767259351524, (31, 7): 13.002403488997269, (31, 8): 11.911474617553552, (31, 9): 13.233216352415551, (31, 10): 10.914249788975667, (31, 11): 10.365500787769545, (31, 12): 11.793659193769205, (31, 13): 13.108282130587378, (31, 14): 12.396068467572244, (31, 15): 13.215889100485178, (31, 16): 12.417637620266804, (31, 17): 12.25888118196654, (31, 18): 12.233510545125936, (31, 19): 13.05936843964107, (31, 20): 10.646955445245368, (31, 21): 12.989096888413387, (31, 22): 12.303887370604334, (31, 23): 13.593555013910056, (31, 24): 11.461164726711853, (31, 25): 12.319832330895416, (31, 26): 13.155869318322068, (31, 27): 14.313769658236454, (31, 28): 11.211146929976387, (31, 29): 13.91811209385739, (31, 30): 11.24581227872171, (31, 31): 12.962628794072232, (31, 32): 13.170037721758273, (31, 33): 13.429747366693814, (31, 34): 12.970201360816763, (31, 35): 12.388810318770256, (31, 36): 14.596612397390368, (31, 37): 13.950331763537198, (31, 38): 10.334089146554577, (31, 39): 11.54107598256392, (33, 0): 11.469718063578659, (33, 1): 13.319759553129014, (33, 2): 14.506864075260202, (33, 3): 11.068812101910888, (33, 4): 12.764478181178706, (33, 5): 11.574519953703394, (33, 6): 13.149416005745364, (33, 7): 12.813117073623813, (33, 8): 11.95371079608527, (33, 9): 14.390326931542932, (33, 10): 11.762080307694504, (33, 11): 10.406447362390997, (33, 12): 13.204997659320684, (33, 13): 11.811287190003853, (33, 14): 10.801999248089652, (33, 15): 13.944279493063464, (33, 16): 12.354082806504088, (33, 17): 12.806967750348809, (33, 18): 11.30820571647164, (33, 19): 13.87932639397028, (33, 20): 11.419631670171984, (33, 21): 12.905762548172202, (33, 22): 11.909157752055888, (33, 23): 13.060606740595095, (33, 24): 11.114337097988566, (33, 25): 11.860136826388288, (33, 26): 12.800373352329583, (33, 27): 13.799839396373317, (33, 28): 11.60057579368597, (33, 29): 13.77009450172906, (33, 30): 11.3882652623443, (33, 31): 11.385769511454846, (33, 32): 13.487458936782339, (33, 33): 14.038029911869234, (33, 34): 13.687778953858304, (33, 35): 14.328891800930627, (33, 36): 14.531097787475026, (33, 37): 13.966597984892521, (33, 38): 10.924536484763765, (33, 39): 11.435236780640349, (35, 0): 12.069127042837158, (35, 1): 12.025910826445346, (35, 2): 14.120749416986056, (35, 3): 11.14215338019376, (35, 4): 10.22638807629556, (35, 5): 12.108755634179186, (35, 6): 12.30888827359248, (35, 7): 13.26155407914404, (35, 8): 12.544716869464782, (35, 9): 14.88081563990621, (35, 10): 10.821271809698995, (35, 11): 11.18191358466494, (35, 12): 13.711340426449604, (35, 13): 13.063449058898422, (35, 14): 10.733044477104215, (35, 15): 12.987754236309767, (35, 16): 12.716523543958274, (35, 17): 12.042647802147675, (35, 18): 12.573264674011854, (35, 19): 13.541956917288605, (35, 20): 10.153915184228214, (35, 21): 12.73676528487603, (35, 22): 12.324471987655214, (35, 23): 12.283872478215644, (35, 24): 11.170030472950371, (35, 25): 10.605830231613862, (35, 26): 13.125395586483176, (35, 27): 12.299210092076649, (35, 28): 10.846537677054032, (35, 29): 13.59027883501701, (35, 30): 11.23970431201397, (35, 31): 13.207637806168602, (35, 32): 11.458373994864239, (35, 33): 14.266810734658208, (35, 34): 13.412325221420478, (35, 35): 12.692454117417872, (35, 36): 14.61535384076724, (35, 37): 14.202348728954343, (35, 38): 11.746772240390317, (35, 39): 12.592377806649138, (37, 0): 11.665180559972343, (37, 1): 13.599111052296122, (37, 2): 15.554533801784533, (37, 3): 10.617157687574565, (37, 4): 11.599989549362812, (37, 5): 11.821671805159008, (37, 6): 12.134471911561755, (37, 7): 13.145858871816497, (37, 8): 11.694707608070006, (37, 9): 14.739998998402585, (37, 10): 12.396509521993414, (37, 11): 10.732363248597842, (37, 12): 12.680446118892183, (37, 13): 12.938776645143857, (37, 14): 10.541036940262163, (37, 15): 13.070614809111134, (37, 16): 12.439733762309231, (37, 17): 13.173168684404304, (37, 18): 12.01541133606421, (37, 19): 13.376142549432448, (37, 20): 10.855421104798376, (37, 21): 12.43944611844232, (37, 22): 12.212765850724058, (37, 23): 13.221288659517176, (37, 24): 11.095373199072732, (37, 25): 11.81311196548785, (37, 26): 12.240402705363609, (37, 27): 14.394573763043285, (37, 28): 11.893014921487815, (37, 29): 13.728319473524428, (37, 30): 11.887288940835678, (37, 31): 11.572697675492316, (37, 32): 12.445823825819948, (37, 33): 14.415384403227634, (37, 34): 14.372590409886522, (37, 35): 13.713934231930418, (37, 36): 14.348305330754846, (37, 37): 14.024042775042806, (37, 38): 10.508456851401686, (37, 39): 11.739864749982642, (39, 0): 11.823042930996888, (39, 1): 12.571354766038528, (39, 2): 14.184792682670274, (39, 3): 12.354805858621532, (39, 4): 10.70427207254086, (39, 5): 11.041249388629588, (39, 6): 13.159351680973042, (39, 7): 12.668663577402281, (39, 8): 11.257754773909475, (39, 9): 14.043024574557437, (39, 10): 10.977994354961256, (39, 11): 11.542915077949221, (39, 12): 12.88521349394327, (39, 13): 12.31320912001942, (39, 14): 11.433424881917794, (39, 15): 14.74992398917026, (39, 16): 12.656015076625337, (39, 17): 12.103834004653322, (39, 18): 12.919577471528935, (39, 19): 13.561084174801403, (39, 20): 10.641969250371915, (39, 21): 12.409427169128277, (39, 22): 12.340677714619519, (39, 23): 12.47974059458289, (39, 24): 11.087471773234231, (39, 25): 10.92827233990541, (39, 26): 13.622407307624059, (39, 27): 12.644611498182869, (39, 28): 11.036672394240695, (39, 29): 13.552868083193342, (39, 30): 11.252298186272743, (39, 31): 12.625419832178341, (39, 32): 11.13416391083221, (39, 33): 13.512926799493696, (39, 34): 13.400109896488743, (39, 35): 13.28424411056176, (39, 36): 14.428780283827201, (39, 37): 14.101427526465507, (39, 38): 10.10271062921062, (39, 39): 12.616895138958409, (41, 0): 11.955488949168322, (41, 1): 12.602041456294604, (41, 2): 14.44630588560603, (41, 3): 10.210150251289734, (41, 4): 10.392414115300488, (41, 5): 13.730923331847695, (41, 6): 11.92714563725469, (41, 7): 11.790956619507343, (41, 8): 12.015230912767072, (41, 9): 14.275642629095982, (41, 10): 11.584407878247946, (41, 11): 10.974169033199344, (41, 12): 14.043192717763844, (41, 13): 13.28280252273195, (41, 14): 11.013306008253185, (41, 15): 12.554996933903377, (41, 16): 11.225472645602906, (41, 17): 12.062387314188106, (41, 18): 13.004459758143026, (41, 19): 11.9769760607821, (41, 20): 11.227967628565727, (41, 21): 11.374948110840931, (41, 22): 12.73357678104958, (41, 23): 12.517886938590024, (41, 24): 12.033971112488956, (41, 25): 11.295268063439659, (41, 26): 12.625160578780594, (41, 27): 13.671834548517863, (41, 28): 10.770793016668195, (41, 29): 12.317925253185582, (41, 30): 9.942939328312335, (41, 31): 12.042512703079845, (41, 32): 11.944505115358265, (41, 33): 13.290035090191914, (41, 34): 13.985655526974508, (41, 35): 12.575922687251754, (41, 36): 13.857023497415064, (41, 37): 12.651736255876424, (41, 38): 11.22309476169473, (41, 39): 11.789522780628575, (43, 0): 12.90337151781314, (43, 1): 14.093609281404733, (43, 2): 15.99777273300212, (43, 3): 13.496751996775778, (43, 4): 11.283853590992667, (43, 5): 14.714758295896033, (43, 6): 14.793278355881373, (43, 7): 14.729300339648525, (43, 8): 14.638503124391159, (43, 9): 16.830709174265866, (43, 10): 13.567214442432727, (43, 11): 13.127181142475669, (43, 12): 15.220237227714168, (43, 13): 14.996370005017317, (43, 14): 14.508225698419121, (43, 15): 16.105895693451085, (43, 16): 14.156012523601182, (43, 17): 13.569753056647562, (43, 18): 13.886567636043463, (43, 19): 15.757116257522977, (43, 20): 11.92262680330665, (43, 21): 14.845471146647666, (43, 22): 15.133052206856336, (43, 23): 15.492880785267483, (43, 24): 13.775862440982634, (43, 25): 13.65625389423925, (43, 26): 15.355849205175339, (43, 27): 15.55442936170071, (43, 28): 12.652322285345738, (43, 29): 17.25724840744533, (43, 30): 12.853737315173431, (43, 31): 15.520476279923884, (43, 32): 14.327449846413247, (43, 33): 16.280635526069318, (43, 34): 16.452567573284007, (43, 35): 14.794527365350387, (43, 36): 17.00558026511772, (43, 37): 16.964038176748968, (43, 38): 12.632892378359266, (43, 39): 14.443038072522505, (45, 0): 11.000890935099628, (45, 1): 12.382909489883264, (45, 2): 13.669995456046319, (45, 3): 10.213058520095766, (45, 4): 10.318218752296183, (45, 5): 11.500810415752776, (45, 6): 11.781330108909728, (45, 7): 11.896692003157106, (45, 8): 12.731826705575735, (45, 9): 14.75071026873726, (45, 10): 11.278236502564749, (45, 11): 10.909322187973302, (45, 12): 14.277820309602022, (45, 13): 13.312078146529071, (45, 14): 10.987045080110429, (45, 15): 12.149104836110602, (45, 16): 12.012315526741254, (45, 17): 13.02962433097661, (45, 18): 12.3061662509253, (45, 19): 13.460491278208819, (45, 20): 9.952301099940685, (45, 21): 12.565048767242741, (45, 22): 12.399770487272672, (45, 23): 11.999744936817718, (45, 24): 12.104540630281742, (45, 25): 11.333505341706012, (45, 26): 12.524997331150642, (45, 27): 12.352297938319447, (45, 28): 10.741024188245376, (45, 29): 13.252079383306647, (45, 30): 11.95190851798967, (45, 31): 11.57274969215089, (45, 32): 11.993273761722776, (45, 33): 13.822825977662824, (45, 34): 12.49295003676721, (45, 35): 12.936140241229289, (45, 36): 13.676355291196, (45, 37): 13.81536657566884, (45, 38): 11.576651446778166, (45, 39): 12.542495618598393, (47, 0): 11.211412433887268, (47, 1): 11.05770827777697, (47, 2): 13.546614574784554, (47, 3): 10.964655884816843, (47, 4): 9.855204877406095, (47, 5): 11.872807187530087, (47, 6): 11.745572981606623, (47, 7): 11.854224424490951, (47, 8): 11.633259926013219, (47, 9): 13.347652353362308, (47, 10): 10.312139259911643, (47, 11): 9.432307797936074, (47, 12): 11.920177398328724, (47, 13): 11.458890952689075, (47, 14): 11.00679507830333, (47, 15): 12.450497818953826, (47, 16): 11.334503624905357, (47, 17): 11.473156915166223, (47, 18): 12.127985839031515, (47, 19): 12.388780890974921, (47, 20): 9.960319380537957, (47, 21): 11.49861195505853, (47, 22): 11.118359036259857, (47, 23): 11.472773413498794, (47, 24): 9.87601044894131, (47, 25): 10.526975326566623, (47, 26): 12.124113625638195, (47, 27): 12.879132503819447, (47, 28): 10.481815369891843, (47, 29): 12.386445571170363, (47, 30): 11.357381117242971, (47, 31): 12.134243200210927, (47, 32): 11.021944874635286, (47, 33): 13.399711793482457, (47, 34): 12.632591644782053, (47, 35): 12.42668275540572, (47, 36): 13.486599985036262, (47, 37): 14.01348177021236, (47, 38): 9.782854019325102, (47, 39): 10.814125873948036, (49, 0): 13.330249805621424, (49, 1): 14.66651047764546, (49, 2): 15.776653694061398, (49, 3): 12.90516907759242, (49, 4): 12.753715134809244, (49, 5): 13.934883534958987, (49, 6): 13.305617923002453, (49, 7): 14.406952957032084, (49, 8): 12.968729725473654, (49, 9): 14.96898318363841, (49, 10): 11.780831589729804, (49, 11): 11.322368616626955, (49, 12): 15.096628359332541, (49, 13): 13.627282668469897, (49, 14): 13.18011850591024, (49, 15): 15.120089858506525, (49, 16): 13.45509412690326, (49, 17): 13.16088605049816, (49, 18): 13.612414341567433, (49, 19): 14.29712214480807, (49, 20): 11.772723863801549, (49, 21): 14.17418937201153, (49, 22): 14.007367409451279, (49, 23): 14.796398134200473, (49, 24): 13.237205244775469, (49, 25): 12.571765632469166, (49, 26): 14.0559858554838, (49, 27): 15.939724310620614, (49, 28): 12.1803294318257, (49, 29): 15.119649823631708, (49, 30): 12.582745919316073, (49, 31): 13.994258170874069, (49, 32): 14.743425025465566, (49, 33): 14.253525354795691, (49, 34): 15.12956222986491, (49, 35): 14.849232170454169, (49, 36): 15.55174761805627, (49, 37): 15.185409392874348, (49, 38): 13.016819653938425, (49, 39): 13.259478004631463, (51, 0): 12.842434134845615, (51, 1): 14.573361765016937, (51, 2): 15.685869255616776, (51, 3): 13.41240360167688, (51, 4): 11.521519750232502, (51, 5): 13.29443336789434, (51, 6): 11.882801504594928, (51, 7): 15.108325670168927, (51, 8): 12.47029911636638, (51, 9): 15.524874282827387, (51, 10): 12.166042483677726, (51, 11): 11.822216957284413, (51, 12): 14.640089412085, (51, 13): 13.6727958887591, (51, 14): 12.620188767783304, (51, 15): 14.819562927181366, (51, 16): 13.060343156990323, (51, 17): 13.527051321794175, (51, 18): 14.176686942085997, (51, 19): 14.299347029436886, (51, 20): 13.197358504639517, (51, 21): 13.14993582340527, (51, 22): 13.152927907320187, (51, 23): 14.656866352188668, (51, 24): 13.093544230684198, (51, 25): 11.805969302725481, (51, 26): 12.653645585122828, (51, 27): 15.285001857770352, (51, 28): 12.150703226646122, (51, 29): 14.985032657270676, (51, 30): 11.828937618561755, (51, 31): 13.90592268616178, (51, 32): 12.746868486513526, (51, 33): 14.895322091737427, (51, 34): 14.935773882959655, (51, 35): 14.136828734976307, (51, 36): 15.964384185785974, (51, 37): 15.604142488527591, (51, 38): 12.398113835982405, (51, 39): 13.580057002379904, (53, 0): 12.375662077299847, (53, 1): 13.575401817184884, (53, 2): 15.27886749705894, (53, 3): 11.69529250869523, (53, 4): 11.98622073834498, (53, 5): 12.831484719305648, (53, 6): 12.409458240266787, (53, 7): 13.387842640240896, (53, 8): 13.025012767231784, (53, 9): 14.694325666436995, (53, 10): 11.809677386390423, (53, 11): 11.138264433916245, (53, 12): 14.089383192131553, (53, 13): 13.670243238977982, (53, 14): 12.100487955214064, (53, 15): 13.837750441474126, (53, 16): 12.509195246223628, (53, 17): 12.491042929597805, (53, 18): 13.148021972184651, (53, 19): 13.966189992181048, (53, 20): 11.482571532045514, (53, 21): 12.752278448539174, (53, 22): 13.328230262834008, (53, 23): 13.614928326348146, (53, 24): 12.336024084185, (53, 25): 11.85258674775828, (53, 26): 13.070016481619344, (53, 27): 14.254579653711753, (53, 28): 12.338045467956508, (53, 29): 13.678843111968277, (53, 30): 12.138749046406176, (53, 31): 13.264383267129936, (53, 32): 12.840043827414185, (53, 33): 14.08727864455483, (53, 34): 14.446153526836738, (53, 35): 13.16345099587315, (53, 36): 15.58894873699167, (53, 37): 14.446370448968256, (53, 38): 10.97462536897122, (53, 39): 11.654232017881917, (55, 0): 11.316455331000213, (55, 1): 12.886344987172539, (55, 2): 13.225980913077017, (55, 3): 11.465803151856866, (55, 4): 11.270199120449961, (55, 5): 11.830344384190962, (55, 6): 10.93281480756268, (55, 7): 12.488474307645841, (55, 8): 11.735047207342204, (55, 9): 13.397984080599404, (55, 10): 10.520519638919714, (55, 11): 10.399606131251392, (55, 12): 12.005297837605312, (55, 13): 11.869237820311815, (55, 14): 10.605198766685852, (55, 15): 13.286908704559044, (55, 16): 11.599644539441767, (55, 17): 12.218262467655922, (55, 18): 12.416091966255232, (55, 19): 12.666258872387091, (55, 20): 10.88025541945748, (55, 21): 11.979046532275392, (55, 22): 11.37941666410336, (55, 23): 12.293336307671362, (55, 24): 11.414319736104872, (55, 25): 11.586281221140682, (55, 26): 11.111847819593628, (55, 27): 13.402456562148664, (55, 28): 12.120000990883991, (55, 29): 13.785845350000514, (55, 30): 11.026068997659454, (55, 31): 12.449908290134339, (55, 32): 11.684409635554413, (55, 33): 12.808727601011505, (55, 34): 12.779479714155777, (55, 35): 11.774500203917729, (55, 36): 14.763277598856467, (55, 37): 13.808571490078025, (55, 38): 11.208312413315275, (55, 39): 10.895739720388743, (57, 0): 11.427648036076413, (57, 1): 11.496114847253155, (57, 2): 15.128202295500214, (57, 3): 11.256497073058227, (57, 4): 11.225624733053321, (57, 5): 11.081750117946633, (57, 6): 12.044198566208339, (57, 7): 12.958103596736567, (57, 8): 13.65015852819203, (57, 9): 14.23608532587428, (57, 10): 10.819734020612607, (57, 11): 11.964880253488156, (57, 12): 13.603578700566564, (57, 13): 12.710922504134539, (57, 14): 11.399397395319202, (57, 15): 11.957630409081148, (57, 16): 11.52212037123032, (57, 17): 12.188232410650253, (57, 18): 13.433629459330438, (57, 19): 12.527070934805462, (57, 20): 10.92629427219138, (57, 21): 12.984351233478758, (57, 22): 10.90809879575048, (57, 23): 12.267914449340864, (57, 24): 11.183086000249403, (57, 25): 10.912378372019038, (57, 26): 12.075826252224624, (57, 27): 13.334962948361545, (57, 28): 12.081876378686113, (57, 29): 13.521107502982236, (57, 30): 11.483120569551502, (57, 31): 13.347109687430953, (57, 32): 11.280761555240835, (57, 33): 12.79712256601696, (57, 34): 13.672005531057103, (57, 35): 11.97457386195519, (57, 36): 14.533420866090472, (57, 37): 14.590398614634879, (57, 38): 10.340741766688542, (57, 39): 12.142559917670892, (59, 0): 11.819161084317777, (59, 1): 12.216998683402341, (59, 2): 15.585383606370259, (59, 3): 12.149241337670105, (59, 4): 10.93408596108968, (59, 5): 12.773277222701374, (59, 6): 12.503523592371206, (59, 7): 12.548764052415022, (59, 8): 12.948818035227788, (59, 9): 14.225001597273787, (59, 10): 11.58350308370715, (59, 11): 12.048071923872103, (59, 12): 13.329414276566975, (59, 13): 13.904836567635327, (59, 14): 11.433748832054686, (59, 15): 12.727210524406248, (59, 16): 12.482877755839187, (59, 17): 12.007242025512964, (59, 18): 12.151928106015108, (59, 19): 12.905917786025185, (59, 20): 11.57073564011318, (59, 21): 13.444193856507464, (59, 22): 12.548252945006855, (59, 23): 12.254465994624185, (59, 24): 11.156000687850296, (59, 25): 11.488495589570897, (59, 26): 12.624004630846143, (59, 27): 13.504311293168563, (59, 28): 12.467022359256395, (59, 29): 15.045184290005752, (59, 30): 11.331109896515219, (59, 31): 12.53137435717522, (59, 32): 11.085459563990895, (59, 33): 12.930606159612895, (59, 34): 14.495566876693717, (59, 35): 12.686390108174322, (59, 36): 15.215676630079322, (59, 37): 14.716437993760449, (59, 38): 10.2982638668535, (59, 39): 12.254211343761988, (61, 0): 12.690569583878771, (61, 1): 14.045749322056357, (61, 2): 15.808486931685069, (61, 3): 12.802644120873394, (61, 4): 12.773439323092624, (61, 5): 13.386813242526568, (61, 6): 12.262028553079874, (61, 7): 15.074264112275717, (61, 8): 12.924275753255802, (61, 9): 14.851020533526611, (61, 10): 12.587324907071768, (61, 11): 10.303344156620536, (61, 12): 14.827011168202986, (61, 13): 13.695757719347439, (61, 14): 11.903939680105715, (61, 15): 14.273432550700802, (61, 16): 13.939978144757948, (61, 17): 13.527283127655178, (61, 18): 13.70956972334302, (61, 19): 14.082512070819378, (61, 20): 12.25116611999277, (61, 21): 13.366061586836649, (61, 22): 12.386175100138702, (61, 23): 14.318268308961041, (61, 24): 12.331206534500872, (61, 25): 13.328396858546467, (61, 26): 12.536209632150971, (61, 27): 14.763653868538922, (61, 28): 12.638104923492854, (61, 29): 15.06626866576676, (61, 30): 12.904343218098747, (61, 31): 13.559034166452902, (61, 32): 13.172912552871328, (61, 33): 15.113490992800655, (61, 34): 15.167952065180053, (61, 35): 13.104021825002134, (61, 36): 16.230259734952924, (61, 37): 15.316916658117016, (61, 38): 12.620664306326834, (61, 39): 12.37232496434966, (63, 0): 12.298259150179645, (63, 1): 12.189295350249687, (63, 2): 14.209538065250902, (63, 3): 11.530885611629666, (63, 4): 10.46100813333271, (63, 5): 11.725526330064191, (63, 6): 10.876893885182808, (63, 7): 12.169342457210956, (63, 8): 11.076729282348921, (63, 9): 13.653605523684954, (63, 10): 10.086051962114782, (63, 11): 10.285045385904409, (63, 12): 12.444384303323936, (63, 13): 12.060323733256643, (63, 14): 9.933916610594386, (63, 15): 12.726620459908741, (63, 16): 11.567066489742826, (63, 17): 11.562451416858426, (63, 18): 11.840450597033206, (63, 19): 11.568215695351546, (63, 20): 10.217301880538201, (63, 21): 11.24220336070373, (63, 22): 11.931259025046614, (63, 23): 11.886218496831965, (63, 24): 11.155657643389908, (63, 25): 10.50178113875, (63, 26): 10.974584290914793, (63, 27): 13.331600827837839, (63, 28): 10.810838252951468, (63, 29): 11.506129103259017, (63, 30): 10.374985277502518, (63, 31): 11.445947183411965, (63, 32): 10.380482741423565, (63, 33): 12.807099199783936, (63, 34): 12.588272531233402, (63, 35): 12.493471861839383, (63, 36): 13.549834780363305, (63, 37): 13.271484285294392, (63, 38): 10.136099161471963, (63, 39): 10.48632601521476, (65, 0): 12.43796737814369, (65, 1): 13.73873969713835, (65, 2): 15.47235457121251, (65, 3): 12.71292494438262, (65, 4): 12.324052386020476, (65, 5): 13.036200127960866, (65, 6): 12.329078536342049, (65, 7): 14.435509355468474, (65, 8): 13.757609879794238, (65, 9): 15.491869836601557, (65, 10): 10.85342224820585, (65, 11): 11.604631490507254, (65, 12): 14.955993067006588, (65, 13): 13.064959763196622, (65, 14): 12.320390058341061, (65, 15): 13.76069206881727, (65, 16): 13.283415057348982, (65, 17): 13.786225268519468, (65, 18): 13.541636739382792, (65, 19): 14.345669593226983, (65, 20): 12.70999367092011, (65, 21): 13.43588255321215, (65, 22): 12.116441233455308, (65, 23): 13.714984821574541, (65, 24): 12.205004774407595, (65, 25): 12.686451865549017, (65, 26): 11.668274402709017, (65, 27): 14.889742539407528, (65, 28): 12.807235218618308, (65, 29): 14.248732655684876, (65, 30): 11.76342606191816, (65, 31): 14.200091746573356, (65, 32): 13.261925828513665, (65, 33): 14.657952876807647, (65, 34): 15.216083826011989, (65, 35): 14.748488360804275, (65, 36): 15.437999310753636, (65, 37): 15.413675755364606, (65, 38): 11.25236994750935, (65, 39): 12.021119745121247, (67, 0): 11.212279704752161, (67, 1): 11.836354903873561, (67, 2): 12.661280698530863, (67, 3): 9.264247034149491, (67, 4): 9.995617912550228, (67, 5): 10.761253441378956, (67, 6): 10.891266314618612, (67, 7): 11.094700772396916, (67, 8): 10.847201974087854, (67, 9): 12.87317515819379, (67, 10): 9.777374380217978, (67, 11): 9.766118268982307, (67, 12): 12.560151807566715, (67, 13): 12.445954863823564, (67, 14): 10.815505997576137, (67, 15): 12.43117463325997, (67, 16): 11.390637848145035, (67, 17): 10.434086514069548, (67, 18): 10.880391025964588, (67, 19): 12.944525112038479, (67, 20): 8.985661782645096, (67, 21): 11.554866759259358, (67, 22): 11.111430812073104, (67, 23): 11.36844992419656, (67, 24): 10.026754590531855, (67, 25): 9.587102501732941, (67, 26): 11.000773131693368, (67, 27): 12.435800058441, (67, 28): 9.278093928279459, (67, 29): 11.77594846480556, (67, 30): 10.515982113115205, (67, 31): 11.239826171066795, (67, 32): 10.962384717539447, (67, 33): 12.301670053832828, (67, 34): 12.01687683957359, (67, 35): 12.564299084403988, (67, 36): 12.664194573058767, (67, 37): 11.42130861488521, (67, 38): 9.879706302561326, (67, 39): 10.871312588902056, (69, 0): 11.473976568043055, (69, 1): 11.260509659231964, (69, 2): 13.879081885861567, (69, 3): 11.855081003912899, (69, 4): 9.49414529004726, (69, 5): 12.08412426222207, (69, 6): 11.265390864928664, (69, 7): 12.768392629253038, (69, 8): 12.568653961110174, (69, 9): 14.047124144707348, (69, 10): 10.071613595512835, (69, 11): 10.535513781717192, (69, 12): 13.169264594180056, (69, 13): 12.599734016621035, (69, 14): 11.116269409255736, (69, 15): 13.635561502619021, (69, 16): 11.993583243382883, (69, 17): 11.109465510028562, (69, 18): 12.52836054345611, (69, 19): 12.858287000238645, (69, 20): 10.895081966933484, (69, 21): 12.039480837636775, (69, 22): 13.675075852582731, (69, 23): 12.398664010049114, (69, 24): 11.592395334591387, (69, 25): 9.571807623127846, (69, 26): 12.780632418702703, (69, 27): 12.930217280029977, (69, 28): 10.869176007168761, (69, 29): 13.273041031501322, (69, 30): 10.722735644928862, (69, 31): 12.992399876856444, (69, 32): 10.679410916210069, (69, 33): 13.363995024830304, (69, 34): 14.83637706715714, (69, 35): 12.71578015919148, (69, 36): 14.275029872624502, (69, 37): 14.945584479198068, (69, 38): 11.4764792938089, (69, 39): 11.792423648110894, (71, 0): 11.443806315611518, (71, 1): 12.376319758463609, (71, 2): 13.612091546972838, (71, 3): 11.801759843734803, (71, 4): 10.430877024262026, (71, 5): 11.1479535063267, (71, 6): 11.70514250090534, (71, 7): 13.205462260509298, (71, 8): 11.760712978495198, (71, 9): 13.842193626913351, (71, 10): 10.2394740817669, (71, 11): 10.967404299100561, (71, 12): 13.627676202642995, (71, 13): 13.372664066455048, (71, 14): 12.335218282697907, (71, 15): 13.297737879750326, (71, 16): 12.587515270909694, (71, 17): 11.211637024306055, (71, 18): 12.791598393800601, (71, 19): 13.841965663775337, (71, 20): 10.199973513142448, (71, 21): 12.929398315722974, (71, 22): 11.89598978509356, (71, 23): 13.616785329723966, (71, 24): 11.504872649104904, (71, 25): 11.104582506397591, (71, 26): 12.853019800560517, (71, 27): 13.443461696133632, (71, 28): 10.399560655387186, (71, 29): 13.852462796782556, (71, 30): 11.985138575345534, (71, 31): 12.464427447467731, (71, 32): 11.975096176146076, (71, 33): 13.366997212010036, (71, 34): 13.496396422275657, (71, 35): 13.169482669795793, (71, 36): 13.154354749364579, (71, 37): 14.401024330525972, (71, 38): 11.000991906134448, (71, 39): 12.165548877998921, (73, 0): 11.392748492230572, (73, 1): 11.533268832109693, (73, 2): 12.845394677291615, (73, 3): 10.299440854027331, (73, 4): 10.065458342710821, (73, 5): 12.040867733086728, (73, 6): 11.112470580728408, (73, 7): 12.916724708495764, (73, 8): 12.4146721964004, (73, 9): 12.824854253628931, (73, 10): 10.844201115787774, (73, 11): 10.101489691547865, (73, 12): 13.0442931613579, (73, 13): 12.549648230934231, (73, 14): 11.059923353375996, (73, 15): 12.138523243153042, (73, 16): 11.217914016178808, (73, 17): 11.056707065846997, (73, 18): 12.438557260551388, (73, 19): 12.29464555789524, (73, 20): 10.19203123001376, (73, 21): 11.35810712043979, (73, 22): 11.074806995209581, (73, 23): 11.825365557541742, (73, 24): 11.544813485715318, (73, 25): 11.03204059201141, (73, 26): 11.611388882493992, (73, 27): 13.435393513430611, (73, 28): 9.963944801217465, (73, 29): 12.330225284450071, (73, 30): 11.261516592413425, (73, 31): 12.342863506584198, (73, 32): 11.524742555047835, (73, 33): 13.374439345342854, (73, 34): 12.834148290521208, (73, 35): 11.574352219189558, (73, 36): 13.512005478144115, (73, 37): 13.117919463953744, (73, 38): 10.331917103221947, (73, 39): 10.993183140278864, (75, 0): 12.236670606320084, (75, 1): 13.731676065802061, (75, 2): 13.994069002145295, (75, 3): 11.691115779915869, (75, 4): 11.777363998625905, (75, 5): 11.802074302877923, (75, 6): 13.079261395403407, (75, 7): 12.931071080170206, (75, 8): 12.412275927710619, (75, 9): 15.0907124827837, (75, 10): 12.18388419890659, (75, 11): 11.181485081543249, (75, 12): 12.835343679217488, (75, 13): 13.0997104216141, (75, 14): 11.540406629257278, (75, 15): 12.655925157935677, (75, 16): 12.43660013649553, (75, 17): 13.642626725529691, (75, 18): 11.982478416251553, (75, 19): 13.032879744449637, (75, 20): 11.368760828185076, (75, 21): 13.280159699163796, (75, 22): 12.689150613262871, (75, 23): 14.366322957497927, (75, 24): 11.598620802856596, (75, 25): 11.649317923833607, (75, 26): 13.4052132978714, (75, 27): 13.765687616672496, (75, 28): 11.804190918304064, (75, 29): 14.066311304204778, (75, 30): 11.56206315692306, (75, 31): 12.463377776106736, (75, 32): 13.327396391935235, (75, 33): 14.31371826355259, (75, 34): 14.649415436096712, (75, 35): 13.860437213414885, (75, 36): 14.538054279663726, (75, 37): 13.782706955389589, (75, 38): 10.834810465157783, (75, 39): 11.725980031976166, (77, 0): 10.424426119020003, (77, 1): 12.42758805015741, (77, 2): 13.116698495738321, (77, 3): 11.275643785750638, (77, 4): 10.57507451989913, (77, 5): 12.356771411387705, (77, 6): 10.822117080011923, (77, 7): 12.674894321435453, (77, 8): 10.991399715861952, (77, 9): 12.669557196604831, (77, 10): 8.960480556227628, (77, 11): 9.23305968894377, (77, 12): 12.951245388287917, (77, 13): 12.223411120623531, (77, 14): 10.771201827051026, (77, 15): 12.681198387642873, (77, 16): 10.916312784553748, (77, 17): 11.316419162108513, (77, 18): 11.10015367215818, (77, 19): 12.482320250989693, (77, 20): 10.016967202443967, (77, 21): 10.772873037509495, (77, 22): 11.00678572079786, (77, 23): 11.403008810465252, (77, 24): 10.7635416983542, (77, 25): 10.403882558523886, (77, 26): 10.817530326739774, (77, 27): 12.790548251564482, (77, 28): 9.949305661200391, (77, 29): 12.266010981567836, (77, 30): 10.000816102485684, (77, 31): 11.816926632542943, (77, 32): 10.835352290586188, (77, 33): 11.690106811099843, (77, 34): 12.30953720356139, (77, 35): 11.203050588950742, (77, 36): 13.192425611439083, (77, 37): 12.167472950499876, (77, 38): 11.080100447516177, (77, 39): 10.634613053572593, (79, 0): 8.649657363581486, (79, 1): 9.729838600422074, (79, 2): 11.925137069954538, (79, 3): 8.475686098241535, (79, 4): 8.371582092451092, (79, 5): 9.76090533040084, (79, 6): 9.02961975724938, (79, 7): 10.274754489247822, (79, 8): 9.99043566880211, (79, 9): 10.374800886568003, (79, 10): 8.775071169405745, (79, 11): 8.24281536952533, (79, 12): 10.004206355329895, (79, 13): 10.254842520782368, (79, 14): 8.911165751376698, (79, 15): 10.19986896609738, (79, 16): 10.050532641105683, (79, 17): 9.213594536232616, (79, 18): 10.619365155950044, (79, 19): 9.7340926410995, (79, 20): 9.770457391489444, (79, 21): 9.615224548663322, (79, 22): 9.645402512849195, (79, 23): 9.485924431611311, (79, 24): 10.347378700813055, (79, 25): 9.705290083489555, (79, 26): 9.917143104552883, (79, 27): 10.683292490017473, (79, 28): 9.826705301734902, (79, 29): 11.392524897418308, (79, 30): 9.117510252308278, (79, 31): 8.975624378026065, (79, 32): 9.024373743183595, (79, 33): 10.773636750955504, (79, 34): 10.055540489043484, (79, 35): 9.830251630116372, (79, 36): 11.552043554310918, (79, 37): 11.318514566229295, (79, 38): 9.76987176792363, (79, 39): 9.349222953282924, (81, 0): 11.148766177756817, (81, 1): 11.947105453227797, (81, 2): 13.695925314237689, (81, 3): 10.759834336486557, (81, 4): 9.536733176788264, (81, 5): 11.386867065979356, (81, 6): 11.556174354624115, (81, 7): 13.38080812788147, (81, 8): 12.905983974419028, (81, 9): 13.004188895396565, (81, 10): 11.449632182403967, (81, 11): 11.453960660943524, (81, 12): 13.447974191245986, (81, 13): 13.356106704057815, (81, 14): 10.715921468275823, (81, 15): 13.57381319991763, (81, 16): 12.012098723533905, (81, 17): 11.43549052447633, (81, 18): 12.966974551568473, (81, 19): 13.316276946247006, (81, 20): 10.376950529264224, (81, 21): 12.55954387187376, (81, 22): 12.3065032822876, (81, 23): 12.188020749401653, (81, 24): 12.730457697689626, (81, 25): 10.34594890312063, (81, 26): 11.5964380142653, (81, 27): 12.95447120391816, (81, 28): 11.14491939630922, (81, 29): 12.985295335721837, (81, 30): 11.712078863191202, (81, 31): 11.660322814009799, (81, 32): 11.625797536217789, (81, 33): 12.443668453207275, (81, 34): 13.687108423183666, (81, 35): 11.749489406385479, (81, 36): 14.318611381804418, (81, 37): 13.703217482971748, (81, 38): 11.548858460996424, (81, 39): 11.542868875849145, (83, 0): 11.096703757224683, (83, 1): 12.497415129946415, (83, 2): 14.18912617989713, (83, 3): 13.00583405673406, (83, 4): 10.107572662354888, (83, 5): 12.399237472505174, (83, 6): 12.303747755275085, (83, 7): 13.590700740860592, (83, 8): 13.016230263043129, (83, 9): 14.823312881032916, (83, 10): 10.552230921670713, (83, 11): 10.770730100557804, (83, 12): 13.101868270657748, (83, 13): 12.427181268139561, (83, 14): 11.867548788581193, (83, 15): 13.636265175792444, (83, 16): 12.763446828994178, (83, 17): 12.080175262059235, (83, 18): 11.783566055971885, (83, 19): 13.54776213700557, (83, 20): 11.608367525126075, (83, 21): 12.329139833975827, (83, 22): 12.379737263251249, (83, 23): 11.966681915160024, (83, 24): 11.800784143621783, (83, 25): 10.465063033279405, (83, 26): 11.778292870774186, (83, 27): 12.525740159088647, (83, 28): 11.238494054845289, (83, 29): 14.518347014773745, (83, 30): 11.039610241059396, (83, 31): 13.130553921356944, (83, 32): 11.60326100622094, (83, 33): 12.864172783063992, (83, 34): 14.018649224420313, (83, 35): 13.254507922087479, (83, 36): 15.68938262702846, (83, 37): 14.887773251604592, (83, 38): 12.737403316197046, (83, 39): 13.200527507120743, (85, 0): 11.174803366676652, (85, 1): 11.240073468297632, (85, 2): 13.311448472955455, (85, 3): 9.852184562563995, (85, 4): 11.298378770969286, (85, 5): 10.592280869647384, (85, 6): 10.811778972563285, (85, 7): 12.151352313307047, (85, 8): 12.572261013492296, (85, 9): 13.250550671515558, (85, 10): 11.101010395716834, (85, 11): 10.52683688532609, (85, 12): 13.362996800789166, (85, 13): 12.017632860312203, (85, 14): 11.18214392854164, (85, 15): 12.0664288070298, (85, 16): 11.053052762382698, (85, 17): 10.837860102280679, (85, 18): 11.793200019380807, (85, 19): 11.994670813894059, (85, 20): 10.294489055779298, (85, 21): 11.140596901313359, (85, 22): 11.691477695018758, (85, 23): 13.037673156440711, (85, 24): 11.179570739076826, (85, 25): 10.570302387912893, (85, 26): 11.079805552323942, (85, 27): 12.377343394011767, (85, 28): 11.238600794058943, (85, 29): 13.13155852206818, (85, 30): 11.481518471121142, (85, 31): 11.861752924826975, (85, 32): 11.225451041163463, (85, 33): 13.343381575692598, (85, 34): 12.99988054760498, (85, 35): 12.326556834723263, (85, 36): 13.92381163405862, (85, 37): 13.478041215234285, (85, 38): 10.06618835172062, (85, 39): 10.326142896958345, (87, 0): 13.202679431033651, (87, 1): 13.58360932990382, (87, 2): 15.769330550728517, (87, 3): 12.109285434531524, (87, 4): 11.386389155443423, (87, 5): 13.434099695349385, (87, 6): 13.394723320413728, (87, 7): 14.924810997390614, (87, 8): 13.504249748410361, (87, 9): 15.483593824695417, (87, 10): 12.31567017498366, (87, 11): 12.126482336861264, (87, 12): 15.719239407495559, (87, 13): 14.753118290478206, (87, 14): 12.893036691249673, (87, 15): 15.070068482790216, (87, 16): 13.758178331139513, (87, 17): 13.888574990279313, (87, 18): 13.711552413301607, (87, 19): 15.037491645321118, (87, 20): 11.718841565649942, (87, 21): 13.703078475530955, (87, 22): 13.229230568076678, (87, 23): 14.519088137677697, (87, 24): 12.859596593471482, (87, 25): 12.28700541885897, (87, 26): 13.80223543806825, (87, 27): 15.676014941488393, (87, 28): 11.369988052433106, (87, 29): 14.912708520793258, (87, 30): 12.501721952451573, (87, 31): 13.571576091244724, (87, 32): 13.166489467494198, (87, 33): 15.07240259828603, (87, 34): 16.072760617857405, (87, 35): 14.407000714640379, (87, 36): 14.408066458456057, (87, 37): 16.14275239745463, (87, 38): 11.592825770760799, (87, 39): 12.893583820359577, (89, 0): 12.416682513836284, (89, 1): 14.488797488443096, (89, 2): 14.603981906874388, (89, 3): 11.491472770391285, (89, 4): 11.033697612026701, (89, 5): 12.997545259567884, (89, 6): 12.926018250445424, (89, 7): 14.212105787979556, (89, 8): 12.88999257729139, (89, 9): 15.26274777470287, (89, 10): 13.033355257038027, (89, 11): 11.180589014950627, (89, 12): 15.031843992303548, (89, 13): 14.119860835243799, (89, 14): 11.589318174397349, (89, 15): 13.434590607606456, (89, 16): 13.07518493115474, (89, 17): 12.777215420628925, (89, 18): 13.635561812413801, (89, 19): 13.927647096196063, (89, 20): 11.526471742522066, (89, 21): 12.746913829868694, (89, 22): 12.8461849041206, (89, 23): 13.782531456086222, (89, 24): 13.388204464513613, (89, 25): 13.430311561750361, (89, 26): 13.633043460602222, (89, 27): 13.719383816263994, (89, 28): 11.311171500415266, (89, 29): 13.891543439399655, (89, 30): 11.96899036470736, (89, 31): 12.668254228150527, (89, 32): 13.777982684013494, (89, 33): 15.21838246971984, (89, 34): 14.02174330238287, (89, 35): 13.404083123769812, (89, 36): 14.726354004845344, (89, 37): 14.025891714840384, (89, 38): 11.979518322828008, (89, 39): 13.106090023281205, (91, 0): 11.901240763016048, (91, 1): 12.012389632431006, (91, 2): 13.664922034568916, (91, 3): 11.26168872953724, (91, 4): 9.02792864870987, (91, 5): 13.514302523974571, (91, 6): 11.977665107769248, (91, 7): 12.612221003799533, (91, 8): 10.263470546782328, (91, 9): 12.939763621020422, (91, 10): 10.651116959182948, (91, 11): 9.882498304874558, (91, 12): 12.702159731704251, (91, 13): 12.509927303943078, (91, 14): 11.295788622614095, (91, 15): 13.309638395873801, (91, 16): 11.348126339762088, (91, 17): 11.856660425513676, (91, 18): 11.33425043121773, (91, 19): 12.531165085319833, (91, 20): 9.790099744336901, (91, 21): 12.512049573478391, (91, 22): 12.054530406803387, (91, 23): 11.957801750005345, (91, 24): 10.543054228800495, (91, 25): 11.06585924750761, (91, 26): 12.465891646561658, (91, 27): 12.871370490176357, (91, 28): 9.876752806692865, (91, 29): 13.311370289804678, (91, 30): 10.84970307219666, (91, 31): 11.10070942460073, (91, 32): 11.6642477298163, (91, 33): 12.959607538277144, (91, 34): 13.18580616085926, (91, 35): 12.332615939727514, (91, 36): 13.480894846082519, (91, 37): 12.865856062900786, (91, 38): 10.715334864629426, (91, 39): 12.474474190454297, (93, 0): 10.186724931255124, (93, 1): 12.573088906695117, (93, 2): 12.61351482268165, (93, 3): 11.759482738910558, (93, 4): 10.864206497670029, (93, 5): 11.646073394766917, (93, 6): 12.367878594291081, (93, 7): 13.328495123900698, (93, 8): 11.716301785664026, (93, 9): 13.911173202149069, (93, 10): 10.42305556288715, (93, 11): 10.244297678884777, (93, 12): 12.242677847162007, (93, 13): 12.33531503382483, (93, 14): 10.920460001491385, (93, 15): 12.729278396424872, (93, 16): 12.143025513225917, (93, 17): 12.036070903718096, (93, 18): 12.121723332244244, (93, 19): 12.557523355544488, (93, 20): 10.405629007501608, (93, 21): 12.865000419950853, (93, 22): 11.046427759708784, (93, 23): 12.61722556627936, (93, 24): 10.678419593320706, (93, 25): 10.826524209186807, (93, 26): 12.811312814602061, (93, 27): 12.379216605593184, (93, 28): 10.848121893453198, (93, 29): 13.893056626070251, (93, 30): 12.031166067486279, (93, 31): 13.000288635014828, (93, 32): 11.441873421859722, (93, 33): 12.97714731821436, (93, 34): 12.98521640748082, (93, 35): 12.198973164465965, (93, 36): 13.479415966279952, (93, 37): 14.307538483725857, (93, 38): 11.72878764708391, (93, 39): 11.804667637590107, (95, 0): 10.21870348466737, (95, 1): 11.869093299383305, (95, 2): 13.681974668252463, (95, 3): 10.1928300973736, (95, 4): 10.659334045365098, (95, 5): 11.53636750107973, (95, 6): 10.15503322954077, (95, 7): 11.271710948534695, (95, 8): 10.337029003105606, (95, 9): 13.100669683212052, (95, 10): 9.63200063686979, (95, 11): 8.300092889327166, (95, 12): 12.580265402927711, (95, 13): 11.235130698498775, (95, 14): 10.104677342169333, (95, 15): 11.897199064583901, (95, 16): 11.152819599157114, (95, 17): 11.24911098255941, (95, 18): 11.627059706925444, (95, 19): 11.393571208754018, (95, 20): 10.119349060565089, (95, 21): 10.155843079474637, (95, 22): 9.518353680280761, (95, 23): 10.93359803529072, (95, 24): 10.312949860346434, (95, 25): 11.045794193739424, (95, 26): 10.128630464046795, (95, 27): 13.553867025759185, (95, 28): 9.346615624836405, (95, 29): 11.808116741011396, (95, 30): 9.723631098134693, (95, 31): 10.192820530016462, (95, 32): 10.525098213254655, (95, 33): 12.015716347830239, (95, 34): 12.596999227976506, (95, 35): 11.336207321978227, (95, 36): 11.881865932214998, (95, 37): 12.490272157002929, (95, 38): 10.51445897832564, (95, 39): 10.16780370622383, (97, 0): 11.660360749841187, (97, 1): 12.665898206926714, (97, 2): 14.716493518916781, (97, 3): 11.317108261799113, (97, 4): 11.212070672971064, (97, 5): 12.917839823600213, (97, 6): 12.150152412771645, (97, 7): 12.90057284879819, (97, 8): 11.64438484036129, (97, 9): 13.801126232072091, (97, 10): 11.313692374562304, (97, 11): 9.79172995257094, (97, 12): 13.13079400645853, (97, 13): 11.887258065394672, (97, 14): 13.007530926051382, (97, 15): 14.487329303175388, (97, 16): 12.072717510579164, (97, 17): 13.100298989612886, (97, 18): 12.383432721604446, (97, 19): 13.808997391789765, (97, 20): 11.380792132598332, (97, 21): 11.676738764088105, (97, 22): 12.54577373751792, (97, 23): 13.389578503665184, (97, 24): 11.215379012573976, (97, 25): 11.03963243297789, (97, 26): 13.198151793162907, (97, 27): 14.22477792974157, (97, 28): 10.899656527118331, (97, 29): 13.768260755084818, (97, 30): 10.774492502067636, (97, 31): 12.71793844811247, (97, 32): 12.496671717739464, (97, 33): 14.517792052794587, (97, 34): 13.853179469172945, (97, 35): 14.233042339075975, (97, 36): 15.145835704337884, (97, 37): 13.945695589152603, (97, 38): 11.322611550532738, (97, 39): 12.278432174047772, (99, 0): 11.861717956827755, (99, 1): 12.884476188751007, (99, 2): 14.621509841704947, (99, 3): 11.932891067772426, (99, 4): 10.837686398024879, (99, 5): 12.273998846757292, (99, 6): 12.009242189581173, (99, 7): 13.52701143386796, (99, 8): 11.901695056388046, (99, 9): 13.22498744931236, (99, 10): 11.002079574259678, (99, 11): 10.486793798952663, (99, 12): 12.724336134727075, (99, 13): 13.339567028209794, (99, 14): 10.450167166138367, (99, 15): 13.593098890534769, (99, 16): 12.304035010090587, (99, 17): 12.352463305520327, (99, 18): 12.256198472236058, (99, 19): 13.453697008135162, (99, 20): 10.018492237793582, (99, 21): 13.63011904722908, (99, 22): 12.112788163578696, (99, 23): 12.856782518447062, (99, 24): 12.232004620179122, (99, 25): 12.1975977779511, (99, 26): 11.961122563671214, (99, 27): 14.939962551239278, (99, 28): 11.928861376589786, (99, 29): 13.838946455393025, (99, 30): 11.852220262702133, (99, 31): 11.922583164043964, (99, 32): 12.681513146291316, (99, 33): 13.480385816142206, (99, 34): 12.810438104808735, (99, 35): 11.542416839462053, (99, 36): 14.630557626397065, (99, 37): 13.97264397765272, (99, 38): 11.206778745447059, (99, 39): 10.554110337382122}\n",
            "\n",
            "Result Matrix (NumPy):\n",
            " [[13.84185935 13.83859443 15.27815875 ... 15.47955914 12.3319896\n",
            "  12.5218202 ]\n",
            " [11.98768492 12.10592486 15.05764497 ... 13.84990676  9.61807833\n",
            "  12.67328398]\n",
            " [ 9.24037016 10.32588511 10.95441029 ... 11.310526    8.90025702\n",
            "   8.65431108]\n",
            " ...\n",
            " [11.66036075 12.66589821 14.71649352 ... 13.94569559 11.32261155\n",
            "  12.27843217]\n",
            " [11.65429234 13.26231235 13.64956758 ... 12.9457253  11.91487291\n",
            "  11.57681357]\n",
            " [11.86171796 12.88447619 14.62150984 ... 13.97264398 11.20677875\n",
            "  10.55411034]]\n",
            "\n",
            "Verification (NumPy):\n",
            " [[13.84185935 13.83859443 15.27815875 ... 15.47955914 12.3319896\n",
            "  12.5218202 ]\n",
            " [11.98768492 12.10592486 15.05764497 ... 13.84990676  9.61807833\n",
            "  12.67328398]\n",
            " [ 9.24037016 10.32588511 10.95441029 ... 11.310526    8.90025702\n",
            "   8.65431108]\n",
            " ...\n",
            " [11.66036075 12.66589821 14.71649352 ... 13.94569559 11.32261155\n",
            "  12.27843217]\n",
            " [11.65429234 13.26231235 13.64956758 ... 12.9457253  11.91487291\n",
            "  11.57681357]\n",
            " [11.86171796 12.88447619 14.62150984 ... 13.97264398 11.20677875\n",
            "  10.55411034]]\n",
            "\n",
            "Are results equal ? True\n"
          ]
        }
      ]
    },
    {
      "cell_type": "markdown",
      "metadata": {
        "id": "ZuSA2P9Db6UM"
      },
      "source": [
        "Обобщите предыдущее решение на случай, когда каждая матрица генерируется несколькими RECORDREADER-ами, и проверьте его работоспособность. Будет ли работать решение, если RECORDREADER-ы будут генерировать случайное подмножество элементов матрицы?"
      ]
    },
    {
      "cell_type": "code",
      "metadata": {
        "id": "ehN0FqRDcwU5",
        "colab": {
          "base_uri": "https://localhost:8080/"
        },
        "outputId": "ec1623be-5e8f-42c7-b9c0-85a809a1efc8"
      },
      "source": [
        "import numpy as np\n",
        "I = 2\n",
        "J = 3\n",
        "K = 40\n",
        "small_mat = np.random.rand(I,J)\n",
        "big_mat = np.random.rand(J,K)\n",
        "reference_solution = np.matmul(small_mat, big_mat)\n",
        "\n",
        "def INPUTFORMAT():\n",
        "  first_mat = []\n",
        "  for i in range(small_mat.shape[0]):\n",
        "    for j in range(small_mat.shape[1]):\n",
        "      first_mat.append(((0, i, j), small_mat[i,j]))\n",
        "\n",
        "  global maps\n",
        "  split_size =  int(np.ceil(len(first_mat)/maps))\n",
        "  for i in range(0, len(first_mat), split_size):\n",
        "    yield first_mat[i:i+split_size]\n",
        "\n",
        "  second_mat = []\n",
        "  for j in range(big_mat.shape[0]):\n",
        "    for k in range(big_mat.shape[1]):\n",
        "      second_mat.append(((1, j, k), big_mat[j,k]))\n",
        "\n",
        "  split_size =  int(np.ceil(len(second_mat)/maps))\n",
        "  for i in range(0, len(second_mat), split_size):\n",
        "    yield second_mat[i:i+split_size]\n",
        "\n",
        "\n",
        "def MAP_JOIN(k1, v1):\n",
        "  (mat_num, i, j) = k1\n",
        "  w = v1\n",
        "  if mat_num == 0:\n",
        "    yield (j, (mat_num, i, w))\n",
        "  else:\n",
        "    yield (i, (mat_num, j, w))\n",
        "\n",
        "\n",
        "def REDUCE_JOIN(key, values):\n",
        "  from_first_mat = [v for v in values if v[0] == 0]\n",
        "  from_second_mat = [v for v in values if v[0] == 1]\n",
        "  for f in from_first_mat:\n",
        "    for s in from_second_mat:\n",
        "      yield ((f[1], s[1]), f[2] * s[2])\n",
        "\n",
        "\n",
        "def GET_JOINED():\n",
        "  for j in joined:\n",
        "    print(\"aa\", j)\n",
        "    yield j[1]\n",
        "\n",
        "\n",
        "def MAP_MUL(k1, v1):\n",
        "  yield (k1, v1)\n",
        "\n",
        "\n",
        "def REDUCE_MUL(key, values):\n",
        "  res_val = 0\n",
        "  for v in values:\n",
        "    res_val += v\n",
        "  yield (key, res_val)\n",
        "\n",
        "maps = 3\n",
        "reducers = 2\n",
        "partitioned_output = MapReduceDistributed(INPUTFORMAT, MAP_JOIN, REDUCE_JOIN, COMBINER=None)\n",
        "joined = [(partition_id, list(partition)) for (partition_id, partition) in partitioned_output]\n",
        "\n",
        "mul_output = MapReduceDistributed(GET_JOINED, MAP_MUL, REDUCE_MUL, COMBINER=None)\n",
        "pre_result = [(partition_id, list(partition)) for (partition_id, partition) in mul_output]\n",
        "\n",
        "solution = []\n",
        "for p in pre_result:\n",
        "  for v in p[1]:\n",
        "    solution.append(v)\n",
        "\n",
        "print(solution)\n",
        "np.allclose(reference_solution, asmatrix(solution)) # should return true"
      ],
      "execution_count": 165,
      "outputs": [
        {
          "output_type": "stream",
          "name": "stdout",
          "text": [
            "126 key-value pairs were sent over a network.\n",
            "aa (0, [((0, 0), 0.055458024903016406), ((0, 1), 0.22390413915081236), ((0, 2), 0.11461390711581826), ((0, 3), 0.1918076547212709), ((0, 4), 0.05391043915487261), ((0, 5), 0.20454401455115634), ((0, 6), 0.07413571277488959), ((0, 7), 0.2010867729384999), ((0, 8), 0.05859892573818361), ((0, 9), 0.03519598090766663), ((0, 10), 0.1728516393704133), ((0, 11), 0.24616569488008191), ((0, 12), 0.07208831569991092), ((0, 13), 0.05387651077626188), ((0, 14), 0.02241471795957654), ((0, 15), 0.1855224048902564), ((0, 16), 0.24162796537241993), ((0, 17), 0.22675813117772617), ((0, 18), 0.046687356389127126), ((0, 19), 0.05850866599787), ((0, 20), 0.23813080023398284), ((0, 21), 0.25691086351982767), ((0, 22), 0.07105136095850333), ((0, 23), 0.25553946732833865), ((0, 24), 0.08227127950610123), ((0, 25), 0.12418971340412448), ((0, 26), 0.12932222664096898), ((0, 27), 0.25366552250602914), ((0, 28), 0.08560387989591307), ((0, 29), 0.15762193327071516), ((0, 30), 0.26861513452321817), ((0, 31), 0.02113125461556762), ((0, 32), 0.298129898017443), ((0, 33), 0.023135341335253478), ((0, 34), 0.17427249537584208), ((0, 35), 0.058018929062054615), ((0, 36), 0.07927936510484501), ((0, 37), 0.12140956478192143), ((0, 38), 0.14105922813636665), ((0, 39), 0.21117455500411), ((1, 0), 0.1124809252464885), ((1, 1), 0.45412624741405205), ((1, 2), 0.23246190864256927), ((1, 3), 0.3890276025901904), ((1, 4), 0.10934208506684076), ((1, 5), 0.4148597078705897), ((1, 6), 0.1503633348160212), ((1, 7), 0.40784767063932675), ((1, 8), 0.11885135464178165), ((1, 9), 0.07138509718611996), ((1, 10), 0.3505806844141497), ((1, 11), 0.49927751975441104), ((1, 12), 0.14621076865912536), ((1, 13), 0.10927327094255626), ((1, 14), 0.045461918624785366), ((1, 15), 0.3762797501804773), ((1, 16), 0.49007401828762237), ((1, 17), 0.459914763402401), ((1, 18), 0.09469210367922688), ((1, 19), 0.118668288275449), ((1, 20), 0.4829810074708998), ((1, 21), 0.5210710566256171), ((1, 22), 0.14410759911862636), ((1, 23), 0.5182895671519485), ((1, 24), 0.16686403196366636), ((1, 25), 0.2518837245686399), ((1, 26), 0.2622935766816516), ((1, 27), 0.5144887998537467), ((1, 28), 0.1736232697111047), ((1, 29), 0.319691531107268), ((1, 30), 0.5448098614982986), ((1, 31), 0.04285877607316119), ((1, 32), 0.604672215270676), ((1, 33), 0.046923499418406116), ((1, 34), 0.353462489137851), ((1, 35), 0.11767499535230165), ((1, 36), 0.1607957794303294), ((1, 37), 0.24624497905083584), ((1, 38), 0.2860987661042908), ((1, 39), 0.4283078846914691), ((0, 0), 0.008182534613131292), ((0, 1), 0.4266242111240344), ((0, 2), 0.14311886884601044), ((0, 3), 0.14919390138737515), ((0, 4), 0.438306614064242), ((0, 5), 0.222148434167173), ((0, 6), 0.3207553726643817), ((0, 7), 0.4165962293867635), ((0, 8), 0.37331963509630206), ((0, 9), 0.14531053227737073), ((0, 10), 0.3489872131952431), ((0, 11), 0.30204429364891594), ((0, 12), 0.014508929340666924), ((0, 13), 0.04696421245935284), ((0, 14), 0.12248396627772924), ((0, 15), 0.37904081145248647), ((0, 16), 0.1625051649488257), ((0, 17), 0.3828302117911104), ((0, 18), 0.3438687045241815), ((0, 19), 0.37288051094028957), ((0, 20), 0.0567879720328632), ((0, 21), 0.22375786300879233), ((0, 22), 0.3372865167506103), ((0, 23), 0.42334494092889546), ((0, 24), 0.2556127876232632), ((0, 25), 0.11507474352782307), ((0, 26), 0.07325011408804603), ((0, 27), 0.09655470665722321), ((0, 28), 0.4377163127812493), ((0, 29), 0.1867142093859111), ((0, 30), 0.13246819776499297), ((0, 31), 0.3185421779135024), ((0, 32), 0.33256061756734334), ((0, 33), 0.3909376142448676), ((0, 34), 0.25846253419391946), ((0, 35), 0.14120749578896868), ((0, 36), 0.04059385969628689), ((0, 37), 0.1610478264590099), ((0, 38), 0.3839520878907016), ((0, 39), 0.16652203397967963), ((1, 0), 0.0010958117186701196), ((1, 1), 0.057133862809192484), ((1, 2), 0.01916659581159461), ((1, 3), 0.019980169131461355), ((1, 4), 0.058698379752825276), ((1, 5), 0.02975029974868006), ((1, 6), 0.04295582149178634), ((1, 7), 0.05579090730434479), ((1, 8), 0.04999527044977948), ((1, 9), 0.019460105168415565), ((1, 10), 0.0467366526347059), ((1, 11), 0.040450018507316776), ((1, 12), 0.0019430476678149115), ((1, 13), 0.006289485691693013), ((1, 14), 0.016403152805603397), ((1, 15), 0.05076145506030644), ((1, 16), 0.021762824419901624), ((1, 17), 0.05126893464873771), ((1, 18), 0.04605117777281374), ((1, 19), 0.0499364625841412), ((1, 20), 0.007605091597566582), ((1, 21), 0.02996583577368897), ((1, 22), 0.04516968581001882), ((1, 23), 0.05669470026623762), ((1, 24), 0.03423187329632552), ((1, 25), 0.015410903643277223), ((1, 26), 0.00980971510744236), ((1, 27), 0.012930685178886308), ((1, 28), 0.058619326122864295), ((1, 29), 0.025004919424228396), ((1, 30), 0.017740249241236065), ((1, 31), 0.042659428643069194), ((1, 32), 0.04453678953140525), ((1, 33), 0.052354684607258485), ((1, 34), 0.03461351368466603), ((1, 35), 0.018910623170636215), ((1, 36), 0.00543636284652623), ((1, 37), 0.02156765645902965), ((1, 38), 0.051419177212313934), ((1, 39), 0.02230076680138681)])\n",
            "aa (1, [((0, 0), 0.669466360462963), ((0, 1), 0.24955184486235651), ((0, 2), 0.5257712229904511), ((0, 3), 0.9586292038017129), ((0, 4), 0.88307142593), ((0, 5), 0.7173045773075406), ((0, 6), 0.39380377719526927), ((0, 7), 0.24109290220992974), ((0, 8), 0.3064182887240001), ((0, 9), 0.6656522413323235), ((0, 10), 0.6632955721440618), ((0, 11), 0.4455263500453458), ((0, 12), 0.9934446788973182), ((0, 13), 0.8518650342632758), ((0, 14), 0.68682192618806), ((0, 15), 0.7477977752146432), ((0, 16), 0.21905341648785848), ((0, 17), 0.07469380256288519), ((0, 18), 0.6394692436424558), ((0, 19), 0.20082084910328543), ((0, 20), 0.567521039055067), ((0, 21), 0.08098641415194296), ((0, 22), 0.23643929371361405), ((0, 23), 0.1248835616838511), ((0, 24), 0.42430904454040713), ((0, 25), 0.7114096281256493), ((0, 26), 0.3171399160951719), ((0, 27), 0.6856862905914097), ((0, 28), 0.545145510001338), ((0, 29), 0.2652965996883048), ((0, 30), 0.9133766968565664), ((0, 31), 0.79055802868994), ((0, 32), 0.2685779821163897), ((0, 33), 0.8561113086425005), ((0, 34), 0.03161146075483546), ((0, 35), 0.5687403105968407), ((0, 36), 0.9420734597936762), ((0, 37), 0.22842501524684541), ((0, 38), 0.021056645954646472), ((0, 39), 0.3037199221995561), ((1, 0), 0.5329517297093528), ((1, 1), 0.19866433211009848), ((1, 2), 0.41855827159169845), ((1, 3), 0.7631497600009544), ((1, 4), 0.7029993913074817), ((1, 5), 0.5710349881361056), ((1, 6), 0.3135010459332952), ((1, 7), 0.1919302997757397), ((1, 8), 0.24393482127631172), ((1, 9), 0.5299153689479456), ((1, 10), 0.5280392613577625), ((1, 11), 0.3546765796022365), ((1, 12), 0.7908658168018132), ((1, 13), 0.6781564695432472), ((1, 14), 0.5467682249353091), ((1, 15), 0.5953101474700586), ((1, 16), 0.17438500888261754), ((1, 17), 0.059462571423199787), ((1, 18), 0.5090714927924043), ((1, 19), 0.15987034631177413), ((1, 20), 0.4517946491018353), ((1, 21), 0.06447202138041389), ((1, 22), 0.18822563462156158), ((1, 23), 0.09941785598554394), ((1, 24), 0.33778581355865356), ((1, 25), 0.5663421110199724), ((1, 26), 0.25247014163029274), ((1, 27), 0.545864163146251), ((1, 28), 0.43398183935273893), ((1, 29), 0.21119848589870105), ((1, 30), 0.7271249449028183), ((1, 31), 0.6293509184457804), ((1, 32), 0.21381074327885732), ((1, 33), 0.6815368623588972), ((1, 34), 0.025165390948513437), ((1, 35), 0.4527652921625625), ((1, 36), 0.7499699903712949), ((1, 37), 0.18184559251118124), ((1, 38), 0.016762867480967523), ((1, 39), 0.2417866937653226)])\n",
            "240 key-value pairs were sent over a network.\n",
            "[((0, 1), 0.9000801951372033), ((0, 2), 0.7835039989522798), ((0, 4), 1.3752884791491145), ((0, 5), 1.14399702602587), ((0, 8), 0.7383368495584858), ((0, 9), 0.8461587545173608), ((0, 11), 0.9937363385743436), ((0, 12), 1.080041923937896), ((0, 15), 1.312360991557386), ((0, 16), 0.6231865468091041), ((0, 18), 1.0300253045557644), ((0, 19), 0.632210026041445), ((0, 22), 0.6447771714227277), ((0, 23), 0.8037679699410851), ((0, 25), 0.9506740850575969), ((0, 26), 0.519712256824187), ((0, 29), 0.609632742344931), ((0, 32), 0.8992684977011761), ((0, 33), 1.2701842642226215), ((0, 36), 1.061946684594808), ((0, 39), 0.6814165111833458), ((1, 0), 0.6465284666745115), ((1, 1), 0.7099244423333431), ((1, 3), 1.172157531722606), ((1, 4), 0.8710398561271477), ((1, 7), 0.6555688777194112), ((1, 10), 0.9253565984066181), ((1, 11), 0.8944041178639643), ((1, 14), 0.6086332963656979), ((1, 17), 0.5706462694743385), ((1, 18), 0.6498147742444449), ((1, 21), 0.61550891377972), ((1, 24), 0.5388817188186454), ((1, 25), 0.8336367392318895), ((1, 27), 1.0732836481788839), ((1, 28), 0.6662244351867079), ((1, 31), 0.7148691231620108), ((1, 32), 0.8630197480809386), ((1, 34), 0.4132413937710305), ((1, 35), 0.5893509106855004), ((1, 38), 0.35428081079757223), ((1, 39), 0.6923953452581785), ((0, 0), 0.7331069199791107), ((0, 3), 1.299630759910359), ((0, 6), 0.7886948626345406), ((0, 7), 0.8587759045351931), ((0, 10), 1.1851344247097182), ((0, 13), 0.9527057574988904), ((0, 14), 0.8317206104253658), ((0, 17), 0.6842821455317217), ((0, 20), 0.862439811321913), ((0, 21), 0.561655140680563), ((0, 24), 0.7621931116697716), ((0, 27), 1.0359065197546622), ((0, 28), 1.0684657026785005), ((0, 30), 1.3144600291447777), ((0, 31), 1.13023146121901), ((0, 34), 0.46434649032459696), ((0, 35), 0.767966735447864), ((0, 37), 0.5108824064877767), ((0, 38), 0.5460679619817148), ((1, 2), 0.6701867760458624), ((1, 5), 1.0156449957553755), ((1, 6), 0.5068202022411028), ((1, 8), 0.41278144636787284), ((1, 9), 0.6207605713024811), ((1, 12), 0.9390196331287535), ((1, 13), 0.7937192261774965), ((1, 15), 1.0223513527108423), ((1, 16), 0.6862218515901415), ((1, 19), 0.32847509717136436), ((1, 20), 0.9423807481703017), ((1, 22), 0.37750291955020676), ((1, 23), 0.6744021234037301), ((1, 26), 0.5245734334193868), ((1, 29), 0.5558949364301975), ((1, 30), 1.2896750556423529), ((1, 33), 0.7808150463845618), ((1, 36), 0.9162021326481505), ((1, 37), 0.4496582280210467)]\n"
          ]
        },
        {
          "output_type": "execute_result",
          "data": {
            "text/plain": [
              "True"
            ]
          },
          "metadata": {},
          "execution_count": 165
        }
      ]
    }
  ]
}