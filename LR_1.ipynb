{
  "nbformat": 4,
  "nbformat_minor": 0,
  "metadata": {
    "colab": {
      "provenance": []
    },
    "kernelspec": {
      "name": "python3",
      "display_name": "Python 3"
    },
    "language_info": {
      "name": "python"
    }
  },
  "cells": [
    {
      "cell_type": "code",
      "execution_count": 1,
      "metadata": {
        "id": "Ji5NFbNu9B8S",
        "colab": {
          "base_uri": "https://localhost:8080/"
        },
        "outputId": "a776d743-d096-455f-ecf8-115107069ec1"
      },
      "outputs": [
        {
          "output_type": "stream",
          "name": "stdout",
          "text": [
            "+---+--------------------+------------------+-------------------+----------+------------+-----------------+\n",
            "| id|                name|               lat|               long|dock_count|        city|installation_date|\n",
            "+---+--------------------+------------------+-------------------+----------+------------+-----------------+\n",
            "|  2|San Jose Diridon ...|         37.329732|-121.90178200000001|        27|    San Jose|         8/6/2013|\n",
            "|  3|San Jose Civic Ce...|         37.330698|        -121.888979|        15|    San Jose|         8/5/2013|\n",
            "|  4|Santa Clara at Al...|         37.333988|        -121.894902|        11|    San Jose|         8/6/2013|\n",
            "|  5|    Adobe on Almaden|         37.331415|          -121.8932|        19|    San Jose|         8/5/2013|\n",
            "|  6|    San Pedro Square|37.336721000000004|        -121.894074|        15|    San Jose|         8/7/2013|\n",
            "|  7|Paseo de San Antonio|         37.333798|-121.88694299999999|        15|    San Jose|         8/7/2013|\n",
            "|  8| San Salvador at 1st|         37.330165|-121.88583100000001|        15|    San Jose|         8/5/2013|\n",
            "|  9|           Japantown|         37.348742|-121.89471499999999|        15|    San Jose|         8/5/2013|\n",
            "| 10|  San Jose City Hall|         37.337391|        -121.886995|        15|    San Jose|         8/6/2013|\n",
            "| 11|         MLK Library|         37.335885|-121.88566000000002|        19|    San Jose|         8/6/2013|\n",
            "| 12|SJSU 4th at San C...|         37.332808|-121.88389099999999|        19|    San Jose|         8/7/2013|\n",
            "| 13|       St James Park|         37.339301|-121.88993700000002|        15|    San Jose|         8/6/2013|\n",
            "| 14|Arena Green / SAP...|         37.332692|        -121.900084|        19|    San Jose|         8/5/2013|\n",
            "| 16|SJSU - San Salvad...|37.333954999999996|        -121.877349|        15|    San Jose|         8/7/2013|\n",
            "| 21|   Franklin at Maple|         37.481758|        -122.226904|        15|Redwood City|        8/12/2013|\n",
            "| 22|Redwood City Calt...|37.486078000000006|-122.23208899999999|        25|Redwood City|        8/15/2013|\n",
            "| 23|San Mateo County ...|37.487615999999996|        -122.229951|        15|Redwood City|        8/15/2013|\n",
            "| 24|Redwood City Publ...|         37.484219|        -122.227424|        15|Redwood City|        8/12/2013|\n",
            "| 25|Stanford in Redwo...|          37.48537|-122.20328799999999|        15|Redwood City|        8/12/2013|\n",
            "| 26|Redwood City Medi...|         37.487682|        -122.223492|        15|Redwood City|        8/12/2013|\n",
            "+---+--------------------+------------------+-------------------+----------+------------+-----------------+\n",
            "only showing top 20 rows\n",
            "\n",
            "+----+--------+---------------+--------------------+----------------+---------------+--------------------+--------------+-------+-----------------+--------+\n",
            "|  id|duration|     start_date|  start_station_name|start_station_id|       end_date|    end_station_name|end_station_id|bike_id|subscription_type|zip_code|\n",
            "+----+--------+---------------+--------------------+----------------+---------------+--------------------+--------------+-------+-----------------+--------+\n",
            "|4576|      63|8/29/2013 14:13|South Van Ness at...|              66|8/29/2013 14:14|South Van Ness at...|            66|    520|       Subscriber|   94127|\n",
            "|4607|      70|8/29/2013 14:42|  San Jose City Hall|              10|8/29/2013 14:43|  San Jose City Hall|            10|    661|       Subscriber|   95138|\n",
            "|4130|      71|8/29/2013 10:16|Mountain View Cit...|              27|8/29/2013 10:17|Mountain View Cit...|            27|     48|       Subscriber|   97214|\n",
            "|4251|      77|8/29/2013 11:29|  San Jose City Hall|              10|8/29/2013 11:30|  San Jose City Hall|            10|     26|       Subscriber|   95060|\n",
            "|4299|      83|8/29/2013 12:02|South Van Ness at...|              66|8/29/2013 12:04|      Market at 10th|            67|    319|       Subscriber|   94103|\n",
            "|4927|     103|8/29/2013 18:54| Golden Gate at Polk|              59|8/29/2013 18:56| Golden Gate at Polk|            59|    527|       Subscriber|   94109|\n",
            "|4500|     109|8/29/2013 13:25|Santa Clara at Al...|               4|8/29/2013 13:27|    Adobe on Almaden|             5|    679|       Subscriber|   95112|\n",
            "|4563|     111|8/29/2013 14:02| San Salvador at 1st|               8|8/29/2013 14:04| San Salvador at 1st|             8|    687|       Subscriber|   95112|\n",
            "|4760|     113|8/29/2013 17:01|South Van Ness at...|              66|8/29/2013 17:03|South Van Ness at...|            66|    553|       Subscriber|   94103|\n",
            "|4258|     114|8/29/2013 11:33|  San Jose City Hall|              10|8/29/2013 11:35|         MLK Library|            11|    107|       Subscriber|   95060|\n",
            "|4549|     125|8/29/2013 13:52|     Spear at Folsom|              49|8/29/2013 13:55|Embarcadero at Br...|            54|    368|       Subscriber|   94109|\n",
            "|4498|     126|8/29/2013 13:23|    San Pedro Square|               6|8/29/2013 13:25|Santa Clara at Al...|             4|     26|       Subscriber|   95112|\n",
            "|4965|     129|8/29/2013 19:32|Mountain View Cal...|              28|8/29/2013 19:35|Mountain View Cal...|            28|    140|       Subscriber|   94041|\n",
            "|4557|     130|8/29/2013 13:57|   2nd at South Park|              64|8/29/2013 13:59|   2nd at South Park|            64|    371|       Subscriber|   94122|\n",
            "|4386|     134|8/29/2013 12:31|     Clay at Battery|              41|8/29/2013 12:33|     Beale at Market|            56|    503|       Subscriber|   94109|\n",
            "|4749|     138|8/29/2013 16:57|     Post at Kearney|              47|8/29/2013 16:59|     Post at Kearney|            47|    408|       Subscriber|   94117|\n",
            "|4242|     141|8/29/2013 11:25|  San Jose City Hall|              10|8/29/2013 11:27|  San Jose City Hall|            10|     26|       Subscriber|   95060|\n",
            "|4329|     142|8/29/2013 12:11|      Market at 10th|              67|8/29/2013 12:14|      Market at 10th|            67|    319|       Subscriber|   94103|\n",
            "|5097|     142|8/29/2013 22:21|   Steuart at Market|              74|8/29/2013 22:24|Harry Bridges Pla...|            50|    564|       Subscriber|   94115|\n",
            "|5084|     144|8/29/2013 22:06|  Powell Street BART|              39|8/29/2013 22:08|       Market at 4th|            76|    574|       Subscriber|   94115|\n",
            "+----+--------+---------------+--------------------+----------------+---------------+--------------------+--------------+-------+-----------------+--------+\n",
            "only showing top 20 rows\n",
            "\n"
          ]
        }
      ],
      "source": [
        "from pyspark.sql import SparkSession\n",
        "from pyspark.sql import functions as F\n",
        "\n",
        "# Функция для создания сессии Spark\n",
        "def create_spark_session(app_name):\n",
        "    return SparkSession.builder\\\n",
        "    .appName(app_name)\\\n",
        "    .config(\"spark.sql.legacy.timeParserPolicy\", \"LEGACY\")\\\n",
        "    .getOrCreate()\n",
        "\n",
        "# Функция для чтения CSV-файлов\n",
        "def read_csv_file(spark, file_path):\n",
        "    try:\n",
        "        df = spark.read.option(\"header\", \"true\").option(\"inferSchema\", \"true\").csv(file_path)\n",
        "        return df\n",
        "    except Exception as e:\n",
        "        print(f\"Error reading file {file_path}: {e}\")\n",
        "        return None\n",
        "\n",
        "# Функция для преобразования колонок в числовой тип\n",
        "def cast_columns_to_double(df, columns):\n",
        "    for column in columns:\n",
        "        df = df.withColumn(column, F.col(column).cast(\"double\"))\n",
        "    return df\n",
        "\n",
        "# Создание сессии Spark\n",
        "spark = create_spark_session(\"BikeAnalysis\")\n",
        "\n",
        "# Чтение CSV-файлов\n",
        "trips_df = read_csv_file(spark, \"/content/trip.csv\")\n",
        "stations_df = read_csv_file(spark, \"/content/station.csv\")\n",
        "\n",
        "if trips_df is None or stations_df is None:\n",
        "    print(\"Не удалось прочитать один или несколько CSV файлов.  Программа завершается.\")\n",
        "    spark.stop()\n",
        "    exit()\n",
        "\n",
        "# Приведение нужных колонок к числовому типу\n",
        "columns_to_cast = [\"lat\", \"long\"]\n",
        "stations_df = cast_columns_to_double(stations_df, columns_to_cast)\n",
        "\n",
        "stations_df.show()\n",
        "trips_df.show()\n"
      ]
    },
    {
      "cell_type": "markdown",
      "source": [
        "**1. Найти велосипед с максимальным временем пробега.**"
      ],
      "metadata": {
        "id": "h4YFSEHWa8Oj"
      }
    },
    {
      "cell_type": "code",
      "source": [
        "from pyspark.sql.functions import unix_timestamp, col, sum as spark_sum\n",
        "try:\n",
        "    trips_with_duration = trips_df.withColumn(\n",
        "        \"start_timestamp\", unix_timestamp(col(\"start_date\"), \"M/d/yyyy H:mm\").cast(\"long\")\n",
        "    ).withColumn(\n",
        "        \"end_timestamp\", unix_timestamp(col(\"end_date\"), \"M/d/yyyy H:mm\").cast(\"long\")\n",
        "    ).withColumn(\n",
        "        \"duration_minutes\", (col(\"end_timestamp\") - col(\"start_timestamp\")) / 60\n",
        "    )\n",
        "except Exception as e:\n",
        "    print(f\"Ошибка при преобразовании дат: {e}. Убедитесь, что формат даты в файле trips.csv соответствует 'M/d/yyyy H:mm'.\")\n",
        "    spark.stop()\n",
        "    exit()\n",
        "\n",
        "# Группируем по bike_id и находим велосипед с максимальным временем пробега\n",
        "bike_max = trips_with_duration.groupBy(\"bike_id\").agg(\n",
        "    spark_sum(\"duration_minutes\").alias(\"total_minutes\")\n",
        ").orderBy(col(\"total_minutes\").desc()).limit(1)\n",
        "\n",
        "bike_max.show()\n"
      ],
      "metadata": {
        "colab": {
          "base_uri": "https://localhost:8080/"
        },
        "id": "Kti7Dv6UXKRs",
        "outputId": "07da223a-77f4-49bc-936b-01ec3ec65128"
      },
      "execution_count": 2,
      "outputs": [
        {
          "output_type": "stream",
          "name": "stdout",
          "text": [
            "+-------+-------------+\n",
            "|bike_id|total_minutes|\n",
            "+-------+-------------+\n",
            "|    535|     310262.0|\n",
            "+-------+-------------+\n",
            "\n"
          ]
        }
      ]
    },
    {
      "cell_type": "markdown",
      "source": [
        "**2. Найти наибольшее геодезическое расстояние между станциями.**"
      ],
      "metadata": {
        "id": "-yNg3JkTcDH1"
      }
    },
    {
      "cell_type": "code",
      "source": [
        "from pyspark.sql.functions import max, radians, sin, cos, sqrt, atan2, col\n",
        "\n",
        "station_pairs = stations_df.alias(\"station1\").crossJoin(stations_df.alias(\"station2\")).filter(col(\"station1.id\") < col(\"station2.id\"))\n",
        "\n",
        "# Вычисляем расстояние между станциями\n",
        "def haversine(lat1, lon1, lat2, lon2):\n",
        "    R = 6371.0  # Радиус Земли в километрах\n",
        "\n",
        "    dlat = radians(lat2) - radians(lat1)\n",
        "    dlon = radians(lon2) - radians(lon1)\n",
        "\n",
        "    a = sin(dlat / 2)**2 + cos(radians(lat1)) * cos(radians(lat2)) * sin(dlon / 2)**2\n",
        "    c = 2 * atan2(sqrt(a), sqrt(1 - a))\n",
        "\n",
        "    distance = R * c\n",
        "    return distance\n",
        "\n",
        "spark.udf.register(\"haversine\", haversine)\n",
        "\n",
        "station_pairs = station_pairs.withColumn(\"distance\", haversine(col(\"station1.lat\"), col(\"station1.long\"), col(\"station2.lat\"), col(\"station2.long\")))\n",
        "\n",
        "# Вычисляем максимальное расстояние между станциями\n",
        "max_distance = station_pairs.agg(max(\"distance\")).collect()[0][0]\n",
        "\n",
        "print(f\"Максимальное геодезическое расстояние между станциями равно {max_distance:.2f} километрам\")"
      ],
      "metadata": {
        "colab": {
          "base_uri": "https://localhost:8080/"
        },
        "id": "2I0JCA3LXKK0",
        "outputId": "bead56cb-8c9d-4c3a-a78b-b213a7a12ead"
      },
      "execution_count": 3,
      "outputs": [
        {
          "output_type": "stream",
          "name": "stdout",
          "text": [
            "Максимальное геодезическое расстояние между станциями равно 69.92 километрам\n"
          ]
        }
      ]
    },
    {
      "cell_type": "markdown",
      "source": [
        "**3. Найти путь велосипеда с максимальным временем пробега через станции.**"
      ],
      "metadata": {
        "id": "HU4LGozsc67K"
      }
    },
    {
      "cell_type": "code",
      "source": [
        "try:\n",
        "    trips_with_duration = trips_df.withColumn(\n",
        "        \"start_timestamp\", unix_timestamp(col(\"start_date\"), \"M/d/yyyy H:mm\").cast(\"long\")\n",
        "    ).withColumn(\n",
        "        \"end_timestamp\", unix_timestamp(col(\"end_date\"), \"M/d/yyyy H:mm\").cast(\"long\")\n",
        "    ).withColumn(\n",
        "        \"duration_minutes\", (col(\"end_timestamp\") - col(\"start_timestamp\")) / 60\n",
        "    )\n",
        "except Exception as e:\n",
        "    print(f\"Ошибка при преобразовании дат: {e}. Убедитесь, что формат даты в файле trips.csv соответствует 'M/d/yyyy H:mm'.\")\n",
        "    spark.stop()\n",
        "    exit()\n",
        "\n",
        "# Группируем по bike_id и находим велосипед с максимальным временем пробега\n",
        "bike_max = trips_with_duration.groupBy(\"bike_id\").agg(\n",
        "    spark_sum(\"duration_minutes\").alias(\"total_minutes\")\n",
        ").orderBy(col(\"total_minutes\").desc()).limit(1)\n",
        "\n",
        "\n",
        "# Проверка, что bike_max не пуст\n",
        "bike_max_list = bike_max.collect()\n",
        "if not bike_max_list:\n",
        "    print(\"Не удалось найти велосипед с максимальным временем пробега. Возможно, данные отсутствуют или некорректны.\")\n",
        "    spark.stop()\n",
        "    exit()\n",
        "\n",
        "# Получаем bike_id с максимальным пробегом\n",
        "try:\n",
        "    bike_id_max = bike_max_list[0][\"bike_id\"]\n",
        "except KeyError:\n",
        "    print(\"Столбец 'bike_id' не найден в DataFrame bike_max. Убедитесь, что данные корректны.\")\n",
        "    spark.stop()\n",
        "    exit()\n",
        "\n",
        "\n",
        "# Отбираем поездки для этого велосипеда и сортируем по start_date\n",
        "bike_trips = trips_with_duration.filter(col(\"bike_id\") == bike_id_max) \\\n",
        "    .select(\"start_date\", \"start_station_name\", \"end_date\", \"end_station_name\") \\\n",
        "    .orderBy(\"start_date\")\n",
        "\n",
        "bike_trips.show(truncate=False)"
      ],
      "metadata": {
        "colab": {
          "base_uri": "https://localhost:8080/"
        },
        "id": "CdPTEtKEXKHb",
        "outputId": "c60697dc-ff54-42bd-997d-56b3dbf22a35"
      },
      "execution_count": 4,
      "outputs": [
        {
          "output_type": "stream",
          "name": "stdout",
          "text": [
            "+---------------+---------------------------------------------+---------------+---------------------------------------------+\n",
            "|start_date     |start_station_name                           |end_date       |end_station_name                             |\n",
            "+---------------+---------------------------------------------+---------------+---------------------------------------------+\n",
            "|1/1/2014 13:42 |Mechanics Plaza (Market at Battery)          |1/1/2014 14:36 |Embarcadero at Sansome                       |\n",
            "|1/1/2014 18:51 |Embarcadero at Sansome                       |1/1/2014 19:13 |Market at 4th                                |\n",
            "|1/1/2014 19:48 |Market at 4th                                |1/1/2014 20:01 |South Van Ness at Market                     |\n",
            "|1/10/2014 20:13|Market at 10th                               |1/10/2014 20:17|Powell Street BART                           |\n",
            "|1/10/2014 8:09 |Embarcadero at Folsom                        |1/10/2014 8:19 |San Francisco Caltrain (Townsend at 4th)     |\n",
            "|1/10/2014 8:21 |San Francisco Caltrain (Townsend at 4th)     |1/10/2014 8:31 |Temporary Transbay Terminal (Howard at Beale)|\n",
            "|1/10/2014 9:19 |Temporary Transbay Terminal (Howard at Beale)|1/10/2014 9:32 |Market at 10th                               |\n",
            "|1/11/2014 19:06|Powell Street BART                           |1/11/2014 19:11|Market at 10th                               |\n",
            "|1/12/2014 12:21|Market at 10th                               |1/12/2014 12:29|Market at 4th                                |\n",
            "|1/12/2014 17:36|Market at 4th                                |1/12/2014 17:58|San Francisco Caltrain (Townsend at 4th)     |\n",
            "|1/13/2014 17:04|Davis at Jackson                             |1/13/2014 17:06|Beale at Market                              |\n",
            "|1/13/2014 18:09|Beale at Market                              |1/13/2014 18:13|Davis at Jackson                             |\n",
            "|1/13/2014 6:43 |San Francisco Caltrain (Townsend at 4th)     |1/13/2014 6:54 |Embarcadero at Vallejo                       |\n",
            "|1/13/2014 8:20 |San Francisco Caltrain (Townsend at 4th)     |1/13/2014 8:31 |Market at Sansome                            |\n",
            "|1/13/2014 8:52 |Market at Sansome                            |1/13/2014 8:56 |Davis at Jackson                             |\n",
            "|1/14/2014 11:52|Howard at 2nd                                |1/14/2014 11:55|2nd at South Park                            |\n",
            "|1/14/2014 13:12|2nd at South Park                            |1/14/2014 13:14|2nd at Folsom                                |\n",
            "|1/14/2014 13:20|2nd at Folsom                                |1/14/2014 14:02|2nd at South Park                            |\n",
            "|1/14/2014 16:22|2nd at South Park                            |1/14/2014 16:26|San Francisco Caltrain (Townsend at 4th)     |\n",
            "|1/14/2014 20:23|San Francisco Caltrain (Townsend at 4th)     |1/14/2014 20:29|Embarcadero at Bryant                        |\n",
            "+---------------+---------------------------------------------+---------------+---------------------------------------------+\n",
            "only showing top 20 rows\n",
            "\n"
          ]
        }
      ]
    },
    {
      "cell_type": "markdown",
      "source": [
        "**4. Найти количество велосипедов в системе.**"
      ],
      "metadata": {
        "id": "e5qH8e8mekyB"
      }
    },
    {
      "cell_type": "code",
      "source": [
        "bike_count = trips_df.groupBy(\"bike_id\").agg(F.count(\"bike_id\").alias(\"count\")).count()\n",
        "\n",
        "print(f\"количество велосипедов в системе: {bike_count}\")"
      ],
      "metadata": {
        "colab": {
          "base_uri": "https://localhost:8080/"
        },
        "id": "MwZD_Fv9XKBr",
        "outputId": "148a320e-3a19-4350-dff9-3456d47c17b8"
      },
      "execution_count": 5,
      "outputs": [
        {
          "output_type": "stream",
          "name": "stdout",
          "text": [
            "количество велосипедов в системе: 700\n"
          ]
        }
      ]
    },
    {
      "cell_type": "markdown",
      "source": [
        "**5. Найти пользователей потративших на поездки более 3 часов.**"
      ],
      "metadata": {
        "id": "z2XRmIHkfW6I"
      }
    },
    {
      "cell_type": "code",
      "source": [
        "filtered_users = trips_with_duration.where(F.col(\"zip_code\").isNotNull())\n",
        "\n",
        "# Группируем данные по zip_code и считаем общее время поездок\n",
        "user_time = filtered_users.groupBy(\"zip_code\").agg(\n",
        "    F.sum(\"duration_minutes\").alias(\"total_minutes\")\n",
        ")\n",
        "\n",
        "# Фильтруем пользователей, потративших более 180 минут (3 часа) на поездки\n",
        "active_users = user_time.where(F.col(\"total_minutes\") > 180)\n",
        "\n",
        "active_users.select(\"zip_code\", \"total_minutes\").show()"
      ],
      "metadata": {
        "colab": {
          "base_uri": "https://localhost:8080/"
        },
        "id": "6nl8gnYiXJ_G",
        "outputId": "4094f406-555d-467e-d82f-0b19168afb74"
      },
      "execution_count": 6,
      "outputs": [
        {
          "output_type": "stream",
          "name": "stdout",
          "text": [
            "+--------+-------------+\n",
            "|zip_code|total_minutes|\n",
            "+--------+-------------+\n",
            "|   94102|     318746.0|\n",
            "|   95134|      12114.0|\n",
            "|   84606|       1583.0|\n",
            "|   80305|       3010.0|\n",
            "|   60070|        483.0|\n",
            "|   95519|        505.0|\n",
            "|   43085|        194.0|\n",
            "|   91910|        840.0|\n",
            "|   77339|        230.0|\n",
            "|   48063|        228.0|\n",
            "|   85022|        209.0|\n",
            "|    1090|        340.0|\n",
            "|    2136|        266.0|\n",
            "|   11722|        405.0|\n",
            "|   95138|       2583.0|\n",
            "|   94610|      60490.0|\n",
            "|   94404|      59813.0|\n",
            "|   80301|       2537.0|\n",
            "|   91326|       1096.0|\n",
            "|   90742|        183.0|\n",
            "+--------+-------------+\n",
            "only showing top 20 rows\n",
            "\n"
          ]
        }
      ]
    },
    {
      "cell_type": "code",
      "source": [
        "# Остановка SparkSession\n",
        "spark.stop()\n",
        ""
      ],
      "metadata": {
        "id": "JZwJuUA9XJ8g"
      },
      "execution_count": 7,
      "outputs": []
    }
  ]
}