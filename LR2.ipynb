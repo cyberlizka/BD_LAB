{
  "nbformat": 4,
  "nbformat_minor": 0,
  "metadata": {
    "colab": {
      "provenance": []
    },
    "kernelspec": {
      "name": "python3",
      "display_name": "Python 3"
    },
    "language_info": {
      "name": "python"
    }
  },
  "cells": [
    {
      "cell_type": "code",
      "execution_count": 41,
      "metadata": {
        "id": "q6Jk2m74FD-v"
      },
      "outputs": [],
      "source": [
        "from pyspark.sql import SparkSession\n",
        "from pyspark.sql.functions import col, explode, split, regexp_replace, year, count, row_number, lower, to_timestamp\n",
        "from pyspark.sql.window import Window\n",
        "from pyspark.sql.types import StructType, StructField, StringType\n",
        "import xml.etree.ElementTree as ET\n",
        "\n",
        "spark = SparkSession.builder \\\n",
        "    .appName(\"LR2\") \\\n",
        "    .getOrCreate()\n"
      ]
    },
    {
      "cell_type": "code",
      "source": [
        "xml_file = 'posts_sample.xml'\n",
        "languages_file = \"programming-languages.csv\"\n"
      ],
      "metadata": {
        "id": "iiuYMhkgICHi"
      },
      "execution_count": 42,
      "outputs": []
    },
    {
      "cell_type": "code",
      "source": [
        "posts_schema = StructType([\n",
        "    StructField(\"CreationDate\", StringType(), True),\n",
        "    StructField(\"Tags\", StringType(), True)\n",
        "])"
      ],
      "metadata": {
        "id": "GmXlVxaCSBC4"
      },
      "execution_count": 43,
      "outputs": []
    },
    {
      "cell_type": "code",
      "source": [
        "# Функция для парсинга XML и создания RDD\n",
        "def parse_xml(xml_file):\n",
        "    tree = ET.parse(xml_file)\n",
        "    root = tree.getroot()\n",
        "    data = []\n",
        "    for row in root.findall('row'):\n",
        "        creation_date = row.attrib.get('CreationDate')\n",
        "        tags = row.attrib.get('Tags')\n",
        "        if creation_date and tags:\n",
        "            tags_clean = regexp_replace(col(\"Tags\"), \"[<>]\", \" \").alias(\"tags_clean\")\n",
        "            tags_list = tags.replace('<', ' ').replace('>', ' ').strip().split() #tags.split(\">\")\n",
        "            for tag in tags_list:\n",
        "                data.append((creation_date, tag))\n",
        "    return data"
      ],
      "metadata": {
        "id": "fWgRz3bDSCgU"
      },
      "execution_count": 44,
      "outputs": []
    },
    {
      "cell_type": "code",
      "source": [
        "# Создание DataFrame из XML данных\n",
        "posts_data = parse_xml(xml_file)\n",
        "posts_df = spark.createDataFrame(posts_data, schema=StructType([StructField(\"CreationDate\", StringType(), True),StructField(\"Tag\", StringType(), True)]))\n",
        "posts_df = posts_df.withColumn(\"Year\", year(to_timestamp(col(\"CreationDate\"))))\n",
        "posts_df.show(5)"
      ],
      "metadata": {
        "colab": {
          "base_uri": "https://localhost:8080/"
        },
        "id": "wTpEi9uFSKMr",
        "outputId": "db344044-0b76-4121-f383-edd4bdeb3248"
      },
      "execution_count": 47,
      "outputs": [
        {
          "output_type": "stream",
          "name": "stdout",
          "text": [
            "+--------------------+---------------+----+\n",
            "|        CreationDate|            Tag|Year|\n",
            "+--------------------+---------------+----+\n",
            "|2008-07-31T21:42:...|             c#|2008|\n",
            "|2008-07-31T21:42:...| floating-point|2008|\n",
            "|2008-07-31T21:42:...|type-conversion|2008|\n",
            "|2008-07-31T21:42:...|         double|2008|\n",
            "|2008-07-31T21:42:...|        decimal|2008|\n",
            "+--------------------+---------------+----+\n",
            "only showing top 5 rows\n",
            "\n"
          ]
        }
      ]
    },
    {
      "cell_type": "code",
      "source": [
        "languages_df = spark.read.csv(languages_file, header=True)\n",
        "languages_df = languages_df.withColumn(\"name\", lower(col(\"name\")))\n",
        "posts_df = posts_df.withColumn(\"Tag\", lower(col(\"Tag\")))\n",
        "\n",
        "# Выполнение join для фильтрации только тех тегов, которые есть в списке языков\n",
        "filtered_df = posts_df.join(languages_df, posts_df[\"Tag\"] == languages_df[\"name\"], \"inner\")\n",
        "filtered_df.show(5)"
      ],
      "metadata": {
        "colab": {
          "base_uri": "https://localhost:8080/"
        },
        "id": "W1hoL67sSK66",
        "outputId": "9d06399a-3ae8-4ecb-bbb6-051949047fa8"
      },
      "execution_count": 48,
      "outputs": [
        {
          "output_type": "stream",
          "name": "stdout",
          "text": [
            "+--------------------+----+----+----+--------------------+\n",
            "|        CreationDate| Tag|Year|name|       wikipedia_url|\n",
            "+--------------------+----+----+----+--------------------+\n",
            "|2010-09-23T12:13:...|java|2010|java|https://en.wikipe...|\n",
            "|2010-09-26T17:07:...| php|2010| php|https://en.wikipe...|\n",
            "|2010-09-30T18:27:...|ruby|2010|ruby|https://en.wikipe...|\n",
            "|2010-10-01T11:52:...|   c|2010|   c|https://en.wikipe...|\n",
            "|2010-10-04T21:05:...| php|2010| php|https://en.wikipe...|\n",
            "+--------------------+----+----+----+--------------------+\n",
            "only showing top 5 rows\n",
            "\n"
          ]
        }
      ]
    },
    {
      "cell_type": "code",
      "source": [
        "tag_counts = filtered_df.groupBy(\"Year\", \"Tag\").agg(count(\"*\").alias(\"Count\"))\n",
        "\n",
        "# Определение окна для ранжирования языков по популярности в каждом году\n",
        "window_spec = Window.partitionBy(\"Year\").orderBy(col(\"Count\").desc())\n",
        "\n",
        "# Вычисление ранга для каждого языка в каждом году и фильтрация топ-10\n",
        "top10_df = tag_counts.withColumn(\"Rank\", row_number().over(window_spec)) \\\n",
        "                     .filter(col(\"Rank\") <= 10) \\\n",
        "                     .orderBy(\"Year\", \"Rank\")\n",
        "top10_df.show(15)"
      ],
      "metadata": {
        "colab": {
          "base_uri": "https://localhost:8080/"
        },
        "id": "PnkjRsQZSNXH",
        "outputId": "e6f4d238-7c14-40a4-e124-67da7ee441a3"
      },
      "execution_count": 49,
      "outputs": [
        {
          "output_type": "stream",
          "name": "stdout",
          "text": [
            "+----+----------+-----+----+\n",
            "|Year|       Tag|Count|Rank|\n",
            "+----+----------+-----+----+\n",
            "|2008|      java|    5|   1|\n",
            "|2008|      ruby|    4|   2|\n",
            "|2008|         c|    2|   3|\n",
            "|2008|javascript|    2|   4|\n",
            "|2008|       x++|    1|   5|\n",
            "|2008|    python|    1|   6|\n",
            "|2008|        io|    1|   7|\n",
            "|2008|    groovy|    1|   8|\n",
            "|2008|       php|    1|   9|\n",
            "|2009|      java|   28|   1|\n",
            "|2009|    python|   23|   2|\n",
            "|2009|       php|   22|   3|\n",
            "|2009|javascript|   12|   4|\n",
            "|2009|      ruby|    8|   5|\n",
            "|2009|    delphi|    7|   6|\n",
            "+----+----------+-----+----+\n",
            "only showing top 15 rows\n",
            "\n"
          ]
        }
      ]
    },
    {
      "cell_type": "code",
      "source": [
        "# Сохранение DataFrame в Parquet\n",
        "top10_df.write.mode(\"overwrite\").parquet(\"top.parquet\")"
      ],
      "metadata": {
        "id": "cYPiDY3dFVd8"
      },
      "execution_count": 50,
      "outputs": []
    },
    {
      "cell_type": "code",
      "source": [
        "from google.colab import files\n",
        "# Архивация результата\n",
        "!zip -r top.zip top.parquet\n",
        "files.download(\"top.zip\")"
      ],
      "metadata": {
        "colab": {
          "base_uri": "https://localhost:8080/",
          "height": 104
        },
        "id": "OnUVpQoYFVbo",
        "outputId": "49fcb9e0-f1f2-4da8-bbf8-9d7dfd2ce4b6"
      },
      "execution_count": 51,
      "outputs": [
        {
          "output_type": "stream",
          "name": "stdout",
          "text": [
            "  adding: top.parquet/ (stored 0%)\n",
            "  adding: top.parquet/._SUCCESS.crc (stored 0%)\n",
            "  adding: top.parquet/part-00000-4925d76d-45bd-451e-b5b8-25c927b9f5bc-c000.snappy.parquet (deflated 36%)\n",
            "  adding: top.parquet/_SUCCESS (stored 0%)\n",
            "  adding: top.parquet/.part-00000-4925d76d-45bd-451e-b5b8-25c927b9f5bc-c000.snappy.parquet.crc (stored 0%)\n"
          ]
        },
        {
          "output_type": "display_data",
          "data": {
            "text/plain": [
              "<IPython.core.display.Javascript object>"
            ],
            "application/javascript": [
              "\n",
              "    async function download(id, filename, size) {\n",
              "      if (!google.colab.kernel.accessAllowed) {\n",
              "        return;\n",
              "      }\n",
              "      const div = document.createElement('div');\n",
              "      const label = document.createElement('label');\n",
              "      label.textContent = `Downloading \"${filename}\": `;\n",
              "      div.appendChild(label);\n",
              "      const progress = document.createElement('progress');\n",
              "      progress.max = size;\n",
              "      div.appendChild(progress);\n",
              "      document.body.appendChild(div);\n",
              "\n",
              "      const buffers = [];\n",
              "      let downloaded = 0;\n",
              "\n",
              "      const channel = await google.colab.kernel.comms.open(id);\n",
              "      // Send a message to notify the kernel that we're ready.\n",
              "      channel.send({})\n",
              "\n",
              "      for await (const message of channel.messages) {\n",
              "        // Send a message to notify the kernel that we're ready.\n",
              "        channel.send({})\n",
              "        if (message.buffers) {\n",
              "          for (const buffer of message.buffers) {\n",
              "            buffers.push(buffer);\n",
              "            downloaded += buffer.byteLength;\n",
              "            progress.value = downloaded;\n",
              "          }\n",
              "        }\n",
              "      }\n",
              "      const blob = new Blob(buffers, {type: 'application/binary'});\n",
              "      const a = document.createElement('a');\n",
              "      a.href = window.URL.createObjectURL(blob);\n",
              "      a.download = filename;\n",
              "      div.appendChild(a);\n",
              "      a.click();\n",
              "      div.remove();\n",
              "    }\n",
              "  "
            ]
          },
          "metadata": {}
        },
        {
          "output_type": "display_data",
          "data": {
            "text/plain": [
              "<IPython.core.display.Javascript object>"
            ],
            "application/javascript": [
              "download(\"download_d9237a36-07ad-4d8e-9c0e-74d60eeb7bec\", \"top.zip\", 2481)"
            ]
          },
          "metadata": {}
        }
      ]
    },
    {
      "cell_type": "code",
      "source": [
        "result_df = spark.read.parquet(\"top.parquet\")\n",
        "result_df.show(truncate=False, n=500)"
      ],
      "metadata": {
        "colab": {
          "base_uri": "https://localhost:8080/"
        },
        "id": "tuURtDLnKDDc",
        "outputId": "7f558b1f-c107-4123-ed4d-5947988e8425"
      },
      "execution_count": 53,
      "outputs": [
        {
          "output_type": "stream",
          "name": "stdout",
          "text": [
            "+----+-----------+-----+----+\n",
            "|Year|Tag        |Count|Rank|\n",
            "+----+-----------+-----+----+\n",
            "|2008|java       |5    |1   |\n",
            "|2008|ruby       |4    |2   |\n",
            "|2008|c          |2    |3   |\n",
            "|2008|javascript |2    |4   |\n",
            "|2008|x++        |1    |5   |\n",
            "|2008|python     |1    |6   |\n",
            "|2008|io         |1    |7   |\n",
            "|2008|groovy     |1    |8   |\n",
            "|2008|php        |1    |9   |\n",
            "|2009|java       |28   |1   |\n",
            "|2009|python     |23   |2   |\n",
            "|2009|php        |22   |3   |\n",
            "|2009|javascript |12   |4   |\n",
            "|2009|ruby       |8    |5   |\n",
            "|2009|delphi     |7    |6   |\n",
            "|2009|c          |6    |7   |\n",
            "|2009|objective-c|6    |8   |\n",
            "|2009|haskell    |4    |9   |\n",
            "|2009|bash       |3    |10  |\n",
            "|2010|java       |52   |1   |\n",
            "|2010|php        |46   |2   |\n",
            "|2010|javascript |44   |3   |\n",
            "|2010|python     |26   |4   |\n",
            "|2010|objective-c|23   |5   |\n",
            "|2010|c          |20   |6   |\n",
            "|2010|ruby       |12   |7   |\n",
            "|2010|delphi     |8    |8   |\n",
            "|2010|applescript|3    |9   |\n",
            "|2010|r          |3    |10  |\n",
            "|2011|php        |102  |1   |\n",
            "|2011|java       |93   |2   |\n",
            "|2011|javascript |83   |3   |\n",
            "|2011|python     |37   |4   |\n",
            "|2011|objective-c|34   |5   |\n",
            "|2011|c          |24   |6   |\n",
            "|2011|ruby       |20   |7   |\n",
            "|2011|perl       |9    |8   |\n",
            "|2011|delphi     |8    |9   |\n",
            "|2011|bash       |7    |10  |\n",
            "|2012|php        |154  |1   |\n",
            "|2012|javascript |132  |2   |\n",
            "|2012|java       |124  |3   |\n",
            "|2012|python     |69   |4   |\n",
            "|2012|objective-c|45   |5   |\n",
            "|2012|ruby       |27   |6   |\n",
            "|2012|c          |27   |7   |\n",
            "|2012|bash       |10   |8   |\n",
            "|2012|r          |9    |9   |\n",
            "|2012|scala      |6    |10  |\n",
            "|2013|php        |198  |1   |\n",
            "|2013|javascript |198  |2   |\n",
            "|2013|java       |194  |3   |\n",
            "|2013|python     |90   |4   |\n",
            "|2013|objective-c|40   |5   |\n",
            "|2013|c          |36   |6   |\n",
            "|2013|ruby       |32   |7   |\n",
            "|2013|r          |26   |8   |\n",
            "|2013|bash       |12   |9   |\n",
            "|2013|scala      |11   |10  |\n",
            "|2014|javascript |239  |1   |\n",
            "|2014|java       |228  |2   |\n",
            "|2014|php        |167  |3   |\n",
            "|2014|python     |109  |4   |\n",
            "|2014|objective-c|52   |5   |\n",
            "|2014|c          |52   |6   |\n",
            "|2014|r          |28   |7   |\n",
            "|2014|ruby       |24   |8   |\n",
            "|2014|bash       |17   |9   |\n",
            "|2014|matlab     |17   |10  |\n",
            "|2015|javascript |277  |1   |\n",
            "|2015|java       |209  |2   |\n",
            "|2015|php        |167  |3   |\n",
            "|2015|python     |121  |4   |\n",
            "|2015|r          |43   |5   |\n",
            "|2015|c          |38   |6   |\n",
            "|2015|objective-c|30   |7   |\n",
            "|2015|ruby       |21   |8   |\n",
            "|2015|matlab     |16   |9   |\n",
            "|2015|scala      |15   |10  |\n",
            "|2016|javascript |278  |1   |\n",
            "|2016|java       |184  |2   |\n",
            "|2016|php        |155  |3   |\n",
            "|2016|python     |146  |4   |\n",
            "|2016|r          |52   |5   |\n",
            "|2016|c          |32   |6   |\n",
            "|2016|ruby       |24   |7   |\n",
            "|2016|bash       |18   |8   |\n",
            "|2016|scala      |16   |9   |\n",
            "|2016|matlab     |15   |10  |\n",
            "|2017|javascript |246  |1   |\n",
            "|2017|java       |204  |2   |\n",
            "|2017|python     |193  |3   |\n",
            "|2017|php        |138  |4   |\n",
            "|2017|r          |56   |5   |\n",
            "|2017|c          |25   |6   |\n",
            "|2017|typescript |20   |7   |\n",
            "|2017|objective-c|19   |8   |\n",
            "|2017|ruby       |17   |9   |\n",
            "|2017|powershell |14   |10  |\n",
            "|2018|python     |220  |1   |\n",
            "|2018|javascript |198  |2   |\n",
            "|2018|java       |146  |3   |\n",
            "|2018|php        |111  |4   |\n",
            "|2018|r          |66   |5   |\n",
            "|2018|typescript |27   |6   |\n",
            "|2018|c          |24   |7   |\n",
            "|2018|scala      |23   |8   |\n",
            "|2018|powershell |13   |9   |\n",
            "|2018|bash       |12   |10  |\n",
            "|2019|python     |166  |1   |\n",
            "|2019|javascript |135  |2   |\n",
            "|2019|java       |95   |3   |\n",
            "|2019|php        |65   |4   |\n",
            "|2019|r          |37   |5   |\n",
            "|2019|typescript |17   |6   |\n",
            "|2019|c          |14   |7   |\n",
            "|2019|bash       |11   |8   |\n",
            "|2019|go         |9    |9   |\n",
            "|2019|matlab     |9    |10  |\n",
            "+----+-----------+-----+----+\n",
            "\n"
          ]
        }
      ]
    }
  ]
}